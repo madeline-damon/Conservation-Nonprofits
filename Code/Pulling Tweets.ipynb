{
 "cells": [
  {
   "cell_type": "code",
   "execution_count": 2,
   "metadata": {},
   "outputs": [],
   "source": [
    "import tweepy\n",
    "from MD_API_Keys import api_key, api_key_secret, access_token, access_token_secret\n",
    "\n",
    "import requests  # To get the pages\n",
    "from bs4 import BeautifulSoup # and to process them\n",
    "from bs4.element import Comment\n",
    "\n",
    "sw = stopwords.words(\"english\")"
   ]
  },
  {
   "cell_type": "code",
   "execution_count": 3,
   "metadata": {},
   "outputs": [],
   "source": [
    "##Authenticating tweepy\n",
    "auth = tweepy.OAuthHandler(api_key,api_key_secret)\n",
    "auth.set_access_token(access_token,access_token_secret)\n",
    "api = tweepy.API(auth,wait_on_rate_limit=True)"
   ]
  },
  {
   "cell_type": "markdown",
   "metadata": {},
   "source": [
    "## Small Nonprofits"
   ]
  },
  {
   "cell_type": "code",
   "execution_count": 4,
   "metadata": {},
   "outputs": [],
   "source": [
    "# Storing all twitter handles in a dictionary\n",
    "small_dict = {'sonoraninst': [],\n",
    "             'TheICCFGroup': [],\n",
    "             'CECSB': [],\n",
    "             '1000oregon': [],\n",
    "             'EarthShare': [],\n",
    "             'CRKeeper': [],\n",
    "             'ConservationNW': [],\n",
    "             'QLFNews': [],\n",
    "             'globalgreen': [],\n",
    "             'SustainableNW': []\n",
    "             }"
   ]
  },
  {
   "cell_type": "code",
   "execution_count": 5,
   "metadata": {},
   "outputs": [],
   "source": [
    "#Creating a for loop to pull 1000 tweets form each nonprofit and store them in a text file\n",
    "for nonprofit in small_dict.keys():\n",
    "\n",
    "    # Writing a text file to store tweets\n",
    "    with open(f'{nonprofit}_tweets.txt','w', encoding='utf-8') as out_file:\n",
    "        count = 1000\n",
    "        tweets = tweepy.Cursor(api.user_timeline,id=nonprofit).items(count)\n",
    "        tweets_list = [[tweet.text] for tweet in tweets] \n",
    "        out_file.write(str(tweets_list))"
   ]
  },
  {
   "cell_type": "code",
   "execution_count": 8,
   "metadata": {},
   "outputs": [],
   "source": [
    "small_tweets= [\"sonoraninst_tweets.txt\",\n",
    "              \"TheICCFGroup_tweets.txt\",\n",
    "              \"CECSB_tweets.txt\",\n",
    "              \"1000oregon_tweets.txt\",\n",
    "              \"EarthShare_tweets.txt\",\n",
    "              \"CRKeeper_tweets.txt\",\n",
    "              \"ConservationNW_tweets.txt\",\n",
    "              \"QLFNews_tweets.txt\",\n",
    "              \"globalgreen_tweets.txt\",\n",
    "              \"SustainableNW_tweets.txt\" ]"
   ]
  },
  {
   "cell_type": "markdown",
   "metadata": {},
   "source": [
    "## Medium Nonprofits"
   ]
  },
  {
   "cell_type": "code",
   "execution_count": 6,
   "metadata": {},
   "outputs": [],
   "source": [
    "# Storing all twitter handles in a dictionary\n",
    "medium_dict = {'wildearthguard': [],\n",
    "             'WTA_hikers': [],\n",
    "             'ncascadeswa': [],\n",
    "             'PCTAssociation': [],\n",
    "             'PachamamaOrg': [],\n",
    "             'TreePeople_org': [],\n",
    "             'mohonkpreserve': [],\n",
    "             'PECPA': [],\n",
    "             'standearth': [],\n",
    "             'earthisland': []\n",
    "             }"
   ]
  },
  {
   "cell_type": "code",
   "execution_count": 7,
   "metadata": {},
   "outputs": [],
   "source": [
    "#Creating a for loop to pull 1000 tweets form each nonprofit and store them in a text file\n",
    "for nonprofit in medium_dict.keys():\n",
    "\n",
    "    # Writing a text file to store tweets\n",
    "    with open(f'{nonprofit}_tweets.txt','w', encoding='utf-8') as out_file:\n",
    "        count = 1000\n",
    "        tweets = tweepy.Cursor(api.user_timeline,id=nonprofit).items(count)\n",
    "        tweets_list = [[tweet.text] for tweet in tweets] \n",
    "        out_file.write(str(tweets_list))"
   ]
  },
  {
   "cell_type": "code",
   "execution_count": 9,
   "metadata": {},
   "outputs": [],
   "source": [
    "medium_tweets = [\"wildearthguard_tweets.txt\",\n",
    "                \"WTA_hikers_tweets.txt\",\n",
    "                \"ncascadeswa_tweets.txt\",\n",
    "                \"PCTAssociation_tweets.txt\",\n",
    "                \"PachamamaOrg_tweets.txt\",\n",
    "                \"TreePeople_org_tweets.txt\",\n",
    "                \"mohonkpreserve_tweets.txt\",\n",
    "                \"PECPA_tweets.txt\",\n",
    "                \"standearth_tweets.txt\",\n",
    "                 \"earthisland_tweets.txt\"\n",
    "                ]"
   ]
  },
  {
   "cell_type": "markdown",
   "metadata": {},
   "source": [
    "## Large Nonprofits"
   ]
  },
  {
   "cell_type": "code",
   "execution_count": 11,
   "metadata": {},
   "outputs": [],
   "source": [
    "# Storing all twitter handles in a dictionary\n",
    "large_dict = {'CeresNews': [],\n",
    "             'chesapeakebay': [],\n",
    "             'GrowNYC': [],\n",
    "             'RockyMtnInst': [],\n",
    "             'Earthjustice': [],\n",
    "             'rff': [],\n",
    "             'Waterkeeper': [],\n",
    "             'TPWFoundation': [],\n",
    "             'the_sca': [],\n",
    "             'ClimateReality': []\n",
    "             }"
   ]
  },
  {
   "cell_type": "code",
   "execution_count": 12,
   "metadata": {},
   "outputs": [],
   "source": [
    "#Creating a for loop to pull 1000 tweets form each nonprofit and store them in a text file\n",
    "for nonprofit in large_dict.keys():\n",
    "\n",
    "    # Writing a text file to store tweets\n",
    "    with open(f'{nonprofit}_tweets.txt','w', encoding='utf-8') as out_file:\n",
    "        count = 1000\n",
    "        tweets = tweepy.Cursor(api.user_timeline,id=nonprofit).items(count)\n",
    "        tweets_list = [[tweet.text] for tweet in tweets] \n",
    "        out_file.write(str(tweets_list))"
   ]
  },
  {
   "cell_type": "code",
   "execution_count": 13,
   "metadata": {},
   "outputs": [],
   "source": [
    "large_tweets = [\"CeresNews_tweets.txt\",\n",
    "               \"chesapeakebay_tweets.txt\",\n",
    "               \"GrowNYC_tweets.txt\",\n",
    "               \"RockyMtnInst_tweets.txt\",\n",
    "               \"Earthjustice_tweets.txt\",\n",
    "               \"rff_tweets.txt\",\n",
    "               \"Waterkeeper_tweets.txt\",\n",
    "               \"TPWFoundation_tweets.txt\",\n",
    "               \"the_sca_tweets.txt\",\n",
    "               \"ClimateReality_tweets.txt\"]"
   ]
  }
 ],
 "metadata": {
  "kernelspec": {
   "display_name": "Python 3",
   "language": "python",
   "name": "python3"
  },
  "language_info": {
   "codemirror_mode": {
    "name": "ipython",
    "version": 3
   },
   "file_extension": ".py",
   "mimetype": "text/x-python",
   "name": "python",
   "nbconvert_exporter": "python",
   "pygments_lexer": "ipython3",
   "version": "3.7.6"
  }
 },
 "nbformat": 4,
 "nbformat_minor": 4
}
