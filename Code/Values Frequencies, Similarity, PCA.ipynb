{
 "cells": [
  {
   "cell_type": "code",
   "execution_count": 151,
   "metadata": {},
   "outputs": [
    {
     "ename": "ModuleNotFoundError",
     "evalue": "No module named 'researchpy'",
     "output_type": "error",
     "traceback": [
      "\u001b[1;31m---------------------------------------------------------------------------\u001b[0m",
      "\u001b[1;31mModuleNotFoundError\u001b[0m                       Traceback (most recent call last)",
      "\u001b[1;32m<ipython-input-151-2bf3d0dac3a3>\u001b[0m in \u001b[0;36m<module>\u001b[1;34m\u001b[0m\n\u001b[0;32m     12\u001b[0m \u001b[1;33m\u001b[0m\u001b[0m\n\u001b[0;32m     13\u001b[0m \u001b[1;32mimport\u001b[0m \u001b[0mpandas\u001b[0m \u001b[1;32mas\u001b[0m \u001b[0mpd\u001b[0m\u001b[1;33m\u001b[0m\u001b[1;33m\u001b[0m\u001b[0m\n\u001b[1;32m---> 14\u001b[1;33m \u001b[1;32mimport\u001b[0m \u001b[0mresearchpy\u001b[0m \u001b[1;32mas\u001b[0m \u001b[0mrp\u001b[0m\u001b[1;33m\u001b[0m\u001b[1;33m\u001b[0m\u001b[0m\n\u001b[0m\u001b[0;32m     15\u001b[0m \u001b[1;33m\u001b[0m\u001b[0m\n\u001b[0;32m     16\u001b[0m \u001b[0msw\u001b[0m \u001b[1;33m=\u001b[0m \u001b[0mstopwords\u001b[0m\u001b[1;33m.\u001b[0m\u001b[0mwords\u001b[0m\u001b[1;33m(\u001b[0m\u001b[1;34m\"english\"\u001b[0m\u001b[1;33m)\u001b[0m\u001b[1;33m\u001b[0m\u001b[1;33m\u001b[0m\u001b[0m\n",
      "\u001b[1;31mModuleNotFoundError\u001b[0m: No module named 'researchpy'"
     ]
    }
   ],
   "source": [
    "import nltk\n",
    "from collections import Counter\n",
    "from nltk.corpus import stopwords\n",
    "from nltk import FreqDist\n",
    "\n",
    "import textwrap\n",
    "\n",
    "import matplotlib.pyplot as plt\n",
    "\n",
    "import numpy as np\n",
    "import scipy\n",
    "\n",
    "import pandas as pd\n",
    "\n",
    "\n",
    "sw = stopwords.words(\"english\")"
   ]
  },
  {
   "cell_type": "code",
   "execution_count": 3,
   "metadata": {},
   "outputs": [],
   "source": [
    "small_tweets= [\"sonoraninst_tweets.txt\",\n",
    "              \"TheICCFGroup_tweets.txt\",\n",
    "              \"CECSB_tweets.txt\",\n",
    "              \"1000oregon_tweets.txt\",\n",
    "              \"EarthShare_tweets.txt\",\n",
    "              \"CRKeeper_tweets.txt\",\n",
    "              \"ConservationNW_tweets.txt\",\n",
    "              \"QLFNews_tweets.txt\",\n",
    "              \"globalgreen_tweets.txt\",\n",
    "              \"SustainableNW_tweets.txt\" ]\n",
    "\n",
    "medium_tweets = [\"wildearthguard_tweets.txt\",\n",
    "                \"WTA_hikers_tweets.txt\",\n",
    "                \"ncascadeswa_tweets.txt\",\n",
    "                \"PCTAssociation_tweets.txt\",\n",
    "                \"PachamamaOrg_tweets.txt\",\n",
    "                \"TreePeople_org_tweets.txt\",\n",
    "                \"mohonkpreserve_tweets.txt\",\n",
    "                \"PECPA_tweets.txt\",\n",
    "                \"standearth_tweets.txt\",\n",
    "                 \"earthisland_tweets.txt\"\n",
    "                ]\n",
    "\n",
    "large_tweets = [\"CeresNews_tweets.txt\",\n",
    "               \"chesapeakebay_tweets.txt\",\n",
    "               \"GrowNYC_tweets.txt\",\n",
    "               \"RockyMtnInst_tweets.txt\",\n",
    "               \"Earthjustice_tweets.txt\",\n",
    "               \"rff_tweets.txt\",\n",
    "               \"Waterkeeper_tweets.txt\",\n",
    "               \"TPWFoundation_tweets.txt\",\n",
    "               \"the_sca_tweets.txt\",\n",
    "               \"ClimateReality_tweets.txt\"]\n",
    "\n",
    "small_MVVs = [\n",
    "             \"www_cecsb_org_about_our-mission.txt\",\n",
    "             \"www_chattahoochee_org_about.txt\",\n",
    "             \"www_conservationnw_org_about-us.txt\",\n",
    "             \"Earthshare MVV.txt\",\n",
    "             \"www_friends_org_about-usour-story.txt\",\n",
    "             \"www_globalgreen_org.txt\",\n",
    "             \"International Conservation MVV.txt\",\n",
    "             \"www_qlf_org_about-qlf_mission-vision.txt\",\n",
    "             \"www_sonoraninstitute_org_our-story_mission-vision.txt\",\n",
    "             \"www_sustainablenorthwest_orgfocus.txt\"]\n",
    "\n",
    "medium_MVVs = [\"www_earthisland_org_index_php_aboutUsabout-earth-island.txt\",\n",
    "                    \"www_mohonkpreserve_org_what-we-do.txt\",\n",
    "                    \"www_ncascades_org_discovernorth-cascades-institute.txt\",\n",
    "                    \"www_pachamama_org_aboutmission.txt\",\n",
    "                    \"Pacific Crest MVV.txt\",\n",
    "                    \"www_pecpa_org_about.txt\",\n",
    "                    \"www_stand_earth_aboutmission-and-principles.txt\",\n",
    "                    \"www_treepeople_org_our-work.txt\",\n",
    "                    \"www_wildearthguardians_org_about-us_mission-vision-history.txt\",\n",
    "                    \"www_wta_org_our-workabout.txt\"]\n",
    "\n",
    "large_MVVs = [\"www_cbf_org_about-cbf_our-mission.txt\",\n",
    "                    \"www_ceres_orgabout-us.txt\",\n",
    "                    \"www_climaterealityproject_orgour-mission.txt\",\n",
    "                    \"www_earthjustice_orgabout.txt\",\n",
    "                    \"www_grownyc_orgabout.txt\",\n",
    "                    \"www_rff_org_about.txt\",\n",
    "                    \"RMI MVV.txt\",\n",
    "                    \"www_thesca_orgabout.txt\",\n",
    "                    \"Texas Parks MVV.txt\",\n",
    "                    \"www_waterkeeper_org_who-we-are.txt\"]"
   ]
  },
  {
   "cell_type": "code",
   "execution_count": 4,
   "metadata": {},
   "outputs": [],
   "source": [
    "##First I will read in the text files that contain all the values and their synonyms\n",
    "\n",
    "values_files = [\"achievement.txt\",\n",
    "                \"benevolence.txt\",\n",
    "                \"conformity.txt\",\n",
    "                \"hedonism.txt\",\n",
    "                \"power.txt\",\n",
    "                \"security.txt\",\n",
    "                \"self_direction.txt\",\n",
    "                \"stimulation.txt\",\n",
    "                \"tradition.txt\",\n",
    "                \"universalism.txt\"]\n",
    "\n",
    "values_dict=dict()\n",
    "\n",
    "for file in values_files: #For each text file\n",
    "    with open(file, \"r\", encoding = \"Latin-1\") as infile: #Read in and tokenize the file\n",
    "        key=file.replace(\"_synonyms.txt\", \"\")\n",
    "        words=infile.read()\n",
    "        tokens=nltk.word_tokenize(words)\n",
    "        \n",
    "        values_dict[key] = set(t for t in tokens if t.isalpha()) #Add the list of synonyms into the dictionary using the overarching value as the key"
   ]
  },
  {
   "cell_type": "code",
   "execution_count": 5,
   "metadata": {},
   "outputs": [],
   "source": [
    "def identify_values(file,v):  #Function will open a file, tokenize it, and store clean tokens in a list\n",
    "    \n",
    "    results=dict() #results will be stored in a dictionary\n",
    "    \n",
    "    open_file = open(file, \"r\", encoding = \"Latin-1\")\n",
    "    \n",
    "    read_file = open_file.read()\n",
    "    \n",
    "    tokenize_file = nltk.word_tokenize(read_file)\n",
    "    \n",
    "    clean_tokens = []\n",
    "    \n",
    "    for tokens in tokenize_file:\n",
    "        if tokens not in sw and tokens.isalpha():\n",
    "            clean_tokens.append(tokens.lower())\n",
    "            \n",
    "    for value,words in v.items():  #for each key and synonym pair in the value dictionary\n",
    "        \n",
    "        matching_words = [w for w in clean_tokens if w in words  ] #identify and store words that appear in synonyms and clean tokens\n",
    "    \n",
    "        values_freq=len(matching_words)/len(clean_tokens)  #Divide the amount of matching words by all words in text file\n",
    "        \n",
    "        results[value] = round(values_freq, 4) \n",
    "    \n",
    "    \n",
    "    return(results) ##Return the frequencies of each value, which are in a dictionary\n",
    "            \n",
    "    \n"
   ]
  },
  {
   "cell_type": "code",
   "execution_count": 6,
   "metadata": {},
   "outputs": [],
   "source": [
    "def identify_synonyms(file, value):\n",
    "    open_file = open(file, \"r\", encoding = \"Latin-1\")\n",
    "    \n",
    "    read_file = open_file.read()\n",
    "    \n",
    "    tokenize_file = nltk.word_tokenize(read_file)\n",
    "    \n",
    "    clean_tokens = []\n",
    "    \n",
    "    for tokens in tokenize_file:\n",
    "        if tokens not in sw and tokens.isalpha():\n",
    "            clean_tokens.append(tokens.lower())\n",
    "            \n",
    "    for values in values_dict.keys():\n",
    "    \n",
    "        key=value\n",
    "        \n",
    "        matching_words = []\n",
    "    \n",
    "        for word in values_dict[value]:\n",
    "            if word in clean_tokens:\n",
    "                matching_words.append(word)\n",
    "        \n",
    "    return(matching_words)\n",
    "        "
   ]
  },
  {
   "cell_type": "markdown",
   "metadata": {},
   "source": [
    "## Values Frequencies in tweets"
   ]
  },
  {
   "cell_type": "code",
   "execution_count": 9,
   "metadata": {},
   "outputs": [
    {
     "name": "stdout",
     "output_type": "stream",
     "text": [
      "sonoraninst_tweets.txt\n",
      "\n",
      "{'achievement.txt': 0.0089, 'benevolence.txt': 0.0196, 'conformity.txt': 0.0058, 'hedonism.txt': 0.0072, 'power.txt': 0.0094, 'security.txt': 0.0083, 'self_direction.txt': 0.0197, 'stimulation.txt': 0.0122, 'tradition.txt': 0.0049, 'universalism.txt': 0.0098}\n",
      "\n",
      "\n",
      "TheICCFGroup_tweets.txt\n",
      "\n",
      "{'achievement.txt': 0.0064, 'benevolence.txt': 0.0081, 'conformity.txt': 0.0112, 'hedonism.txt': 0.0021, 'power.txt': 0.0121, 'security.txt': 0.0122, 'self_direction.txt': 0.0129, 'stimulation.txt': 0.0046, 'tradition.txt': 0.0012, 'universalism.txt': 0.0123}\n",
      "\n",
      "\n",
      "CECSB_tweets.txt\n",
      "\n",
      "{'achievement.txt': 0.0082, 'benevolence.txt': 0.0164, 'conformity.txt': 0.0058, 'hedonism.txt': 0.0093, 'power.txt': 0.0091, 'security.txt': 0.01, 'self_direction.txt': 0.0173, 'stimulation.txt': 0.0176, 'tradition.txt': 0.0007, 'universalism.txt': 0.0189}\n",
      "\n",
      "\n",
      "1000oregon_tweets.txt\n",
      "\n",
      "{'achievement.txt': 0.0109, 'benevolence.txt': 0.0191, 'conformity.txt': 0.0108, 'hedonism.txt': 0.0047, 'power.txt': 0.0065, 'security.txt': 0.0101, 'self_direction.txt': 0.0261, 'stimulation.txt': 0.0093, 'tradition.txt': 0.0018, 'universalism.txt': 0.0147}\n",
      "\n",
      "\n",
      "EarthShare_tweets.txt\n",
      "\n",
      "{'achievement.txt': 0.0081, 'benevolence.txt': 0.0182, 'conformity.txt': 0.0062, 'hedonism.txt': 0.0077, 'power.txt': 0.0094, 'security.txt': 0.0222, 'self_direction.txt': 0.0214, 'stimulation.txt': 0.0168, 'tradition.txt': 0.0023, 'universalism.txt': 0.0218}\n",
      "\n",
      "\n",
      "CRKeeper_tweets.txt\n",
      "\n",
      "{'achievement.txt': 0.0072, 'benevolence.txt': 0.0234, 'conformity.txt': 0.0066, 'hedonism.txt': 0.0085, 'power.txt': 0.0073, 'security.txt': 0.0165, 'self_direction.txt': 0.0213, 'stimulation.txt': 0.0059, 'tradition.txt': 0.0015, 'universalism.txt': 0.0088}\n",
      "\n",
      "\n",
      "ConservationNW_tweets.txt\n",
      "\n",
      "{'achievement.txt': 0.0086, 'benevolence.txt': 0.012, 'conformity.txt': 0.0165, 'hedonism.txt': 0.0045, 'power.txt': 0.0101, 'security.txt': 0.017, 'self_direction.txt': 0.017, 'stimulation.txt': 0.0101, 'tradition.txt': 0.0031, 'universalism.txt': 0.0086}\n",
      "\n",
      "\n",
      "QLFNews_tweets.txt\n",
      "\n",
      "{'achievement.txt': 0.0058, 'benevolence.txt': 0.0158, 'conformity.txt': 0.0058, 'hedonism.txt': 0.0052, 'power.txt': 0.0045, 'security.txt': 0.0064, 'self_direction.txt': 0.0084, 'stimulation.txt': 0.0093, 'tradition.txt': 0.0061, 'universalism.txt': 0.0126}\n",
      "\n",
      "\n",
      "globalgreen_tweets.txt\n",
      "\n",
      "{'achievement.txt': 0.0085, 'benevolence.txt': 0.0123, 'conformity.txt': 0.0068, 'hedonism.txt': 0.0043, 'power.txt': 0.0068, 'security.txt': 0.0224, 'self_direction.txt': 0.0165, 'stimulation.txt': 0.0151, 'tradition.txt': 0.0015, 'universalism.txt': 0.0276}\n",
      "\n",
      "\n",
      "SustainableNW_tweets.txt\n",
      "\n",
      "{'achievement.txt': 0.0109, 'benevolence.txt': 0.0191, 'conformity.txt': 0.0126, 'hedonism.txt': 0.0059, 'power.txt': 0.0069, 'security.txt': 0.0048, 'self_direction.txt': 0.0148, 'stimulation.txt': 0.0123, 'tradition.txt': 0.0023, 'universalism.txt': 0.0078}\n",
      "\n",
      "\n"
     ]
    }
   ],
   "source": [
    "### Small Organizations ###\n",
    "\n",
    "#Printing the values in the tweet files\n",
    "for file in small_tweets:\n",
    "    print(file + \"\\n\\n\" + str(identify_values(file, values_dict)) + \"\\n\\n\" )"
   ]
  },
  {
   "cell_type": "code",
   "execution_count": 10,
   "metadata": {},
   "outputs": [
    {
     "name": "stdout",
     "output_type": "stream",
     "text": [
      "wildearthguard_tweets.txt\n",
      "\n",
      "{'achievement.txt': 0.0077, 'benevolence.txt': 0.0133, 'conformity.txt': 0.0109, 'hedonism.txt': 0.002, 'power.txt': 0.0138, 'security.txt': 0.0247, 'self_direction.txt': 0.0158, 'stimulation.txt': 0.0137, 'tradition.txt': 0.0041, 'universalism.txt': 0.0123}\n",
      "\n",
      "\n",
      "WTA_hikers_tweets.txt\n",
      "\n",
      "{'achievement.txt': 0.0113, 'benevolence.txt': 0.0302, 'conformity.txt': 0.0052, 'hedonism.txt': 0.0128, 'power.txt': 0.005, 'security.txt': 0.0058, 'self_direction.txt': 0.0196, 'stimulation.txt': 0.0068, 'tradition.txt': 0.0021, 'universalism.txt': 0.0044}\n",
      "\n",
      "\n",
      "ncascadeswa_tweets.txt\n",
      "\n",
      "{'achievement.txt': 0.0093, 'benevolence.txt': 0.0132, 'conformity.txt': 0.0035, 'hedonism.txt': 0.0108, 'power.txt': 0.0052, 'security.txt': 0.0055, 'self_direction.txt': 0.0114, 'stimulation.txt': 0.0093, 'tradition.txt': 0.002, 'universalism.txt': 0.0076}\n",
      "\n",
      "\n",
      "PCTAssociation_tweets.txt\n",
      "\n",
      "{'achievement.txt': 0.0091, 'benevolence.txt': 0.0254, 'conformity.txt': 0.0067, 'hedonism.txt': 0.0081, 'power.txt': 0.0059, 'security.txt': 0.0092, 'self_direction.txt': 0.014, 'stimulation.txt': 0.0051, 'tradition.txt': 0.0021, 'universalism.txt': 0.0045}\n",
      "\n",
      "\n",
      "PachamamaOrg_tweets.txt\n",
      "\n",
      "{'achievement.txt': 0.0067, 'benevolence.txt': 0.0139, 'conformity.txt': 0.0081, 'hedonism.txt': 0.0061, 'power.txt': 0.0123, 'security.txt': 0.0134, 'self_direction.txt': 0.0176, 'stimulation.txt': 0.0129, 'tradition.txt': 0.0066, 'universalism.txt': 0.0176}\n",
      "\n",
      "\n",
      "TreePeople_org_tweets.txt\n",
      "\n",
      "{'achievement.txt': 0.0051, 'benevolence.txt': 0.0259, 'conformity.txt': 0.0053, 'hedonism.txt': 0.0081, 'power.txt': 0.0043, 'security.txt': 0.0149, 'self_direction.txt': 0.0233, 'stimulation.txt': 0.016, 'tradition.txt': 0.002, 'universalism.txt': 0.02}\n",
      "\n",
      "\n",
      "mohonkpreserve_tweets.txt\n",
      "\n",
      "{'achievement.txt': 0.0071, 'benevolence.txt': 0.0151, 'conformity.txt': 0.0027, 'hedonism.txt': 0.0093, 'power.txt': 0.0044, 'security.txt': 0.0046, 'self_direction.txt': 0.0138, 'stimulation.txt': 0.0096, 'tradition.txt': 0.0186, 'universalism.txt': 0.0062}\n",
      "\n",
      "\n",
      "PECPA_tweets.txt\n",
      "\n",
      "{'achievement.txt': 0.0116, 'benevolence.txt': 0.0147, 'conformity.txt': 0.0078, 'hedonism.txt': 0.0067, 'power.txt': 0.0077, 'security.txt': 0.009, 'self_direction.txt': 0.0206, 'stimulation.txt': 0.0125, 'tradition.txt': 0.0013, 'universalism.txt': 0.0168}\n",
      "\n",
      "\n",
      "standearth_tweets.txt\n",
      "\n",
      "{'achievement.txt': 0.0122, 'benevolence.txt': 0.0068, 'conformity.txt': 0.0063, 'hedonism.txt': 0.0016, 'power.txt': 0.0099, 'security.txt': 0.0166, 'self_direction.txt': 0.0196, 'stimulation.txt': 0.0132, 'tradition.txt': 0.0013, 'universalism.txt': 0.0212}\n",
      "\n",
      "\n",
      "earthisland_tweets.txt\n",
      "\n",
      "{'achievement.txt': 0.0099, 'benevolence.txt': 0.0086, 'conformity.txt': 0.0075, 'hedonism.txt': 0.0032, 'power.txt': 0.012, 'security.txt': 0.0156, 'self_direction.txt': 0.017, 'stimulation.txt': 0.0098, 'tradition.txt': 0.0015, 'universalism.txt': 0.0232}\n",
      "\n",
      "\n"
     ]
    }
   ],
   "source": [
    "### Medium Organizations ###\n",
    "\n",
    "#Printing the values in the tweet files\n",
    "for file in medium_tweets:\n",
    "    print(file + \"\\n\\n\" + str(identify_values(file, values_dict)) + \"\\n\\n\" )"
   ]
  },
  {
   "cell_type": "code",
   "execution_count": 11,
   "metadata": {},
   "outputs": [
    {
     "name": "stdout",
     "output_type": "stream",
     "text": [
      "CeresNews_tweets.txt\n",
      "\n",
      "{'achievement.txt': 0.0198, 'benevolence.txt': 0.0092, 'conformity.txt': 0.0143, 'hedonism.txt': 0.0026, 'power.txt': 0.016, 'security.txt': 0.0155, 'self_direction.txt': 0.0241, 'stimulation.txt': 0.0287, 'tradition.txt': 0.0015, 'universalism.txt': 0.0354}\n",
      "\n",
      "\n",
      "chesapeakebay_tweets.txt\n",
      "\n",
      "{'achievement.txt': 0.0104, 'benevolence.txt': 0.0174, 'conformity.txt': 0.0066, 'hedonism.txt': 0.0047, 'power.txt': 0.0117, 'security.txt': 0.0154, 'self_direction.txt': 0.0167, 'stimulation.txt': 0.0126, 'tradition.txt': 0.0054, 'universalism.txt': 0.0142}\n",
      "\n",
      "\n",
      "GrowNYC_tweets.txt\n",
      "\n",
      "{'achievement.txt': 0.0063, 'benevolence.txt': 0.0224, 'conformity.txt': 0.0067, 'hedonism.txt': 0.0097, 'power.txt': 0.0048, 'security.txt': 0.016, 'self_direction.txt': 0.0187, 'stimulation.txt': 0.0127, 'tradition.txt': 0.0011, 'universalism.txt': 0.0082}\n",
      "\n",
      "\n",
      "RockyMtnInst_tweets.txt\n",
      "\n",
      "{'achievement.txt': 0.0177, 'benevolence.txt': 0.0086, 'conformity.txt': 0.0043, 'hedonism.txt': 0.001, 'power.txt': 0.0163, 'security.txt': 0.0115, 'self_direction.txt': 0.0235, 'stimulation.txt': 0.0297, 'tradition.txt': 0.0004, 'universalism.txt': 0.0198}\n",
      "\n",
      "\n",
      "Earthjustice_tweets.txt\n",
      "\n",
      "{'achievement.txt': 0.0081, 'benevolence.txt': 0.0076, 'conformity.txt': 0.0115, 'hedonism.txt': 0.0024, 'power.txt': 0.023, 'security.txt': 0.0375, 'self_direction.txt': 0.0155, 'stimulation.txt': 0.015, 'tradition.txt': 0.002, 'universalism.txt': 0.0285}\n",
      "\n",
      "\n",
      "rff_tweets.txt\n",
      "\n",
      "{'achievement.txt': 0.0102, 'benevolence.txt': 0.0089, 'conformity.txt': 0.0069, 'hedonism.txt': 0.0016, 'power.txt': 0.0142, 'security.txt': 0.0054, 'self_direction.txt': 0.0312, 'stimulation.txt': 0.0169, 'tradition.txt': 0.001, 'universalism.txt': 0.0186}\n",
      "\n",
      "\n",
      "Waterkeeper_tweets.txt\n",
      "\n",
      "{'achievement.txt': 0.0062, 'benevolence.txt': 0.0137, 'conformity.txt': 0.0096, 'hedonism.txt': 0.0041, 'power.txt': 0.0118, 'security.txt': 0.0264, 'self_direction.txt': 0.0199, 'stimulation.txt': 0.0118, 'tradition.txt': 0.0016, 'universalism.txt': 0.0181}\n",
      "\n",
      "\n",
      "TPWFoundation_tweets.txt\n",
      "\n",
      "{'achievement.txt': 0.0118, 'benevolence.txt': 0.026, 'conformity.txt': 0.0092, 'hedonism.txt': 0.0161, 'power.txt': 0.0065, 'security.txt': 0.0058, 'self_direction.txt': 0.012, 'stimulation.txt': 0.0052, 'tradition.txt': 0.0048, 'universalism.txt': 0.0008}\n",
      "\n",
      "\n",
      "the_sca_tweets.txt\n",
      "\n",
      "{'achievement.txt': 0.0102, 'benevolence.txt': 0.0247, 'conformity.txt': 0.0058, 'hedonism.txt': 0.0082, 'power.txt': 0.0081, 'security.txt': 0.0087, 'self_direction.txt': 0.0186, 'stimulation.txt': 0.01, 'tradition.txt': 0.0026, 'universalism.txt': 0.0065}\n",
      "\n",
      "\n",
      "ClimateReality_tweets.txt\n",
      "\n",
      "{'achievement.txt': 0.0094, 'benevolence.txt': 0.0076, 'conformity.txt': 0.0045, 'hedonism.txt': 0.0019, 'power.txt': 0.0157, 'security.txt': 0.0443, 'self_direction.txt': 0.0239, 'stimulation.txt': 0.0289, 'tradition.txt': 0.0021, 'universalism.txt': 0.0677}\n",
      "\n",
      "\n"
     ]
    }
   ],
   "source": [
    "### Large Tweets ###\n",
    "\n",
    "#Printing the values in the tweet files\n",
    "for file in large_tweets:\n",
    "    print(file + \"\\n\\n\" + str(identify_values(file, values_dict)) + \"\\n\\n\" )"
   ]
  },
  {
   "cell_type": "markdown",
   "metadata": {},
   "source": [
    "## Values Frequencies in MVVs"
   ]
  },
  {
   "cell_type": "code",
   "execution_count": 12,
   "metadata": {},
   "outputs": [
    {
     "name": "stdout",
     "output_type": "stream",
     "text": [
      "www_cecsb_org_about_our-mission.txt\n",
      "\n",
      "{'achievement.txt': 0.0117, 'benevolence.txt': 0.0104, 'conformity.txt': 0.009, 'hedonism.txt': 0.0055, 'power.txt': 0.009, 'security.txt': 0.0104, 'self_direction.txt': 0.0255, 'stimulation.txt': 0.0304, 'tradition.txt': 0.0007, 'universalism.txt': 0.02}\n",
      "\n",
      "\n",
      "www_chattahoochee_org_about.txt\n",
      "\n",
      "{'achievement.txt': 0.0127, 'benevolence.txt': 0.019, 'conformity.txt': 0.0127, 'hedonism.txt': 0.0063, 'power.txt': 0.0063, 'security.txt': 0.019, 'self_direction.txt': 0.0222, 'stimulation.txt': 0.0127, 'tradition.txt': 0.0127, 'universalism.txt': 0.0159}\n",
      "\n",
      "\n",
      "www_conservationnw_org_about-us.txt\n",
      "\n",
      "{'achievement.txt': 0.0105, 'benevolence.txt': 0.0163, 'conformity.txt': 0.0096, 'hedonism.txt': 0.0019, 'power.txt': 0.0091, 'security.txt': 0.0196, 'self_direction.txt': 0.0148, 'stimulation.txt': 0.0077, 'tradition.txt': 0.0091, 'universalism.txt': 0.0129}\n",
      "\n",
      "\n",
      "Earthshare MVV.txt\n",
      "\n",
      "{'achievement.txt': 0.0136, 'benevolence.txt': 0.0136, 'conformity.txt': 0.0068, 'hedonism.txt': 0.0068, 'power.txt': 0.0068, 'security.txt': 0.0408, 'self_direction.txt': 0.0136, 'stimulation.txt': 0.034, 'tradition.txt': 0.0136, 'universalism.txt': 0.0544}\n",
      "\n",
      "\n",
      "www_friends_org_about-usour-story.txt\n",
      "\n",
      "{'achievement.txt': 0.0118, 'benevolence.txt': 0.0324, 'conformity.txt': 0.0088, 'hedonism.txt': 0.0, 'power.txt': 0.0206, 'security.txt': 0.0088, 'self_direction.txt': 0.0118, 'stimulation.txt': 0.0, 'tradition.txt': 0.0, 'universalism.txt': 0.0}\n",
      "\n",
      "\n",
      "www_globalgreen_org.txt\n",
      "\n",
      "{'achievement.txt': 0.0078, 'benevolence.txt': 0.0294, 'conformity.txt': 0.0039, 'hedonism.txt': 0.0, 'power.txt': 0.0059, 'security.txt': 0.0078, 'self_direction.txt': 0.0176, 'stimulation.txt': 0.0196, 'tradition.txt': 0.0059, 'universalism.txt': 0.0706}\n",
      "\n",
      "\n",
      "International Conservation MVV.txt\n",
      "\n",
      "{'achievement.txt': 0.0215, 'benevolence.txt': 0.0108, 'conformity.txt': 0.043, 'hedonism.txt': 0.0, 'power.txt': 0.0538, 'security.txt': 0.0, 'self_direction.txt': 0.0323, 'stimulation.txt': 0.0054, 'tradition.txt': 0.0, 'universalism.txt': 0.0376}\n",
      "\n",
      "\n",
      "www_qlf_org_about-qlf_mission-vision.txt\n",
      "\n",
      "{'achievement.txt': 0.014, 'benevolence.txt': 0.0321, 'conformity.txt': 0.008, 'hedonism.txt': 0.0, 'power.txt': 0.018, 'security.txt': 0.002, 'self_direction.txt': 0.012, 'stimulation.txt': 0.014, 'tradition.txt': 0.012, 'universalism.txt': 0.0321}\n",
      "\n",
      "\n",
      "www_sonoraninstitute_org_our-story_mission-vision.txt\n",
      "\n",
      "{'achievement.txt': 0.0127, 'benevolence.txt': 0.019, 'conformity.txt': 0.0127, 'hedonism.txt': 0.0063, 'power.txt': 0.0063, 'security.txt': 0.019, 'self_direction.txt': 0.0222, 'stimulation.txt': 0.0127, 'tradition.txt': 0.0127, 'universalism.txt': 0.0159}\n",
      "\n",
      "\n",
      "www_sustainablenorthwest_orgfocus.txt\n",
      "\n",
      "{'achievement.txt': 0.0194, 'benevolence.txt': 0.0167, 'conformity.txt': 0.0111, 'hedonism.txt': 0.0028, 'power.txt': 0.0083, 'security.txt': 0.025, 'self_direction.txt': 0.0139, 'stimulation.txt': 0.0194, 'tradition.txt': 0.0056, 'universalism.txt': 0.0194}\n",
      "\n",
      "\n"
     ]
    }
   ],
   "source": [
    "### Small Organizations ###\n",
    "\n",
    "#Printing the values in mission/vision/values file\n",
    "for file in small_MVVs:\n",
    "    print(file + \"\\n\\n\" + str(identify_values(file, values_dict)) + \"\\n\\n\" )"
   ]
  },
  {
   "cell_type": "code",
   "execution_count": 13,
   "metadata": {},
   "outputs": [
    {
     "name": "stdout",
     "output_type": "stream",
     "text": [
      "www_earthisland_org_index_php_aboutUsabout-earth-island.txt\n",
      "\n",
      "{'achievement.txt': 0.0096, 'benevolence.txt': 0.0208, 'conformity.txt': 0.0192, 'hedonism.txt': 0.0016, 'power.txt': 0.0208, 'security.txt': 0.0112, 'self_direction.txt': 0.0352, 'stimulation.txt': 0.0384, 'tradition.txt': 0.0128, 'universalism.txt': 0.0208}\n",
      "\n",
      "\n",
      "www_mohonkpreserve_org_what-we-do.txt\n",
      "\n",
      "{'achievement.txt': 0.0061, 'benevolence.txt': 0.024, 'conformity.txt': 0.0074, 'hedonism.txt': 0.0061, 'power.txt': 0.008, 'security.txt': 0.0221, 'self_direction.txt': 0.0215, 'stimulation.txt': 0.0049, 'tradition.txt': 0.0086, 'universalism.txt': 0.0086}\n",
      "\n",
      "\n",
      "www_ncascades_org_discovernorth-cascades-institute.txt\n",
      "\n",
      "{'achievement.txt': 0.0108, 'benevolence.txt': 0.0431, 'conformity.txt': 0.0043, 'hedonism.txt': 0.0022, 'power.txt': 0.0086, 'security.txt': 0.0065, 'self_direction.txt': 0.028, 'stimulation.txt': 0.0129, 'tradition.txt': 0.0, 'universalism.txt': 0.0216}\n",
      "\n",
      "\n",
      "www_pachamama_org_aboutmission.txt\n",
      "\n",
      "{'achievement.txt': 0.011, 'benevolence.txt': 0.0198, 'conformity.txt': 0.0022, 'hedonism.txt': 0.0044, 'power.txt': 0.0088, 'security.txt': 0.0, 'self_direction.txt': 0.022, 'stimulation.txt': 0.0286, 'tradition.txt': 0.0066, 'universalism.txt': 0.0132}\n",
      "\n",
      "\n",
      "Pacific Crest MVV.txt\n",
      "\n",
      "{'achievement.txt': 0.0324, 'benevolence.txt': 0.037, 'conformity.txt': 0.0139, 'hedonism.txt': 0.0, 'power.txt': 0.0278, 'security.txt': 0.0093, 'self_direction.txt': 0.0139, 'stimulation.txt': 0.0278, 'tradition.txt': 0.0139, 'universalism.txt': 0.0093}\n",
      "\n",
      "\n",
      "www_pecpa_org_about.txt\n",
      "\n",
      "{'achievement.txt': 0.0184, 'benevolence.txt': 0.0046, 'conformity.txt': 0.0092, 'hedonism.txt': 0.0069, 'power.txt': 0.0138, 'security.txt': 0.0069, 'self_direction.txt': 0.0345, 'stimulation.txt': 0.0161, 'tradition.txt': 0.0069, 'universalism.txt': 0.0483}\n",
      "\n",
      "\n",
      "www_stand_earth_aboutmission-and-principles.txt\n",
      "\n",
      "{'achievement.txt': 0.0157, 'benevolence.txt': 0.0192, 'conformity.txt': 0.0227, 'hedonism.txt': 0.0, 'power.txt': 0.0087, 'security.txt': 0.0192, 'self_direction.txt': 0.0175, 'stimulation.txt': 0.0157, 'tradition.txt': 0.0105, 'universalism.txt': 0.0279}\n",
      "\n",
      "\n",
      "www_treepeople_org_our-work.txt\n",
      "\n",
      "{'achievement.txt': 0.0, 'benevolence.txt': 0.024, 'conformity.txt': 0.036, 'hedonism.txt': 0.004, 'power.txt': 0.008, 'security.txt': 0.02, 'self_direction.txt': 0.024, 'stimulation.txt': 0.016, 'tradition.txt': 0.004, 'universalism.txt': 0.02}\n",
      "\n",
      "\n",
      "www_wildearthguardians_org_about-us_mission-vision-history.txt\n",
      "\n",
      "{'achievement.txt': 0.0087, 'benevolence.txt': 0.0192, 'conformity.txt': 0.0192, 'hedonism.txt': 0.001, 'power.txt': 0.0106, 'security.txt': 0.0337, 'self_direction.txt': 0.0096, 'stimulation.txt': 0.0183, 'tradition.txt': 0.0067, 'universalism.txt': 0.0192}\n",
      "\n",
      "\n",
      "www_wta_org_our-workabout.txt\n",
      "\n",
      "{'achievement.txt': 0.0108, 'benevolence.txt': 0.0431, 'conformity.txt': 0.0043, 'hedonism.txt': 0.0022, 'power.txt': 0.0086, 'security.txt': 0.0065, 'self_direction.txt': 0.028, 'stimulation.txt': 0.0129, 'tradition.txt': 0.0, 'universalism.txt': 0.0216}\n",
      "\n",
      "\n"
     ]
    }
   ],
   "source": [
    "### Medium Organizations ###\n",
    "\n",
    "#Printing the values in mission/vision/values file\n",
    "for file in medium_MVVs:\n",
    "    print(file + \"\\n\\n\" + str(identify_values(file, values_dict)) + \"\\n\\n\" )"
   ]
  },
  {
   "cell_type": "code",
   "execution_count": 14,
   "metadata": {},
   "outputs": [
    {
     "name": "stdout",
     "output_type": "stream",
     "text": [
      "www_cbf_org_about-cbf_our-mission.txt\n",
      "\n",
      "{'achievement.txt': 0.0037, 'benevolence.txt': 0.0331, 'conformity.txt': 0.0074, 'hedonism.txt': 0.0, 'power.txt': 0.0074, 'security.txt': 0.0331, 'self_direction.txt': 0.0479, 'stimulation.txt': 0.011, 'tradition.txt': 0.0092, 'universalism.txt': 0.0221}\n",
      "\n",
      "\n",
      "www_ceres_orgabout-us.txt\n",
      "\n",
      "{'achievement.txt': 0.0337, 'benevolence.txt': 0.0132, 'conformity.txt': 0.0117, 'hedonism.txt': 0.0, 'power.txt': 0.0146, 'security.txt': 0.0102, 'self_direction.txt': 0.0381, 'stimulation.txt': 0.0395, 'tradition.txt': 0.0, 'universalism.txt': 0.0322}\n",
      "\n",
      "\n",
      "www_climaterealityproject_orgour-mission.txt\n",
      "\n",
      "{'achievement.txt': 0.0092, 'benevolence.txt': 0.0202, 'conformity.txt': 0.0037, 'hedonism.txt': 0.0, 'power.txt': 0.0221, 'security.txt': 0.0202, 'self_direction.txt': 0.0202, 'stimulation.txt': 0.0349, 'tradition.txt': 0.0037, 'universalism.txt': 0.1011}\n",
      "\n",
      "\n",
      "www_earthjustice_orgabout.txt\n",
      "\n",
      "{'achievement.txt': 0.0174, 'benevolence.txt': 0.0326, 'conformity.txt': 0.037, 'hedonism.txt': 0.0, 'power.txt': 0.0217, 'security.txt': 0.05, 'self_direction.txt': 0.0261, 'stimulation.txt': 0.0348, 'tradition.txt': 0.0065, 'universalism.txt': 0.0478}\n",
      "\n",
      "\n",
      "www_grownyc_orgabout.txt\n",
      "\n",
      "{'achievement.txt': 0.005, 'benevolence.txt': 0.0348, 'conformity.txt': 0.0087, 'hedonism.txt': 0.0012, 'power.txt': 0.005, 'security.txt': 0.0087, 'self_direction.txt': 0.0211, 'stimulation.txt': 0.0087, 'tradition.txt': 0.0, 'universalism.txt': 0.0124}\n",
      "\n",
      "\n",
      "www_rff_org_about.txt\n",
      "\n",
      "{'achievement.txt': 0.0179, 'benevolence.txt': 0.0313, 'conformity.txt': 0.0112, 'hedonism.txt': 0.0022, 'power.txt': 0.0134, 'security.txt': 0.0045, 'self_direction.txt': 0.0515, 'stimulation.txt': 0.0224, 'tradition.txt': 0.0022, 'universalism.txt': 0.0403}\n",
      "\n",
      "\n",
      "RMI MVV.txt\n",
      "\n",
      "{'achievement.txt': 0.0202, 'benevolence.txt': 0.0101, 'conformity.txt': 0.0076, 'hedonism.txt': 0.0025, 'power.txt': 0.0076, 'security.txt': 0.0354, 'self_direction.txt': 0.0278, 'stimulation.txt': 0.0429, 'tradition.txt': 0.0, 'universalism.txt': 0.0303}\n",
      "\n",
      "\n",
      "www_thesca_orgabout.txt\n",
      "\n",
      "{'achievement.txt': 0.0071, 'benevolence.txt': 0.0568, 'conformity.txt': 0.0036, 'hedonism.txt': 0.0018, 'power.txt': 0.0178, 'security.txt': 0.0107, 'self_direction.txt': 0.0195, 'stimulation.txt': 0.0089, 'tradition.txt': 0.0053, 'universalism.txt': 0.0071}\n",
      "\n",
      "\n",
      "Texas Parks MVV.txt\n",
      "\n",
      "{'achievement.txt': 0.0235, 'benevolence.txt': 0.0, 'conformity.txt': 0.0118, 'hedonism.txt': 0.0235, 'power.txt': 0.0118, 'security.txt': 0.0, 'self_direction.txt': 0.0118, 'stimulation.txt': 0.0235, 'tradition.txt': 0.0, 'universalism.txt': 0.0}\n",
      "\n",
      "\n",
      "www_waterkeeper_org_who-we-are.txt\n",
      "\n",
      "{'achievement.txt': 0.0057, 'benevolence.txt': 0.0172, 'conformity.txt': 0.0172, 'hedonism.txt': 0.0, 'power.txt': 0.0144, 'security.txt': 0.046, 'self_direction.txt': 0.0086, 'stimulation.txt': 0.0172, 'tradition.txt': 0.0057, 'universalism.txt': 0.0287}\n",
      "\n",
      "\n"
     ]
    }
   ],
   "source": [
    "### Large Organizations ###\n",
    "\n",
    "#Printing the values in mission/vision/values file\n",
    "for file in large_MVVs:\n",
    "    print(file + \"\\n\\n\" + str(identify_values(file, values_dict)) + \"\\n\\n\" )"
   ]
  },
  {
   "cell_type": "markdown",
   "metadata": {},
   "source": [
    "## Cosine Similarity"
   ]
  },
  {
   "cell_type": "code",
   "execution_count": 15,
   "metadata": {},
   "outputs": [],
   "source": [
    "def cosine_dist(a,b) :\n",
    "    dist = np.dot(a,b)/(np.linalg.norm(a)*np.linalg.norm(b))\n",
    "    return(dist)"
   ]
  },
  {
   "cell_type": "code",
   "execution_count": 16,
   "metadata": {},
   "outputs": [],
   "source": [
    "def values_similarity(file1,file2, v):\n",
    "    \n",
    "    org_name = file1.rstrip(\"tweets.txt\")\n",
    "    \n",
    "    ###To calculate frequencies in tweets and store as vector###\n",
    "    \n",
    "    \n",
    "    open_file1 = open(file1, \"r\", encoding = \"Latin-1\")\n",
    "    \n",
    "    read_file1 = open_file1.read()\n",
    "    \n",
    "    tokenize_file1 = nltk.word_tokenize(read_file1)\n",
    "    \n",
    "    clean_tokens = []\n",
    "    \n",
    "    for tokens in tokenize_file1:\n",
    "        if tokens not in sw and tokens.isalpha():\n",
    "            clean_tokens.append(tokens.lower())\n",
    "    \n",
    "    a = [] #Store values freqs\n",
    "    \n",
    "    for value,words in v.items():  #for each key and synonym pair in the value dictionary\n",
    "        \n",
    "        matching_words = [w for w in clean_tokens if w in words  ] #identify and store words that appear in synonyms and clean tokens\n",
    "    \n",
    "        values_freq=len(matching_words)/len(clean_tokens)  #Divide the amount of matching words by all words in text file\n",
    "        \n",
    "        file1_values_freq = round(values_freq, 4)\n",
    "        \n",
    "        a.append(file1_values_freq)\n",
    "        \n",
    "    \n",
    "    \n",
    "        \n",
    "    ###To calculate frequences in MVVs as vector###\n",
    "    \n",
    "    \n",
    "    open_file2 = open(file2, \"r\", encoding = \"Latin-1\")\n",
    "    \n",
    "    read_file2 = open_file2.read()\n",
    "    \n",
    "    tokenize_file2 = nltk.word_tokenize(read_file2)\n",
    "    \n",
    "    clean_tokens = []\n",
    "    \n",
    "    for tokens in tokenize_file2:\n",
    "        if tokens not in sw and tokens.isalpha():\n",
    "            clean_tokens.append(tokens.lower())\n",
    "    b= []\n",
    "    \n",
    "    for value,words in v.items():  #for each key and synonym pair in the value dictionary\n",
    "        \n",
    "        matching_words = [w for w in clean_tokens if w in words  ] #identify and store words that appear in synonyms and clean tokens\n",
    "    \n",
    "        values_freq=len(matching_words)/len(clean_tokens)  #Divide the amount of matching words by all words in text file\n",
    "        \n",
    "        file2_values_freq = round(values_freq, 4) \n",
    "        \n",
    "        b.append(file2_values_freq)\n",
    "    \n",
    "    \n",
    "    \n",
    "    return(\"The cosine distance between tweets and MVVs for\" + \" \" + org_name + \" \" + \"is\" + \" \" + str(cosine_dist(a,b))) ##Return the frequencies of each value, which are in a dictionary"
   ]
  },
  {
   "cell_type": "markdown",
   "metadata": {},
   "source": [
    "## Small Orgs"
   ]
  },
  {
   "cell_type": "code",
   "execution_count": 20,
   "metadata": {},
   "outputs": [],
   "source": [
    "small_values_distances = [] \n",
    "\n",
    "for tweets, MVV in zip(small_tweets, small_MVVs):\n",
    "    small_values_distances.append(values_similarity(tweets, MVV, values_dict))"
   ]
  },
  {
   "cell_type": "code",
   "execution_count": 21,
   "metadata": {},
   "outputs": [
    {
     "data": {
      "text/plain": [
       "['The cosine distance between tweets and MVVs for sonoraninst_ is 0.8866211910908003',\n",
       " 'The cosine distance between tweets and MVVs for TheICCFGroup_ is 0.9072105499242719',\n",
       " 'The cosine distance between tweets and MVVs for CECSB_ is 0.878034961935552',\n",
       " 'The cosine distance between tweets and MVVs for 1000oregon_ is 0.7213674523660601',\n",
       " 'The cosine distance between tweets and MVVs for EarthShare_ is 0.6599885803060995',\n",
       " 'The cosine distance between tweets and MVVs for CRKeeper_ is 0.6258253708012392',\n",
       " 'The cosine distance between tweets and MVVs for ConservationNW_ is 0.7609578274173477',\n",
       " 'The cosine distance between tweets and MVVs for QLFNews_ is 0.9325509057153367',\n",
       " 'The cosine distance between tweets and MVVs for globalgreen_ is 0.903826789532095',\n",
       " 'The cosine distance between tweets and MVVs for SustainableNW_ is 0.863206762006737']"
      ]
     },
     "execution_count": 21,
     "metadata": {},
     "output_type": "execute_result"
    }
   ],
   "source": [
    "small_values_distances"
   ]
  },
  {
   "cell_type": "code",
   "execution_count": 22,
   "metadata": {},
   "outputs": [],
   "source": [
    "#Creating a histogram to show distribution of distances between tweets and MVVs\n",
    "#Removing rest of string and just grabbing values of distances\n",
    "\n",
    "just_distances=[]\n",
    "for item in small_values_distances:\n",
    "    distance=item.split('is ')[1]\n",
    "    \n",
    "    just_distances.append(distance)\n",
    "    \n",
    "small_rounded_distances=[]\n",
    "for item in just_distances:\n",
    "    rounded=round(float(item),2)\n",
    "    small_rounded_distances.append(rounded)\n"
   ]
  },
  {
   "cell_type": "code",
   "execution_count": 23,
   "metadata": {},
   "outputs": [
    {
     "data": {
      "text/plain": [
       "(array([1., 0., 0., 0., 0., 0., 0., 0., 0., 0., 1., 0., 0., 0., 0., 0., 0.,\n",
       "        0., 0., 0., 0., 0., 0., 0., 0., 0., 0., 0., 0., 0., 1., 0., 0., 0.,\n",
       "        0., 0., 0., 0., 0., 0., 0., 0., 0., 1., 0., 0., 0., 0., 0., 0., 0.,\n",
       "        0., 0., 0., 0., 0., 0., 0., 0., 0., 0., 0., 0., 0., 0., 0., 0., 0.,\n",
       "        0., 0., 0., 0., 0., 0., 0., 0., 1., 0., 0., 0., 0., 0., 0., 1., 0.,\n",
       "        0., 1., 0., 0., 0., 1., 0., 0., 1., 0., 0., 0., 0., 0., 1.]),\n",
       " array([0.63 , 0.633, 0.636, 0.639, 0.642, 0.645, 0.648, 0.651, 0.654,\n",
       "        0.657, 0.66 , 0.663, 0.666, 0.669, 0.672, 0.675, 0.678, 0.681,\n",
       "        0.684, 0.687, 0.69 , 0.693, 0.696, 0.699, 0.702, 0.705, 0.708,\n",
       "        0.711, 0.714, 0.717, 0.72 , 0.723, 0.726, 0.729, 0.732, 0.735,\n",
       "        0.738, 0.741, 0.744, 0.747, 0.75 , 0.753, 0.756, 0.759, 0.762,\n",
       "        0.765, 0.768, 0.771, 0.774, 0.777, 0.78 , 0.783, 0.786, 0.789,\n",
       "        0.792, 0.795, 0.798, 0.801, 0.804, 0.807, 0.81 , 0.813, 0.816,\n",
       "        0.819, 0.822, 0.825, 0.828, 0.831, 0.834, 0.837, 0.84 , 0.843,\n",
       "        0.846, 0.849, 0.852, 0.855, 0.858, 0.861, 0.864, 0.867, 0.87 ,\n",
       "        0.873, 0.876, 0.879, 0.882, 0.885, 0.888, 0.891, 0.894, 0.897,\n",
       "        0.9  , 0.903, 0.906, 0.909, 0.912, 0.915, 0.918, 0.921, 0.924,\n",
       "        0.927, 0.93 ]),\n",
       " <a list of 100 Patch objects>)"
      ]
     },
     "execution_count": 23,
     "metadata": {},
     "output_type": "execute_result"
    },
    {
     "data": {
      "image/png": "[encoded data removed]",
      "text/plain": [
       "<Figure size 432x288 with 1 Axes>"
      ]
     },
     "metadata": {
      "needs_background": "light"
     },
     "output_type": "display_data"
    }
   ],
   "source": [
    "# matplotlib histogram of rounded distances\n",
    "plt.hist(small_rounded_distances, \n",
    "         color = 'blue', \n",
    "         edgecolor = 'black',\n",
    "         bins = 100)"
   ]
  },
  {
   "cell_type": "code",
   "execution_count": 24,
   "metadata": {},
   "outputs": [
    {
     "name": "stdout",
     "output_type": "stream",
     "text": [
      "0.8140000000000001\n",
      "0.10565983153497835\n"
     ]
    }
   ],
   "source": [
    "#Basic stats of distances\n",
    "print(np.mean(small_rounded_distances))\n",
    "print(np.std(small_rounded_distances))"
   ]
  },
  {
   "cell_type": "code",
   "execution_count": 25,
   "metadata": {},
   "outputs": [
    {
     "name": "stdout",
     "output_type": "stream",
     "text": [
      "-0.7001325098447607\n"
     ]
    }
   ],
   "source": [
    "y = np.array(small_rounded_distances)\n",
    "skewness = scipy.stats.skew(y, bias=False)\n",
    "print (skewness)"
   ]
  },
  {
   "cell_type": "markdown",
   "metadata": {},
   "source": [
    "## Medium Orgs"
   ]
  },
  {
   "cell_type": "code",
   "execution_count": 26,
   "metadata": {},
   "outputs": [],
   "source": [
    "medium_values_distances = [] \n",
    "\n",
    "for tweets, MVV in zip(medium_tweets, medium_MVVs):\n",
    "    medium_values_distances.append(values_similarity(tweets, MVV, values_dict))"
   ]
  },
  {
   "cell_type": "code",
   "execution_count": 27,
   "metadata": {},
   "outputs": [
    {
     "data": {
      "text/plain": [
       "['The cosine distance between tweets and MVVs for wildearthguard_ is 0.8681047904776686',\n",
       " 'The cosine distance between tweets and MVVs for WTA_hikers_ is 0.8750106032344972',\n",
       " 'The cosine distance between tweets and MVVs for ncascadeswa_ is 0.8699430733858964',\n",
       " 'The cosine distance between tweets and MVVs for PCTAssociation_ is 0.7686067302152884',\n",
       " 'The cosine distance between tweets and MVVs for PachamamaOrg_ is 0.8151516300656501',\n",
       " 'The cosine distance between tweets and MVVs for TreePeople_org_ is 0.7898847128448261',\n",
       " 'The cosine distance between tweets and MVVs for mohonkpreserve_ is 0.7479644343842562',\n",
       " 'The cosine distance between tweets and MVVs for PECPA_ is 0.8448051594737386',\n",
       " 'The cosine distance between tweets and MVVs for standearth_ is 0.861829748659632',\n",
       " 'The cosine distance between tweets and MVVs for earthisland_ is 0.7797874737782536']"
      ]
     },
     "execution_count": 27,
     "metadata": {},
     "output_type": "execute_result"
    }
   ],
   "source": [
    "medium_values_distances"
   ]
  },
  {
   "cell_type": "code",
   "execution_count": 28,
   "metadata": {},
   "outputs": [],
   "source": [
    "#Creating a histogram to show distribution of distances between tweets and MVVs\n",
    "#Removing rest of string and just grabbing values of distances\n",
    "\n",
    "just_distances=[]\n",
    "for item in medium_values_distances:\n",
    "    distance=item.split('is ')[1]\n",
    "    \n",
    "    just_distances.append(distance)\n",
    "    \n",
    "medium_rounded_distances=[]\n",
    "for item in just_distances:\n",
    "    rounded=round(float(item),2)\n",
    "    medium_rounded_distances.append(rounded)\n"
   ]
  },
  {
   "cell_type": "code",
   "execution_count": 32,
   "metadata": {},
   "outputs": [
    {
     "data": {
      "text/plain": [
       "(array([1., 0., 0., 0., 0., 0., 0., 0., 0., 0., 0., 0., 0., 0., 0., 1., 0.,\n",
       "        0., 0., 0., 0., 0., 0., 1., 0., 0., 0., 0., 0., 0., 1., 0., 0., 0.,\n",
       "        0., 0., 0., 0., 0., 0., 0., 0., 0., 0., 0., 0., 0., 0., 0., 0., 0.,\n",
       "        0., 0., 1., 0., 0., 0., 0., 0., 0., 0., 0., 0., 0., 0., 0., 0., 0.,\n",
       "        0., 1., 0., 0., 0., 0., 0., 0., 0., 0., 0., 0., 0., 0., 0., 0., 1.,\n",
       "        0., 0., 0., 0., 0., 0., 0., 2., 0., 0., 0., 0., 0., 0., 1.]),\n",
       " array([0.75  , 0.7513, 0.7526, 0.7539, 0.7552, 0.7565, 0.7578, 0.7591,\n",
       "        0.7604, 0.7617, 0.763 , 0.7643, 0.7656, 0.7669, 0.7682, 0.7695,\n",
       "        0.7708, 0.7721, 0.7734, 0.7747, 0.776 , 0.7773, 0.7786, 0.7799,\n",
       "        0.7812, 0.7825, 0.7838, 0.7851, 0.7864, 0.7877, 0.789 , 0.7903,\n",
       "        0.7916, 0.7929, 0.7942, 0.7955, 0.7968, 0.7981, 0.7994, 0.8007,\n",
       "        0.802 , 0.8033, 0.8046, 0.8059, 0.8072, 0.8085, 0.8098, 0.8111,\n",
       "        0.8124, 0.8137, 0.815 , 0.8163, 0.8176, 0.8189, 0.8202, 0.8215,\n",
       "        0.8228, 0.8241, 0.8254, 0.8267, 0.828 , 0.8293, 0.8306, 0.8319,\n",
       "        0.8332, 0.8345, 0.8358, 0.8371, 0.8384, 0.8397, 0.841 , 0.8423,\n",
       "        0.8436, 0.8449, 0.8462, 0.8475, 0.8488, 0.8501, 0.8514, 0.8527,\n",
       "        0.854 , 0.8553, 0.8566, 0.8579, 0.8592, 0.8605, 0.8618, 0.8631,\n",
       "        0.8644, 0.8657, 0.867 , 0.8683, 0.8696, 0.8709, 0.8722, 0.8735,\n",
       "        0.8748, 0.8761, 0.8774, 0.8787, 0.88  ]),\n",
       " <a list of 100 Patch objects>)"
      ]
     },
     "execution_count": 32,
     "metadata": {},
     "output_type": "execute_result"
    },
    {
     "data": {
      "image/png": "[encoded data removed]",
      "text/plain": [
       "<Figure size 432x288 with 1 Axes>"
      ]
     },
     "metadata": {
      "needs_background": "light"
     },
     "output_type": "display_data"
    }
   ],
   "source": [
    "# matplotlib histogram of rounded distances\n",
    "plt.hist(medium_rounded_distances, \n",
    "         color = 'blue', \n",
    "         edgecolor = 'black',\n",
    "         bins = 100)"
   ]
  },
  {
   "cell_type": "code",
   "execution_count": 29,
   "metadata": {},
   "outputs": [
    {
     "name": "stdout",
     "output_type": "stream",
     "text": [
      "0.8230000000000001\n",
      "0.045177427992306056\n"
     ]
    }
   ],
   "source": [
    "#Basic stats of distances\n",
    "print(np.mean(medium_rounded_distances))\n",
    "print(np.std(medium_rounded_distances))"
   ]
  },
  {
   "cell_type": "code",
   "execution_count": 30,
   "metadata": {},
   "outputs": [
    {
     "name": "stdout",
     "output_type": "stream",
     "text": [
      "-0.2635942139804621\n"
     ]
    }
   ],
   "source": [
    "y = np.array(medium_rounded_distances)\n",
    "skewness = scipy.stats.skew(y, bias=False)\n",
    "print (skewness)"
   ]
  },
  {
   "cell_type": "markdown",
   "metadata": {},
   "source": [
    "## Large Organizations"
   ]
  },
  {
   "cell_type": "code",
   "execution_count": 33,
   "metadata": {},
   "outputs": [],
   "source": [
    "large_values_distances = [] \n",
    "\n",
    "for tweets, MVV in zip(large_tweets, large_MVVs):\n",
    "    large_values_distances.append(values_similarity(tweets, MVV, values_dict))"
   ]
  },
  {
   "cell_type": "code",
   "execution_count": 34,
   "metadata": {},
   "outputs": [
    {
     "data": {
      "text/plain": [
       "['The cosine distance between tweets and MVVs for CeresNews_ is 0.7489072810686933',\n",
       " 'The cosine distance between tweets and MVVs for chesapeakebay_ is 0.8670614266685107',\n",
       " 'The cosine distance between tweets and MVVs for GrowNYC_ is 0.5795961566835953',\n",
       " 'The cosine distance between tweets and MVVs for RockyMtnInst_ is 0.8359937704624576',\n",
       " 'The cosine distance between tweets and MVVs for Earthjustice_ is 0.6159488393719895',\n",
       " 'The cosine distance between tweets and MVVs for rff_ is 0.958821050012224',\n",
       " 'The cosine distance between tweets and MVVs for Waterkeeper_ is 0.896896804431227',\n",
       " 'The cosine distance between tweets and MVVs for TPWFoundation_ is 0.8555092259666036',\n",
       " 'The cosine distance between tweets and MVVs for the_sca_ is 0.6056646235341085',\n",
       " 'The cosine distance between tweets and MVVs for ClimateReality_ is 0.876801463060584']"
      ]
     },
     "execution_count": 34,
     "metadata": {},
     "output_type": "execute_result"
    }
   ],
   "source": [
    "large_values_distances"
   ]
  },
  {
   "cell_type": "code",
   "execution_count": 35,
   "metadata": {},
   "outputs": [],
   "source": [
    "#Creating a histogram to show distribution of distances between tweets and MVVs\n",
    "#Removing rest of string and just grabbing values of distances\n",
    "\n",
    "just_distances=[]\n",
    "for item in large_values_distances:\n",
    "    distance=item.split('is ')[1]\n",
    "    \n",
    "    just_distances.append(distance)\n",
    "    \n",
    "large_rounded_distances=[]\n",
    "for item in just_distances:\n",
    "    rounded=round(float(item),2)\n",
    "    large_rounded_distances.append(rounded)\n"
   ]
  },
  {
   "cell_type": "code",
   "execution_count": 36,
   "metadata": {},
   "outputs": [
    {
     "data": {
      "text/plain": [
       "(array([1., 0., 0., 0., 0., 0., 0., 1., 0., 0., 1., 0., 0., 0., 0., 0., 0.,\n",
       "        0., 0., 0., 0., 0., 0., 0., 0., 0., 0., 0., 0., 0., 0., 0., 0., 0.,\n",
       "        0., 0., 0., 0., 0., 0., 0., 0., 0., 0., 1., 0., 0., 0., 0., 0., 0.,\n",
       "        0., 0., 0., 0., 0., 0., 0., 0., 0., 0., 0., 0., 0., 0., 0., 0., 0.,\n",
       "        1., 0., 0., 0., 0., 1., 0., 0., 1., 0., 1., 0., 0., 0., 0., 0., 1.,\n",
       "        0., 0., 0., 0., 0., 0., 0., 0., 0., 0., 0., 0., 0., 0., 1.]),\n",
       " array([0.58  , 0.5838, 0.5876, 0.5914, 0.5952, 0.599 , 0.6028, 0.6066,\n",
       "        0.6104, 0.6142, 0.618 , 0.6218, 0.6256, 0.6294, 0.6332, 0.637 ,\n",
       "        0.6408, 0.6446, 0.6484, 0.6522, 0.656 , 0.6598, 0.6636, 0.6674,\n",
       "        0.6712, 0.675 , 0.6788, 0.6826, 0.6864, 0.6902, 0.694 , 0.6978,\n",
       "        0.7016, 0.7054, 0.7092, 0.713 , 0.7168, 0.7206, 0.7244, 0.7282,\n",
       "        0.732 , 0.7358, 0.7396, 0.7434, 0.7472, 0.751 , 0.7548, 0.7586,\n",
       "        0.7624, 0.7662, 0.77  , 0.7738, 0.7776, 0.7814, 0.7852, 0.789 ,\n",
       "        0.7928, 0.7966, 0.8004, 0.8042, 0.808 , 0.8118, 0.8156, 0.8194,\n",
       "        0.8232, 0.827 , 0.8308, 0.8346, 0.8384, 0.8422, 0.846 , 0.8498,\n",
       "        0.8536, 0.8574, 0.8612, 0.865 , 0.8688, 0.8726, 0.8764, 0.8802,\n",
       "        0.884 , 0.8878, 0.8916, 0.8954, 0.8992, 0.903 , 0.9068, 0.9106,\n",
       "        0.9144, 0.9182, 0.922 , 0.9258, 0.9296, 0.9334, 0.9372, 0.941 ,\n",
       "        0.9448, 0.9486, 0.9524, 0.9562, 0.96  ]),\n",
       " <a list of 100 Patch objects>)"
      ]
     },
     "execution_count": 36,
     "metadata": {},
     "output_type": "execute_result"
    },
    {
     "data": {
      "image/png": "[encoded data removed]",
      "text/plain": [
       "<Figure size 432x288 with 1 Axes>"
      ]
     },
     "metadata": {
      "needs_background": "light"
     },
     "output_type": "display_data"
    }
   ],
   "source": [
    "# matplotlib histogram of rounded distances\n",
    "plt.hist(large_rounded_distances, \n",
    "         color = 'blue', \n",
    "         edgecolor = 'black',\n",
    "         bins = 100)"
   ]
  },
  {
   "cell_type": "code",
   "execution_count": 37,
   "metadata": {},
   "outputs": [
    {
     "name": "stdout",
     "output_type": "stream",
     "text": [
      "0.787\n",
      "0.13031116606031887\n"
     ]
    }
   ],
   "source": [
    "#Basic stats of distances\n",
    "print(np.mean(large_rounded_distances))\n",
    "print(np.std(large_rounded_distances))"
   ]
  },
  {
   "cell_type": "code",
   "execution_count": 38,
   "metadata": {},
   "outputs": [
    {
     "name": "stdout",
     "output_type": "stream",
     "text": [
      "-0.5674379198282534\n"
     ]
    }
   ],
   "source": [
    "y = np.array(large_rounded_distances)\n",
    "skewness = scipy.stats.skew(y, bias=False)\n",
    "print (skewness)"
   ]
  },
  {
   "cell_type": "markdown",
   "metadata": {},
   "source": [
    "## All organizations"
   ]
  },
  {
   "cell_type": "code",
   "execution_count": 39,
   "metadata": {},
   "outputs": [],
   "source": [
    "combined_tweets = small_tweets + medium_tweets + large_tweets\n",
    "combined_MVVs = small_MVVs + medium_MVVs + large_MVVs"
   ]
  },
  {
   "cell_type": "code",
   "execution_count": 40,
   "metadata": {},
   "outputs": [],
   "source": [
    "combined_values_distances = [] \n",
    "\n",
    "for tweets, MVV in zip(combined_tweets, combined_MVVs):\n",
    "    combined_values_distances.append(values_similarity(tweets, MVV, values_dict))"
   ]
  },
  {
   "cell_type": "code",
   "execution_count": 41,
   "metadata": {},
   "outputs": [],
   "source": [
    "#Creating a histogram to show distribution of distances between tweets and MVVs\n",
    "#Removing rest of string and just grabbing values of distances\n",
    "\n",
    "just_distances=[]\n",
    "for item in combined_values_distances:\n",
    "    distance=item.split('is ')[1]\n",
    "    \n",
    "    just_distances.append(distance)\n",
    "    \n",
    "combined_rounded_distances=[]\n",
    "for item in just_distances:\n",
    "    rounded=round(float(item),2)\n",
    "    combined_rounded_distances.append(rounded)\n"
   ]
  },
  {
   "cell_type": "code",
   "execution_count": 42,
   "metadata": {},
   "outputs": [
    {
     "data": {
      "text/plain": [
       "(array([1., 0., 0., 0., 0., 0., 0., 1., 0., 0., 1., 0., 0., 1., 0., 0., 0.,\n",
       "        0., 0., 0., 0., 1., 0., 0., 0., 0., 0., 0., 0., 0., 0., 0., 0., 0.,\n",
       "        0., 0., 1., 0., 0., 0., 0., 0., 0., 0., 2., 0., 0., 1., 0., 0., 1.,\n",
       "        0., 1., 0., 0., 1., 0., 0., 0., 0., 0., 0., 0., 1., 0., 0., 0., 0.,\n",
       "        2., 0., 0., 0., 0., 3., 0., 0., 3., 0., 3., 0., 0., 1., 0., 0., 2.,\n",
       "        0., 1., 0., 0., 0., 0., 0., 1., 0., 0., 0., 0., 0., 0., 1.]),\n",
       " array([0.58  , 0.5838, 0.5876, 0.5914, 0.5952, 0.599 , 0.6028, 0.6066,\n",
       "        0.6104, 0.6142, 0.618 , 0.6218, 0.6256, 0.6294, 0.6332, 0.637 ,\n",
       "        0.6408, 0.6446, 0.6484, 0.6522, 0.656 , 0.6598, 0.6636, 0.6674,\n",
       "        0.6712, 0.675 , 0.6788, 0.6826, 0.6864, 0.6902, 0.694 , 0.6978,\n",
       "        0.7016, 0.7054, 0.7092, 0.713 , 0.7168, 0.7206, 0.7244, 0.7282,\n",
       "        0.732 , 0.7358, 0.7396, 0.7434, 0.7472, 0.751 , 0.7548, 0.7586,\n",
       "        0.7624, 0.7662, 0.77  , 0.7738, 0.7776, 0.7814, 0.7852, 0.789 ,\n",
       "        0.7928, 0.7966, 0.8004, 0.8042, 0.808 , 0.8118, 0.8156, 0.8194,\n",
       "        0.8232, 0.827 , 0.8308, 0.8346, 0.8384, 0.8422, 0.846 , 0.8498,\n",
       "        0.8536, 0.8574, 0.8612, 0.865 , 0.8688, 0.8726, 0.8764, 0.8802,\n",
       "        0.884 , 0.8878, 0.8916, 0.8954, 0.8992, 0.903 , 0.9068, 0.9106,\n",
       "        0.9144, 0.9182, 0.922 , 0.9258, 0.9296, 0.9334, 0.9372, 0.941 ,\n",
       "        0.9448, 0.9486, 0.9524, 0.9562, 0.96  ]),\n",
       " <a list of 100 Patch objects>)"
      ]
     },
     "execution_count": 42,
     "metadata": {},
     "output_type": "execute_result"
    },
    {
     "data": {
      "image/png": "[encoded data removed]",
      "text/plain": [
       "<Figure size 432x288 with 1 Axes>"
      ]
     },
     "metadata": {
      "needs_background": "light"
     },
     "output_type": "display_data"
    }
   ],
   "source": [
    "# matplotlib histogram of rounded distances\n",
    "plt.hist(combined_rounded_distances, \n",
    "         color = 'blue', \n",
    "         edgecolor = 'black',\n",
    "         bins = 100)"
   ]
  },
  {
   "cell_type": "code",
   "execution_count": 43,
   "metadata": {},
   "outputs": [
    {
     "name": "stdout",
     "output_type": "stream",
     "text": [
      "0.808\n",
      "0.10146920715172657\n"
     ]
    }
   ],
   "source": [
    "#Basic stats of distances\n",
    "print(np.mean(combined_rounded_distances))\n",
    "print(np.std(combined_rounded_distances))"
   ]
  },
  {
   "cell_type": "code",
   "execution_count": 44,
   "metadata": {},
   "outputs": [
    {
     "name": "stdout",
     "output_type": "stream",
     "text": [
      "-0.8599122461331324\n"
     ]
    }
   ],
   "source": [
    "y = np.array(combined_rounded_distances)\n",
    "skewness = scipy.stats.skew(y, bias=False)\n",
    "print (skewness)"
   ]
  },
  {
   "cell_type": "code",
   "execution_count": 150,
   "metadata": {},
   "outputs": [
    {
     "data": {
      "image/png": "[encoded data removed]",
      "text/plain": [
       "<Figure size 720x504 with 1 Axes>"
      ]
     },
     "metadata": {
      "needs_background": "light"
     },
     "output_type": "display_data"
    }
   ],
   "source": [
    "##Making a boxplot of all \n",
    "\n",
    "box_data = [small_rounded_distances, medium_rounded_distances, large_rounded_distances, combined_rounded_distances]\n",
    "\n",
    "fig = plt.figure(figsize =(10, 7))\n",
    "  \n",
    "# Creating axes instance\n",
    "ax = fig.add_axes([0, 0, 1, 1])\n",
    "  \n",
    "# Creating plot\n",
    "bp = ax.boxplot(box_data, patch_artist = True)\n",
    "\n",
    "ax.set_xticklabels(['small', 'medium', \n",
    "                    'large', 'combined'])\n",
    "colors = ['#0000FF', '#00FF00', \n",
    "          '#FFFF00', '#FF00FF']\n",
    "\n",
    "# changing color and linewidth of\n",
    "# medians\n",
    "for median in bp['medians']:\n",
    "    median.set(color ='black',\n",
    "               linewidth = 3)\n",
    "  \n",
    "for patch, color in zip(bp['boxes'], colors):\n",
    "    patch.set_facecolor(color)\n",
    "    \n",
    "# Adding title \n",
    "plt.title(\"Cosine Similarity Scores\")\n",
    "\n",
    "# show plot\n",
    "plt.show()\n",
    "\n",
    "\n",
    "  \n"
   ]
  },
  {
   "cell_type": "code",
   "execution_count": 153,
   "metadata": {},
   "outputs": [
    {
     "data": {
      "text/plain": [
       "F_onewayResult(statistic=0.31395348837209336, pvalue=0.7331840655252015)"
      ]
     },
     "execution_count": 153,
     "metadata": {},
     "output_type": "execute_result"
    }
   ],
   "source": [
    "##Using a one way ANOVA to determine whether or not difference in means is significant\n",
    "\n",
    "import scipy.stats as stats\n",
    "\n",
    "stats.f_oneway(small_rounded_distances, medium_rounded_distances, large_rounded_distances)"
   ]
  },
  {
   "cell_type": "markdown",
   "metadata": {},
   "source": [
    "## Identifying Outliers with IQR\n"
   ]
  },
  {
   "cell_type": "code",
   "execution_count": 45,
   "metadata": {},
   "outputs": [],
   "source": [
    "import seaborn as sns"
   ]
  },
  {
   "cell_type": "code",
   "execution_count": 46,
   "metadata": {},
   "outputs": [],
   "source": [
    "##Sort Data\n",
    "sort = np.sort(combined_rounded_distances)"
   ]
  },
  {
   "cell_type": "code",
   "execution_count": 48,
   "metadata": {},
   "outputs": [],
   "source": [
    "##Calculating quartiles\n",
    "\n",
    "Q1 = np.percentile(sort, 25, interpolation = 'midpoint')\n",
    "Q2 = np.percentile(sort, 50, interpolation = 'midpoint')\n",
    "Q3 = np.percentile(sort, 75, interpolation = 'midpoint')"
   ]
  },
  {
   "cell_type": "code",
   "execution_count": 52,
   "metadata": {},
   "outputs": [
    {
     "name": "stdout",
     "output_type": "stream",
     "text": [
      "0.125\n"
     ]
    }
   ],
   "source": [
    "##Calculate IQR\n",
    "\n",
    "IQR = Q3 - Q1\n",
    "print(IQR)"
   ]
  },
  {
   "cell_type": "code",
   "execution_count": 53,
   "metadata": {},
   "outputs": [
    {
     "name": "stdout",
     "output_type": "stream",
     "text": [
      "The lower limit for outliers is 0.5675\n",
      "The upper limit for outliers is 1.0675\n"
     ]
    }
   ],
   "source": [
    "##Lower limit and upper limit\n",
    "\n",
    "low_lim = Q1 - 1.5 * IQR\n",
    "up_lim = Q3 + 1.5 * IQR\n",
    "\n",
    "print(\"The lower limit for outliers is\" + \" \" + str(low_lim))\n",
    "print(\"The upper limit for outliers is\" + \" \" + str(up_lim))"
   ]
  },
  {
   "cell_type": "code",
   "execution_count": 156,
   "metadata": {},
   "outputs": [
    {
     "name": "stdout",
     "output_type": "stream",
     "text": [
      "0.755\n",
      "0.88\n"
     ]
    }
   ],
   "source": [
    "##Limit for the lowest 25%\n",
    "print(Q1)\n",
    "##limit for upper 25%\n",
    "print(Q3)"
   ]
  },
  {
   "cell_type": "markdown",
   "metadata": {},
   "source": [
    "Using these limits, there are no outliers. However, the lowest 25% of data would be anything .755 and under. The highest 25% would be .88 and above. This can be used to discuss the lowest similarities"
   ]
  },
  {
   "cell_type": "markdown",
   "metadata": {},
   "source": [
    "## Looking at specific values-laden language"
   ]
  },
  {
   "cell_type": "markdown",
   "metadata": {},
   "source": [
    "## Most Common Synonyms in Tweets"
   ]
  },
  {
   "cell_type": "code",
   "execution_count": 58,
   "metadata": {},
   "outputs": [],
   "source": [
    "## Combining tokens to look at most common values overall and what values orgs are using\n",
    "\n",
    "###Tweets\n",
    "\n",
    "nonprofit_tweet_files = small_tweets + medium_tweets + large_tweets\n",
    "\n",
    "combined_tweet_tokens = []\n",
    "\n",
    "for file in nonprofit_tweet_files:\n",
    "    nonprofit = open(file, \"r\", encoding=\"Latin-1\")\n",
    "    nonprofit_tweets = nonprofit.read()\n",
    "    tweet_tokens = nltk.word_tokenize(nonprofit_tweets)\n",
    "    \n",
    "    \n",
    "    \n",
    "    for tokens in tweet_tokens:\n",
    "        if tokens not in sw and tokens.isalpha() and tokens != 'https' and tokens != 'amp': #Removing irrelevant tokens that appear\n",
    "            combined_tweet_tokens.append(tokens.lower())"
   ]
  },
  {
   "cell_type": "code",
   "execution_count": 81,
   "metadata": {},
   "outputs": [
    {
     "name": "stdout",
     "output_type": "stream",
     "text": [
      "There are 2920 matching words for achievement.txt\n",
      "There are 4883 matching words for benevolence.txt\n",
      "There are 2383 matching words for conformity.txt\n",
      "There are 1851 matching words for hedonism.txt\n",
      "There are 3001 matching words for power.txt\n",
      "There are 4479 matching words for security.txt\n",
      "There are 5693 matching words for self_direction.txt\n",
      "There are 4011 matching words for stimulation.txt\n",
      "There are 878 matching words for tradition.txt\n",
      "There are 4958 matching words for universalism.txt\n"
     ]
    }
   ],
   "source": [
    "##Looking at synonyms that are appearing in combined tweet tokens\n",
    "\n",
    "for value,words in values_dict.items():  #for each key and synonym pair in the value dictionary\n",
    "        \n",
    "    matching_words = [w for w in combined_tweet_tokens if w in words  ] #identify and store words that appear in synonyms and clean tokens\n",
    "                \n",
    "            \n",
    "    print(\"There are\" + \" \" + str(len(matching_words)) + \" \" + \"matching words\" + \" \" + \"for\" + \" \" + value)\n",
    "        \n",
    "       "
   ]
  },
  {
   "cell_type": "code",
   "execution_count": 84,
   "metadata": {},
   "outputs": [
    {
     "name": "stdout",
     "output_type": "stream",
     "text": [
      "achievement.txt\n",
      "[('win', 211), ('best', 199), ('growth', 139), ('well', 132), ('development', 126), ('goal', 97), ('progress', 91), ('perfect', 91), ('improve', 90), ('success', 81), ('benefit', 77), ('congratulations', 74), ('goals', 59), ('advance', 58), ('congrats', 55), ('achieve', 55), ('raise', 52), ('ambitious', 50), ('rise', 47), ('develop', 46)]\n",
      "benevolence.txt\n",
      "[('help', 852), ('thank', 426), ('thanks', 411), ('love', 339), ('friends', 256), ('share', 220), ('give', 164), ('service', 149), ('gift', 134), ('provide', 132), ('volunteer', 127), ('helping', 122), ('giving', 118), ('sharing', 106), ('care', 106), ('helped', 84), ('helps', 68), ('donate', 68), ('donation', 64), ('provides', 62)]\n",
      "conformity.txt\n",
      "[('support', 736), ('group', 122), ('supporting', 119), ('groups', 118), ('honor', 118), ('law', 105), ('order', 85), ('honored', 80), ('agree', 72), ('agreement', 72), ('follow', 60), ('rule', 54), ('following', 52), ('supports', 51), ('legal', 50), ('rules', 47), ('illegal', 44), ('regulations', 42), ('laws', 42), ('submit', 35)]\n",
      "hedonism.txt\n",
      "[('celebrate', 236), ('happy', 228), ('beautiful', 181), ('enjoy', 164), ('fun', 118), ('celebrating', 109), ('game', 104), ('festival', 98), ('recreation', 87), ('celebration', 83), ('drinking', 68), ('pleased', 50), ('pretty', 33), ('glad', 32), ('joy', 27), ('enjoyed', 21), ('celebrated', 20), ('celebrates', 20), ('recreational', 16), ('drink', 16)]\n",
      "power.txt\n",
      "[('administration', 302), ('power', 284), ('leaders', 273), ('director', 215), ('lead', 158), ('leading', 118), ('top', 100), ('strong', 98), ('leader', 97), ('management', 97), ('demand', 77), ('head', 74), ('powerful', 61), ('recognize', 60), ('led', 60), ('governor', 50), ('strengthen', 39), ('king', 38), ('chief', 32), ('control', 31)]\n",
      "security.txt\n",
      "[('clean', 585), ('health', 380), ('protect', 380), ('crisis', 354), ('fight', 232), ('safe', 189), ('healthy', 173), ('save', 156), ('protecting', 146), ('safety', 125), ('fighting', 118), ('protection', 99), ('protections', 98), ('dangerous', 92), ('emergency', 76), ('threat', 70), ('protected', 67), ('shot', 62), ('killing', 53), ('threats', 46)]\n",
      "self_direction.txt\n",
      "[('make', 611), ('opportunity', 227), ('plan', 201), ('made', 201), ('making', 190), ('think', 188), ('research', 181), ('build', 166), ('create', 164), ('vote', 145), ('explore', 130), ('planning', 124), ('plans', 124), ('discuss', 118), ('makes', 104), ('creating', 99), ('opportunities', 94), ('conversation', 93), ('consider', 89), ('ask', 82)]\n",
      "stimulation.txt\n",
      "[('energy', 665), ('change', 659), ('action', 523), ('opportunity', 227), ('excited', 196), ('challenge', 143), ('risk', 128), ('movement', 120), ('fresh', 115), ('challenges', 107), ('actions', 86), ('exciting', 75), ('adventure', 67), ('thrilled', 61), ('bold', 60), ('vision', 53), ('challenging', 52), ('innovation', 49), ('inspired', 48), ('inspire', 47)]\n",
      "tradition.txt\n",
      "[('preserve', 206), ('restore', 108), ('holiday', 102), ('restoring', 45), ('wisdom', 40), ('heritage', 39), ('respect', 38), ('christmas', 32), ('holidays', 27), ('culture', 21), ('restored', 21), ('practice', 17), ('cultures', 14), ('preserving', 13), ('habits', 12), ('traditional', 11), ('blessed', 11), ('estate', 9), ('faith', 9), ('christian', 7)]\n",
      "universalism.txt\n",
      "[('climate', 1735), ('environmental', 784), ('global', 318), ('justice', 308), ('right', 290), ('environment', 211), ('even', 190), ('everyone', 177), ('international', 123), ('united', 92), ('rights', 85), ('equity', 73), ('bipartisan', 73), ('coalition', 66), ('just', 60), ('diverse', 46), ('accepting', 45), ('diversity', 36), ('union', 24), ('accepted', 22)]\n"
     ]
    }
   ],
   "source": [
    "for value,words in values_dict.items():  #for each key and synonym pair in the value dictionary\n",
    "        \n",
    "    matching_words = [w for w in combined_tweet_tokens if w in words  ] #identify and store words that appear in synonyms and clean tokens\n",
    "    \n",
    "    unique= Counter(matching_words)\n",
    "            \n",
    "    print(value + \"\\n\" + str(unique.most_common(20)))\n",
    "     "
   ]
  },
  {
   "cell_type": "markdown",
   "metadata": {},
   "source": [
    "## Most Common Synonyms in MVVs"
   ]
  },
  {
   "cell_type": "code",
   "execution_count": 85,
   "metadata": {},
   "outputs": [],
   "source": [
    "## Combining tokens to look at most common values overall and what values orgs are using\n",
    "\n",
    "nonprofit_MVV_files = small_MVVs + medium_MVVs + large_MVVs\n",
    "\n",
    "combined_MVV_tokens = []\n",
    "\n",
    "for file in nonprofit_MVV_files:\n",
    "    nonprofit = open(file, \"r\", encoding=\"Latin-1\")\n",
    "    nonprofit_tweets = nonprofit.read()\n",
    "    MVV_tokens = nltk.word_tokenize(nonprofit_tweets)\n",
    "    \n",
    "    \n",
    "    \n",
    "    for tokens in MVV_tokens:\n",
    "        if tokens not in sw and tokens.isalpha() and tokens != 'https' and tokens != 'amp': #Removing irrelevant tokens that appear\n",
    "            combined_MVV_tokens.append(tokens.lower())\n",
    "\n",
    "    "
   ]
  },
  {
   "cell_type": "code",
   "execution_count": 86,
   "metadata": {},
   "outputs": [
    {
     "name": "stdout",
     "output_type": "stream",
     "text": [
      "achievement.txt\n",
      "[('best', 13), ('achieve', 11), ('success', 10), ('improve', 10), ('goal', 8), ('successful', 8), ('benefit', 8), ('development', 8), ('goals', 6), ('progress', 6), ('victories', 6), ('growth', 6), ('complete', 5), ('advance', 5), ('champion', 5), ('achieving', 5), ('raise', 4), ('well', 4), ('influence', 4), ('accomplish', 4)]\n",
      "benevolence.txt\n",
      "[('donate', 71), ('give', 43), ('volunteer', 36), ('help', 27), ('giving', 23), ('service', 22), ('share', 19), ('provide', 14), ('providing', 13), ('donation', 12), ('gift', 10), ('friends', 9), ('assistance', 9), ('provided', 6), ('charity', 6), ('love', 6), ('gifts', 4), ('philanthropy', 4), ('helping', 4), ('humanity', 4)]\n",
      "conformity.txt\n",
      "[('support', 50), ('legal', 23), ('group', 19), ('law', 11), ('order', 11), ('follow', 11), ('groups', 10), ('laws', 7), ('supporting', 6), ('following', 5), ('supported', 5), ('submit', 4), ('honor', 4), ('agreement', 3), ('supports', 3), ('agreeing', 3), ('ruling', 3), ('regulations', 2), ('embracing', 2), ('followers', 1)]\n",
      "hedonism.txt\n",
      "[('recreation', 11), ('festival', 5), ('celebration', 4), ('desire', 4), ('drink', 3), ('enjoy', 3), ('fun', 2), ('beautiful', 2), ('celebrate', 2), ('joy', 2), ('eat', 1), ('pleased', 1), ('game', 1), ('greedy', 1), ('happy', 1), ('contentment', 1)]\n",
      "power.txt\n",
      "[('leaders', 37), ('directors', 19), ('power', 17), ('management', 17), ('led', 8), ('administration', 7), ('recognize', 7), ('powerful', 7), ('recognized', 6), ('director', 6), ('leading', 6), ('top', 4), ('governor', 4), ('strong', 4), ('governing', 4), ('lead', 3), ('governors', 3), ('force', 3), ('strength', 3), ('enforcement', 2)]\n",
      "security.txt\n",
      "[('protect', 55), ('clean', 30), ('protecting', 23), ('protection', 19), ('healthy', 18), ('health', 18), ('protected', 16), ('crisis', 14), ('secure', 11), ('security', 10), ('safe', 8), ('fight', 8), ('save', 7), ('protects', 7), ('safeguard', 4), ('saved', 4), ('protections', 3), ('war', 3), ('defend', 3), ('destruction', 2)]\n",
      "self_direction.txt\n",
      "[('research', 37), ('search', 32), ('advocacy', 27), ('plan', 27), ('opportunities', 20), ('made', 19), ('make', 16), ('build', 13), ('making', 10), ('creating', 9), ('planning', 9), ('create', 9), ('design', 9), ('established', 7), ('created', 6), ('choose', 6), ('explore', 6), ('planned', 5), ('advocating', 5), ('built', 5)]\n",
      "stimulation.txt\n",
      "[('action', 55), ('change', 50), ('energy', 45), ('vision', 37), ('diversity', 20), ('movement', 14), ('diverse', 13), ('challenges', 9), ('inspire', 8), ('challenge', 7), ('bold', 6), ('fresh', 6), ('opportunity', 5), ('actions', 5), ('variety', 4), ('challenged', 3), ('inspired', 3), ('innovation', 3), ('activity', 2), ('exciting', 2)]\n",
      "tradition.txt\n",
      "[('preserve', 19), ('restore', 18), ('restoring', 11), ('heritage', 10), ('respect', 9), ('practice', 5), ('respected', 5), ('culture', 5), ('preserving', 4), ('cultures', 2), ('restores', 2), ('restored', 2), ('symbol', 1), ('belief', 1), ('traditional', 1), ('faith', 1), ('myths', 1), ('tradition', 1), ('respecting', 1), ('ethnic', 1)]\n",
      "universalism.txt\n",
      "[('environmental', 91), ('climate', 88), ('global', 52), ('environment', 24), ('justice', 20), ('diversity', 20), ('equity', 19), ('everyone', 19), ('diverse', 13), ('rights', 11), ('international', 10), ('coalition', 10), ('right', 8), ('balance', 6), ('even', 4), ('integrity', 4), ('truth', 4), ('just', 4), ('transparency', 3), ('accept', 2)]\n"
     ]
    }
   ],
   "source": [
    "for value,words in values_dict.items():  #for each key and synonym pair in the value dictionary\n",
    "        \n",
    "    matching_words = [w for w in combined_MVV_tokens if w in words  ] #identify and store words that appear in synonyms and clean tokens\n",
    "    \n",
    "    unique= Counter(matching_words)\n",
    "            \n",
    "    print(value + \"\\n\" + str(unique.most_common(20)))"
   ]
  },
  {
   "cell_type": "markdown",
   "metadata": {},
   "source": [
    "## Principal Components Analysis"
   ]
  },
  {
   "cell_type": "code",
   "execution_count": 102,
   "metadata": {},
   "outputs": [],
   "source": [
    "import pandas as pd\n",
    "from sklearn import decomposition\n",
    "from sklearn.preprocessing import scale\n",
    "from sklearn.decomposition import PCA"
   ]
  },
  {
   "cell_type": "markdown",
   "metadata": {},
   "source": [
    "## Tweets"
   ]
  },
  {
   "cell_type": "code",
   "execution_count": 94,
   "metadata": {},
   "outputs": [],
   "source": [
    "##Tweet freqs\n",
    "\n",
    "\n",
    "\n",
    "tweet_freq=[[0.0089, 0.0196, 0.0058, 0.0072, 0.0094, 0.0083, 0.0197, 0.0122, 0.0049, 0.0098],\n",
    " [0.0064, 0.0081, 0.0112, 0.0021, 0.0121, 0.0122, 0.0129, 0.0046, 0.0012, 0.0123],\n",
    " [0.0082, 0.0164, 0.0058, 0.0093, 0.0091, 0.01, 0.0173, 0.0176, 0.0007, 0.0189],\n",
    " [0.0109, 0.0191, 0.0108, 0.0047, 0.0065, 0.0101, 0.0261, 0.0093, 0.0018, 0.0147],\n",
    " [0.0081, 0.0182, 0.0062, 0.0077, 0.0094, 0.0222, 0.0214, 0.0168, 0.0023, 0.0218],\n",
    " [0.0072, 0.0234, 0.0066,  0.0085, 0.0073, 0.0165, 0.0213, 0.0059, 0.0015, 0.0088],\n",
    " [0.0086, 0.012, 0.0165, 0.0045, 0.0101, 0.017, 0.017, 0.0101, 0.0031, 0.0086],\n",
    " [0.0058, 0.0158, 0.0058, 0.0052, 0.0045, 0.0064, 0.0084, 0.0093, 0.0061, 0.0126],\n",
    " [0.0085, 0.0123, 0.0068, 0.0043, 0.0068, 0.0224, 0.0165, 0.0151, 0.0015, 0.0276],\n",
    " [0.0109, 0.0191, 0.0126, 0.0059, 0.0069, 0.0048, 0.0148, 0.0123, 0.0023, 0.0078],\n",
    " \n",
    " [0.0077, 0.0133, 0.0109, 0.002, 0.0138, 0.0247, 0.0158, 0.0137, 0.0041, 0.0123],\n",
    " [0.0113, 0.0302, 0.0052, 0.0128, 0.005, 0.0058, 0.0196, 0.0068, 0.0021, 0.0044],\n",
    " [0.0093, 0.0132, 0.0035, 0.0108, 0.0052, 0.0055, 0.0114, 0.0093, 0.002, 0.0076],\n",
    " [0.0091, 0.0254, 0.0067, 0.0081, 0.0059, 0.0092, 0.014, 0.0051, 0.0021, 0.0045],\n",
    " [0.0067, 0.0139, 0.0081, 0.0061, 0.0123, 0.0134, 0.0176, 0.0129, 0.0066, 0.0176],\n",
    " [0.0051, 0.0259, 0.0053, 0.0081, 0.0043, 0.0149, 0.0233, 0.016, 0.002, 0.02],\n",
    " [0.0071, 0.0151, 0.0027, 0.0093, 0.0044, 0.0046, 0.0138, 0.0096, 0.0186, 0.0062],\n",
    " [0.0116, 0.0147, 0.0078, 0.0067, 0.0077, 0.009, 0.0206, 0.0125, 0.0013, 0.0168],\n",
    " [0.0122, 0.0068, 0.0063, 0.0016, 0.0099, 0.0166, 0.0196, 0.0132, 0.0013, 0.0212],\n",
    " [0.0099, 0.0086, 0.0075, 0.0032, 0.012, 0.0156, 0.017, 0.0098, 0.0015, 0.0232],\n",
    " \n",
    " [0.0198, 0.0092, 0.0143, 0.0026, 0.016, 0.0155, 0.0241, 0.0287, 0.0015, 0.0354],\n",
    " [0.0104, 0.0174, 0.0066, 0.0047, 0.0117, 0.0154, 0.0167, 0.0126, 0.0054, 0.0142],\n",
    " [0.0063, 0.0224, 0.0067, 0.0097, 0.0048, 0.016, 0.0187, 0.0127, 0.0011, 0.0082],\n",
    " [0.0177, 0.0086, 0.0043, 0.001, 0.0163, 0.0115, 0.0235, 0.0297, 0.0004, 0.0198],\n",
    " [0.0081, 0.0076, 0.0115, 0.0024, 0.023, 0.0375, 0.0155, 0.015, 0.002, 0.0285],\n",
    " [0.0102, 0.0089, 0.0069, 0.0016, 0.0142, 0.0054, 0.0312, 0.0169, 0.001, 0.0186],\n",
    " [0.0062, 0.0137, 0.0096, 0.0041, 0.0118, 0.0264, 0.0199, 0.0118, 0.0016, 0.0181],\n",
    " [0.0118, 0.026, 0.0092, 0.0161, 0.0065, 0.0058, 0.012, 0.0052, 0.0048, 0.0008],\n",
    " [0.0102, 0.0247, 0.0058, 0.0082, 0.0081, 0.0087, 0.0186, 0.01, 0.0026, 0.0065],\n",
    " [0.0094, 0.0076, 0.0045, 0.0019, 0.0157, 0.0443, 0.0239, 0.0289, 0.0021, 0.0677]]\n",
    "\n"
   ]
  },
  {
   "cell_type": "code",
   "execution_count": 142,
   "metadata": {},
   "outputs": [
    {
     "data": {
      "text/plain": [
       "array([[-0.17697429,  0.57223772, -0.60754108,  0.32981008, -0.06628178,\n",
       "        -0.67331517,  0.27444966, -0.14471134,  0.58018537, -0.54146796],\n",
       "       [-0.97655694, -1.2095494 ,  1.10413987, -1.08763212,  0.55082441,\n",
       "        -0.25136619, -1.1685331 , -1.34015285, -0.53982465, -0.33892384],\n",
       "       [-0.40085743,  0.07643609, -0.60754108,  0.91346275, -0.13484913,\n",
       "        -0.48938869, -0.23483837,  0.70468131, -0.69117736,  0.19579265],\n",
       "       [ 0.46269183,  0.49476871,  0.97734869, -0.36501453, -0.72909953,\n",
       "        -0.47856948,  1.63255108, -0.60086665, -0.3582014 , -0.14448148],\n",
       "       [-0.43284074,  0.3553245 , -0.4807499 ,  0.468775  , -0.06628178,\n",
       "         0.83055427,  0.63519535,  0.57884536, -0.2068487 ,  0.43074384],\n",
       "       [-0.72069049,  1.16100216, -0.35395872,  0.69111887, -0.54625325,\n",
       "         0.21385961,  0.61397502, -1.13566943, -0.44901303, -0.62248561],\n",
       "       [-0.27292421, -0.60529116,  2.78412303, -0.42060049,  0.09370872,\n",
       "         0.26795563, -0.29849937, -0.4750307 ,  0.03531563, -0.63868914],\n",
       "       [-1.16845678, -0.01652672, -0.60754108, -0.2260496 , -1.18621522,\n",
       "        -0.87888005, -2.12344816, -0.60086665,  0.94343186, -0.31461854],\n",
       "       [-0.30490752, -0.55880976, -0.29056312, -0.47618646, -0.66053218,\n",
       "         0.85219268, -0.40460105,  0.31144397, -0.44901303,  0.90064621],\n",
       "       [ 0.46269183,  0.49476871,  1.54790901, -0.03149872, -0.63767639,\n",
       "        -1.05198733, -0.76534674, -0.12898185, -0.2068487 , -0.70350326],\n",
       "       [-0.56077396, -0.40387175,  1.00904649, -1.1154251 ,  0.93937275,\n",
       "         1.10103439, -0.55314339,  0.09123106,  0.33802104, -0.33892384],\n",
       "       [ 0.59062505,  2.21458063, -0.79772785,  1.88621719, -1.0719363 ,\n",
       "        -0.94379528,  0.25322933, -0.99410399, -0.26738978, -0.97896327],\n",
       "       [-0.04904107, -0.41936555, -1.33659037,  1.33035751, -1.02622473,\n",
       "        -0.97625289, -1.48683812, -0.60086665, -0.29766032, -0.71970679],\n",
       "       [-0.11300768,  1.47087818, -0.32226092,  0.57994694, -0.86623424,\n",
       "        -0.57594232, -0.93510941, -1.26150538, -0.26738978, -0.97086151],\n",
       "       [-0.88060702, -0.31090894,  0.12150822,  0.02408725,  0.59653598,\n",
       "        -0.12153573, -0.17117737, -0.03460489,  1.09478457,  0.09046971],\n",
       "       [-1.39233992,  1.54834718, -0.76603006,  0.57994694, -1.23192679,\n",
       "         0.04075234,  1.03838171,  0.45300941, -0.29766032,  0.28491207],\n",
       "       [-0.7526738 , -0.12498333, -1.59017274,  0.91346275, -1.20907101,\n",
       "        -1.07362574, -0.97755008, -0.55367817,  4.7272495 , -0.8331315 ],\n",
       "       [ 0.68657497, -0.18695853,  0.02641483,  0.19084516, -0.45483011,\n",
       "        -0.59758073,  0.46543267, -0.09752286, -0.50955411,  0.02565559],\n",
       "       [ 0.8784748 , -1.41096881, -0.4490521 , -1.22659704,  0.04799715,\n",
       "         0.22467882,  0.25322933,  0.01258359, -0.50955411,  0.38213325],\n",
       "       [ 0.14285877, -1.13208039, -0.06867856, -0.78190929,  0.52796862,\n",
       "         0.11648677, -0.29849937, -0.52221919, -0.44901303,  0.54416855],\n",
       "       [ 3.30920605, -1.03911759,  2.08677153, -0.94866719,  1.44220001,\n",
       "         0.10566756,  1.20814439,  2.45065509, -0.44901303,  1.53258388],\n",
       "       [ 0.3027753 ,  0.2313741 , -0.35395872, -0.36501453,  0.45940127,\n",
       "         0.09484836, -0.36216038, -0.08179337,  0.73153808, -0.1849903 ],\n",
       "       [-1.00854025,  1.00606415, -0.32226092,  1.02463468, -1.11764787,\n",
       "         0.15976359,  0.06224632, -0.06606387, -0.57009519, -0.6710962 ],\n",
       "       [ 2.63755663, -1.13208039, -1.08300801, -1.39335494,  1.51076736,\n",
       "        -0.32710062,  1.08082238,  2.60795003, -0.78198898,  0.26870854],\n",
       "       [-0.43284074, -1.2870184 ,  1.19923326, -1.00425316,  3.04210493,\n",
       "         2.48589258, -0.61680439,  0.29571448, -0.29766032,  0.97356209],\n",
       "       [ 0.23880868, -1.08559899, -0.25886533, -1.22659704,  1.03079589,\n",
       "        -0.9870721 ,  2.71478815,  0.59457486, -0.60036573,  0.17148736],\n",
       "       [-1.04052355, -0.34189654,  0.59697515, -0.53177243,  0.48225706,\n",
       "         1.28496087,  0.31689033, -0.20762931, -0.41874249,  0.13097853],\n",
       "       [ 0.75054158,  1.56384098,  0.47018397,  2.80338567, -0.72909953,\n",
       "        -0.94379528, -1.35951611, -1.24577589,  0.54991483, -1.27062681],\n",
       "       [ 0.23880868,  1.36242157, -0.60754108,  0.60773992, -0.36340698,\n",
       "        -0.63003835,  0.04102598, -0.4907602 , -0.11603707, -0.80882621],\n",
       "       [-0.01705776, -1.2870184 , -1.01961242, -1.14321808,  1.37363266,\n",
       "         3.22159849,  1.16570372,  2.48211408, -0.26738978,  4.14945397]])"
      ]
     },
     "execution_count": 142,
     "metadata": {},
     "output_type": "execute_result"
    }
   ],
   "source": [
    "x=np.array(tweet_freq)\n",
    "x=scale(x);x"
   ]
  },
  {
   "cell_type": "code",
   "execution_count": 143,
   "metadata": {},
   "outputs": [],
   "source": [
    "covar_matrix = PCA(n_components = 10) ##for 10 values\n"
   ]
  },
  {
   "cell_type": "code",
   "execution_count": 144,
   "metadata": {},
   "outputs": [
    {
     "data": {
      "text/plain": [
       "array([44.4, 59.1, 71.9, 82. , 87.7, 92.9, 96. , 97.7, 99.2, 99.9])"
      ]
     },
     "execution_count": 144,
     "metadata": {},
     "output_type": "execute_result"
    }
   ],
   "source": [
    "covar_matrix.fit(x)\n",
    "variance = covar_matrix.explained_variance_ratio_ #calculate variance ratios\n",
    "\n",
    "var=np.cumsum(np.round(covar_matrix.explained_variance_ratio_, decimals=3)*100)\n",
    "var #cumulative sum of variance explained with [n] features"
   ]
  },
  {
   "cell_type": "markdown",
   "metadata": {},
   "source": [
    "In the above array we see that the first feature explains roughly 44.4% of the variance within our data set while the first two explain 59.1 and so on. If we employ 10 features we capture 98.4% of the variance within the dataset, thus we gain very little by implementing an additional feature "
   ]
  },
  {
   "cell_type": "code",
   "execution_count": 145,
   "metadata": {},
   "outputs": [
    {
     "data": {
      "text/plain": [
       "[<matplotlib.lines.Line2D at 0x237369e0ac8>]"
      ]
     },
     "execution_count": 145,
     "metadata": {},
     "output_type": "execute_result"
    },
    {
     "data": {
      "image/png": "[encoded data removed]",
      "text/plain": [
       "<Figure size 432x288 with 1 Axes>"
      ]
     },
     "metadata": {
      "needs_background": "light"
     },
     "output_type": "display_data"
    }
   ],
   "source": [
    "plt.ylabel('% Variance Explained')\n",
    "plt.xlabel('# of Values')\n",
    "plt.title('PCA Analysis for Tweets')\n",
    "plt.ylim(30,100.5)\n",
    "plt.style.context('seaborn-whitegrid')\n",
    "\n",
    "\n",
    "plt.plot(var)"
   ]
  },
  {
   "cell_type": "code",
   "execution_count": 134,
   "metadata": {},
   "outputs": [
    {
     "data": {
      "application/vnd.plotly.v1+json": {
       "config": {
        "plotlyServerURL": "https://plot.ly"
       },
       "data": [
        {
         "hovertemplate": "0=%{x}<br>1=%{y}<extra></extra>",
         "legendgroup": "",
         "marker": {
          "color": "#636efa",
          "symbol": "circle"
         },
         "mode": "markers",
         "name": "",
         "orientation": "v",
         "showlegend": false,
         "type": "scatter",
         "x": [
          -0.009329716711551396,
          -0.004283664918643271,
          0.00017681058977598156,
          -0.0047039877173738484,
          0.00807110861991211,
          -0.00933350469637319,
          -0.004267103993806573,
          -0.010235737314109768,
          0.012938829136818368,
          -0.012843045379692126,
          0.0035836072632292205,
          -0.020322720428597445,
          -0.013664423118107632,
          -0.01776696018137411,
          0.0008406065794055044,
          0.00013234126228518162,
          -0.01617930492869347,
          -0.0022938322463067753,
          0.007857269364119991,
          0.007132298908214985,
          0.02376412601284635,
          -0.0015606422875750526,
          -0.00867376099433721,
          0.010909221897903883,
          0.025220068935730727,
          0.0033898904654165204,
          0.007842299053834404,
          -0.02353461219368988,
          -0.01391638975506839,
          0.06105092877580693
         ],
         "xaxis": "x",
         "y": [
          0.0027854232462453674,
          -0.0037563045587627763,
          0.004553161829855803,
          0.0035733897674895955,
          -0.0031465131155751667,
          -0.006882165960155143,
          -0.004349498693656764,
          -0.0009834703337064316,
          -0.0036208879095165074,
          0.003987608842761659,
          -0.008134076717696408,
          -0.00022560319606190895,
          0.0015734411205748599,
          -0.004738561252013647,
          -7.46168541937363e-05,
          -0.00039868146083927653,
          0.0014106461845511166,
          0.00530033278645309,
          0.0026290247450643884,
          -0.00013467945467909688,
          0.015167239054936856,
          -0.001513371314926027,
          -0.004611969865151993,
          0.016841312823994738,
          -0.013590227464794737,
          0.015001046751677396,
          -0.008865909027752522,
          -0.0035399105111156622,
          0.00019736645973980052,
          -0.004453545922746827
         ],
         "yaxis": "y"
        }
       ],
       "layout": {
        "legend": {
         "tracegroupgap": 0
        },
        "template": {
         "data": {
          "bar": [
           {
            "error_x": {
             "color": "#2a3f5f"
            },
            "error_y": {
             "color": "#2a3f5f"
            },
            "marker": {
             "line": {
              "color": "#E5ECF6",
              "width": 0.5
             }
            },
            "type": "bar"
           }
          ],
          "barpolar": [
           {
            "marker": {
             "line": {
              "color": "#E5ECF6",
              "width": 0.5
             }
            },
            "type": "barpolar"
           }
          ],
          "carpet": [
           {
            "aaxis": {
             "endlinecolor": "#2a3f5f",
             "gridcolor": "white",
             "linecolor": "white",
             "minorgridcolor": "white",
             "startlinecolor": "#2a3f5f"
            },
            "baxis": {
             "endlinecolor": "#2a3f5f",
             "gridcolor": "white",
             "linecolor": "white",
             "minorgridcolor": "white",
             "startlinecolor": "#2a3f5f"
            },
            "type": "carpet"
           }
          ],
          "choropleth": [
           {
            "colorbar": {
             "outlinewidth": 0,
             "ticks": ""
            },
            "type": "choropleth"
           }
          ],
          "contour": [
           {
            "colorbar": {
             "outlinewidth": 0,
             "ticks": ""
            },
            "colorscale": [
             [
              0,
              "#0d0887"
             ],
             [
              0.1111111111111111,
              "#46039f"
             ],
             [
              0.2222222222222222,
              "#7201a8"
             ],
             [
              0.3333333333333333,
              "#9c179e"
             ],
             [
              0.4444444444444444,
              "#bd3786"
             ],
             [
              0.5555555555555556,
              "#d8576b"
             ],
             [
              0.6666666666666666,
              "#ed7953"
             ],
             [
              0.7777777777777778,
              "#fb9f3a"
             ],
             [
              0.8888888888888888,
              "#fdca26"
             ],
             [
              1,
              "#f0f921"
             ]
            ],
            "type": "contour"
           }
          ],
          "contourcarpet": [
           {
            "colorbar": {
             "outlinewidth": 0,
             "ticks": ""
            },
            "type": "contourcarpet"
           }
          ],
          "heatmap": [
           {
            "colorbar": {
             "outlinewidth": 0,
             "ticks": ""
            },
            "colorscale": [
             [
              0,
              "#0d0887"
             ],
             [
              0.1111111111111111,
              "#46039f"
             ],
             [
              0.2222222222222222,
              "#7201a8"
             ],
             [
              0.3333333333333333,
              "#9c179e"
             ],
             [
              0.4444444444444444,
              "#bd3786"
             ],
             [
              0.5555555555555556,
              "#d8576b"
             ],
             [
              0.6666666666666666,
              "#ed7953"
             ],
             [
              0.7777777777777778,
              "#fb9f3a"
             ],
             [
              0.8888888888888888,
              "#fdca26"
             ],
             [
              1,
              "#f0f921"
             ]
            ],
            "type": "heatmap"
           }
          ],
          "heatmapgl": [
           {
            "colorbar": {
             "outlinewidth": 0,
             "ticks": ""
            },
            "colorscale": [
             [
              0,
              "#0d0887"
             ],
             [
              0.1111111111111111,
              "#46039f"
             ],
             [
              0.2222222222222222,
              "#7201a8"
             ],
             [
              0.3333333333333333,
              "#9c179e"
             ],
             [
              0.4444444444444444,
              "#bd3786"
             ],
             [
              0.5555555555555556,
              "#d8576b"
             ],
             [
              0.6666666666666666,
              "#ed7953"
             ],
             [
              0.7777777777777778,
              "#fb9f3a"
             ],
             [
              0.8888888888888888,
              "#fdca26"
             ],
             [
              1,
              "#f0f921"
             ]
            ],
            "type": "heatmapgl"
           }
          ],
          "histogram": [
           {
            "marker": {
             "colorbar": {
              "outlinewidth": 0,
              "ticks": ""
             }
            },
            "type": "histogram"
           }
          ],
          "histogram2d": [
           {
            "colorbar": {
             "outlinewidth": 0,
             "ticks": ""
            },
            "colorscale": [
             [
              0,
              "#0d0887"
             ],
             [
              0.1111111111111111,
              "#46039f"
             ],
             [
              0.2222222222222222,
              "#7201a8"
             ],
             [
              0.3333333333333333,
              "#9c179e"
             ],
             [
              0.4444444444444444,
              "#bd3786"
             ],
             [
              0.5555555555555556,
              "#d8576b"
             ],
             [
              0.6666666666666666,
              "#ed7953"
             ],
             [
              0.7777777777777778,
              "#fb9f3a"
             ],
             [
              0.8888888888888888,
              "#fdca26"
             ],
             [
              1,
              "#f0f921"
             ]
            ],
            "type": "histogram2d"
           }
          ],
          "histogram2dcontour": [
           {
            "colorbar": {
             "outlinewidth": 0,
             "ticks": ""
            },
            "colorscale": [
             [
              0,
              "#0d0887"
             ],
             [
              0.1111111111111111,
              "#46039f"
             ],
             [
              0.2222222222222222,
              "#7201a8"
             ],
             [
              0.3333333333333333,
              "#9c179e"
             ],
             [
              0.4444444444444444,
              "#bd3786"
             ],
             [
              0.5555555555555556,
              "#d8576b"
             ],
             [
              0.6666666666666666,
              "#ed7953"
             ],
             [
              0.7777777777777778,
              "#fb9f3a"
             ],
             [
              0.8888888888888888,
              "#fdca26"
             ],
             [
              1,
              "#f0f921"
             ]
            ],
            "type": "histogram2dcontour"
           }
          ],
          "mesh3d": [
           {
            "colorbar": {
             "outlinewidth": 0,
             "ticks": ""
            },
            "type": "mesh3d"
           }
          ],
          "parcoords": [
           {
            "line": {
             "colorbar": {
              "outlinewidth": 0,
              "ticks": ""
             }
            },
            "type": "parcoords"
           }
          ],
          "pie": [
           {
            "automargin": true,
            "type": "pie"
           }
          ],
          "scatter": [
           {
            "marker": {
             "colorbar": {
              "outlinewidth": 0,
              "ticks": ""
             }
            },
            "type": "scatter"
           }
          ],
          "scatter3d": [
           {
            "line": {
             "colorbar": {
              "outlinewidth": 0,
              "ticks": ""
             }
            },
            "marker": {
             "colorbar": {
              "outlinewidth": 0,
              "ticks": ""
             }
            },
            "type": "scatter3d"
           }
          ],
          "scattercarpet": [
           {
            "marker": {
             "colorbar": {
              "outlinewidth": 0,
              "ticks": ""
             }
            },
            "type": "scattercarpet"
           }
          ],
          "scattergeo": [
           {
            "marker": {
             "colorbar": {
              "outlinewidth": 0,
              "ticks": ""
             }
            },
            "type": "scattergeo"
           }
          ],
          "scattergl": [
           {
            "marker": {
             "colorbar": {
              "outlinewidth": 0,
              "ticks": ""
             }
            },
            "type": "scattergl"
           }
          ],
          "scattermapbox": [
           {
            "marker": {
             "colorbar": {
              "outlinewidth": 0,
              "ticks": ""
             }
            },
            "type": "scattermapbox"
           }
          ],
          "scatterpolar": [
           {
            "marker": {
             "colorbar": {
              "outlinewidth": 0,
              "ticks": ""
             }
            },
            "type": "scatterpolar"
           }
          ],
          "scatterpolargl": [
           {
            "marker": {
             "colorbar": {
              "outlinewidth": 0,
              "ticks": ""
             }
            },
            "type": "scatterpolargl"
           }
          ],
          "scatterternary": [
           {
            "marker": {
             "colorbar": {
              "outlinewidth": 0,
              "ticks": ""
             }
            },
            "type": "scatterternary"
           }
          ],
          "surface": [
           {
            "colorbar": {
             "outlinewidth": 0,
             "ticks": ""
            },
            "colorscale": [
             [
              0,
              "#0d0887"
             ],
             [
              0.1111111111111111,
              "#46039f"
             ],
             [
              0.2222222222222222,
              "#7201a8"
             ],
             [
              0.3333333333333333,
              "#9c179e"
             ],
             [
              0.4444444444444444,
              "#bd3786"
             ],
             [
              0.5555555555555556,
              "#d8576b"
             ],
             [
              0.6666666666666666,
              "#ed7953"
             ],
             [
              0.7777777777777778,
              "#fb9f3a"
             ],
             [
              0.8888888888888888,
              "#fdca26"
             ],
             [
              1,
              "#f0f921"
             ]
            ],
            "type": "surface"
           }
          ],
          "table": [
           {
            "cells": {
             "fill": {
              "color": "#EBF0F8"
             },
             "line": {
              "color": "white"
             }
            },
            "header": {
             "fill": {
              "color": "#C8D4E3"
             },
             "line": {
              "color": "white"
             }
            },
            "type": "table"
           }
          ]
         },
         "layout": {
          "annotationdefaults": {
           "arrowcolor": "#2a3f5f",
           "arrowhead": 0,
           "arrowwidth": 1
          },
          "autotypenumbers": "strict",
          "coloraxis": {
           "colorbar": {
            "outlinewidth": 0,
            "ticks": ""
           }
          },
          "colorscale": {
           "diverging": [
            [
             0,
             "#8e0152"
            ],
            [
             0.1,
             "#c51b7d"
            ],
            [
             0.2,
             "#de77ae"
            ],
            [
             0.3,
             "#f1b6da"
            ],
            [
             0.4,
             "#fde0ef"
            ],
            [
             0.5,
             "#f7f7f7"
            ],
            [
             0.6,
             "#e6f5d0"
            ],
            [
             0.7,
             "#b8e186"
            ],
            [
             0.8,
             "#7fbc41"
            ],
            [
             0.9,
             "#4d9221"
            ],
            [
             1,
             "#276419"
            ]
           ],
           "sequential": [
            [
             0,
             "#0d0887"
            ],
            [
             0.1111111111111111,
             "#46039f"
            ],
            [
             0.2222222222222222,
             "#7201a8"
            ],
            [
             0.3333333333333333,
             "#9c179e"
            ],
            [
             0.4444444444444444,
             "#bd3786"
            ],
            [
             0.5555555555555556,
             "#d8576b"
            ],
            [
             0.6666666666666666,
             "#ed7953"
            ],
            [
             0.7777777777777778,
             "#fb9f3a"
            ],
            [
             0.8888888888888888,
             "#fdca26"
            ],
            [
             1,
             "#f0f921"
            ]
           ],
           "sequentialminus": [
            [
             0,
             "#0d0887"
            ],
            [
             0.1111111111111111,
             "#46039f"
            ],
            [
             0.2222222222222222,
             "#7201a8"
            ],
            [
             0.3333333333333333,
             "#9c179e"
            ],
            [
             0.4444444444444444,
             "#bd3786"
            ],
            [
             0.5555555555555556,
             "#d8576b"
            ],
            [
             0.6666666666666666,
             "#ed7953"
            ],
            [
             0.7777777777777778,
             "#fb9f3a"
            ],
            [
             0.8888888888888888,
             "#fdca26"
            ],
            [
             1,
             "#f0f921"
            ]
           ]
          },
          "colorway": [
           "#636efa",
           "#EF553B",
           "#00cc96",
           "#ab63fa",
           "#FFA15A",
           "#19d3f3",
           "#FF6692",
           "#B6E880",
           "#FF97FF",
           "#FECB52"
          ],
          "font": {
           "color": "#2a3f5f"
          },
          "geo": {
           "bgcolor": "white",
           "lakecolor": "white",
           "landcolor": "#E5ECF6",
           "showlakes": true,
           "showland": true,
           "subunitcolor": "white"
          },
          "hoverlabel": {
           "align": "left"
          },
          "hovermode": "closest",
          "mapbox": {
           "style": "light"
          },
          "paper_bgcolor": "white",
          "plot_bgcolor": "#E5ECF6",
          "polar": {
           "angularaxis": {
            "gridcolor": "white",
            "linecolor": "white",
            "ticks": ""
           },
           "bgcolor": "#E5ECF6",
           "radialaxis": {
            "gridcolor": "white",
            "linecolor": "white",
            "ticks": ""
           }
          },
          "scene": {
           "xaxis": {
            "backgroundcolor": "#E5ECF6",
            "gridcolor": "white",
            "gridwidth": 2,
            "linecolor": "white",
            "showbackground": true,
            "ticks": "",
            "zerolinecolor": "white"
           },
           "yaxis": {
            "backgroundcolor": "#E5ECF6",
            "gridcolor": "white",
            "gridwidth": 2,
            "linecolor": "white",
            "showbackground": true,
            "ticks": "",
            "zerolinecolor": "white"
           },
           "zaxis": {
            "backgroundcolor": "#E5ECF6",
            "gridcolor": "white",
            "gridwidth": 2,
            "linecolor": "white",
            "showbackground": true,
            "ticks": "",
            "zerolinecolor": "white"
           }
          },
          "shapedefaults": {
           "line": {
            "color": "#2a3f5f"
           }
          },
          "ternary": {
           "aaxis": {
            "gridcolor": "white",
            "linecolor": "white",
            "ticks": ""
           },
           "baxis": {
            "gridcolor": "white",
            "linecolor": "white",
            "ticks": ""
           },
           "bgcolor": "#E5ECF6",
           "caxis": {
            "gridcolor": "white",
            "linecolor": "white",
            "ticks": ""
           }
          },
          "title": {
           "x": 0.05
          },
          "xaxis": {
           "automargin": true,
           "gridcolor": "white",
           "linecolor": "white",
           "ticks": "",
           "title": {
            "standoff": 15
           },
           "zerolinecolor": "white",
           "zerolinewidth": 2
          },
          "yaxis": {
           "automargin": true,
           "gridcolor": "white",
           "linecolor": "white",
           "ticks": "",
           "title": {
            "standoff": 15
           },
           "zerolinecolor": "white",
           "zerolinewidth": 2
          }
         }
        },
        "title": {
         "text": "PCA Analysis for Tweets"
        },
        "xaxis": {
         "anchor": "y",
         "domain": [
          0,
          1
         ],
         "title": {
          "text": "0"
         }
        },
        "yaxis": {
         "anchor": "x",
         "domain": [
          0,
          1
         ],
         "title": {
          "text": "1"
         }
        }
       }
      },
      "text/html": [
       "<div>                            <div id=\"ab75fa6f-d997-4881-879a-9f69b58b67cc\" class=\"plotly-graph-div\" style=\"height:525px; width:100%;\"></div>            <script type=\"text/javascript\">                require([\"plotly\"], function(Plotly) {                    window.PLOTLYENV=window.PLOTLYENV || {};                                    if (document.getElementById(\"ab75fa6f-d997-4881-879a-9f69b58b67cc\")) {                    Plotly.newPlot(                        \"ab75fa6f-d997-4881-879a-9f69b58b67cc\",                        [{\"hovertemplate\": \"0=%{x}<br>1=%{y}<extra></extra>\", \"legendgroup\": \"\", \"marker\": {\"color\": \"#636efa\", \"symbol\": \"circle\"}, \"mode\": \"markers\", \"name\": \"\", \"orientation\": \"v\", \"showlegend\": false, \"type\": \"scatter\", \"x\": [-0.009329716711551396, -0.004283664918643271, 0.00017681058977598156, -0.0047039877173738484, 0.00807110861991211, -0.00933350469637319, -0.004267103993806573, -0.010235737314109768, 0.012938829136818368, -0.012843045379692126, 0.0035836072632292205, -0.020322720428597445, -0.013664423118107632, -0.01776696018137411, 0.0008406065794055044, 0.00013234126228518162, -0.01617930492869347, -0.0022938322463067753, 0.007857269364119991, 0.007132298908214985, 0.02376412601284635, -0.0015606422875750526, -0.00867376099433721, 0.010909221897903883, 0.025220068935730727, 0.0033898904654165204, 0.007842299053834404, -0.02353461219368988, -0.01391638975506839, 0.06105092877580693], \"xaxis\": \"x\", \"y\": [0.0027854232462453674, -0.0037563045587627763, 0.004553161829855803, 0.0035733897674895955, -0.0031465131155751667, -0.006882165960155143, -0.004349498693656764, -0.0009834703337064316, -0.0036208879095165074, 0.003987608842761659, -0.008134076717696408, -0.00022560319606190895, 0.0015734411205748599, -0.004738561252013647, -7.46168541937363e-05, -0.00039868146083927653, 0.0014106461845511166, 0.00530033278645309, 0.0026290247450643884, -0.00013467945467909688, 0.015167239054936856, -0.001513371314926027, -0.004611969865151993, 0.016841312823994738, -0.013590227464794737, 0.015001046751677396, -0.008865909027752522, -0.0035399105111156622, 0.00019736645973980052, -0.004453545922746827], \"yaxis\": \"y\"}],                        {\"legend\": {\"tracegroupgap\": 0}, \"template\": {\"data\": {\"bar\": [{\"error_x\": {\"color\": \"#2a3f5f\"}, \"error_y\": {\"color\": \"#2a3f5f\"}, \"marker\": {\"line\": {\"color\": \"#E5ECF6\", \"width\": 0.5}}, \"type\": \"bar\"}], \"barpolar\": [{\"marker\": {\"line\": {\"color\": \"#E5ECF6\", \"width\": 0.5}}, \"type\": \"barpolar\"}], \"carpet\": [{\"aaxis\": {\"endlinecolor\": \"#2a3f5f\", \"gridcolor\": \"white\", \"linecolor\": \"white\", \"minorgridcolor\": \"white\", \"startlinecolor\": \"#2a3f5f\"}, \"baxis\": {\"endlinecolor\": \"#2a3f5f\", \"gridcolor\": \"white\", \"linecolor\": \"white\", \"minorgridcolor\": \"white\", \"startlinecolor\": \"#2a3f5f\"}, \"type\": \"carpet\"}], \"choropleth\": [{\"colorbar\": {\"outlinewidth\": 0, \"ticks\": \"\"}, \"type\": \"choropleth\"}], \"contour\": [{\"colorbar\": {\"outlinewidth\": 0, \"ticks\": \"\"}, \"colorscale\": [[0.0, \"#0d0887\"], [0.1111111111111111, \"#46039f\"], [0.2222222222222222, \"#7201a8\"], [0.3333333333333333, \"#9c179e\"], [0.4444444444444444, \"#bd3786\"], [0.5555555555555556, \"#d8576b\"], [0.6666666666666666, \"#ed7953\"], [0.7777777777777778, \"#fb9f3a\"], [0.8888888888888888, \"#fdca26\"], [1.0, \"#f0f921\"]], \"type\": \"contour\"}], \"contourcarpet\": [{\"colorbar\": {\"outlinewidth\": 0, \"ticks\": \"\"}, \"type\": \"contourcarpet\"}], \"heatmap\": [{\"colorbar\": {\"outlinewidth\": 0, \"ticks\": \"\"}, \"colorscale\": [[0.0, \"#0d0887\"], [0.1111111111111111, \"#46039f\"], [0.2222222222222222, \"#7201a8\"], [0.3333333333333333, \"#9c179e\"], [0.4444444444444444, \"#bd3786\"], [0.5555555555555556, \"#d8576b\"], [0.6666666666666666, \"#ed7953\"], [0.7777777777777778, \"#fb9f3a\"], [0.8888888888888888, \"#fdca26\"], [1.0, \"#f0f921\"]], \"type\": \"heatmap\"}], \"heatmapgl\": [{\"colorbar\": {\"outlinewidth\": 0, \"ticks\": \"\"}, \"colorscale\": [[0.0, \"#0d0887\"], [0.1111111111111111, \"#46039f\"], [0.2222222222222222, \"#7201a8\"], [0.3333333333333333, \"#9c179e\"], [0.4444444444444444, \"#bd3786\"], [0.5555555555555556, \"#d8576b\"], [0.6666666666666666, \"#ed7953\"], [0.7777777777777778, \"#fb9f3a\"], [0.8888888888888888, \"#fdca26\"], [1.0, \"#f0f921\"]], \"type\": \"heatmapgl\"}], \"histogram\": [{\"marker\": {\"colorbar\": {\"outlinewidth\": 0, \"ticks\": \"\"}}, \"type\": \"histogram\"}], \"histogram2d\": [{\"colorbar\": {\"outlinewidth\": 0, \"ticks\": \"\"}, \"colorscale\": [[0.0, \"#0d0887\"], [0.1111111111111111, \"#46039f\"], [0.2222222222222222, \"#7201a8\"], [0.3333333333333333, \"#9c179e\"], [0.4444444444444444, \"#bd3786\"], [0.5555555555555556, \"#d8576b\"], [0.6666666666666666, \"#ed7953\"], [0.7777777777777778, \"#fb9f3a\"], [0.8888888888888888, \"#fdca26\"], [1.0, \"#f0f921\"]], \"type\": \"histogram2d\"}], \"histogram2dcontour\": [{\"colorbar\": {\"outlinewidth\": 0, \"ticks\": \"\"}, \"colorscale\": [[0.0, \"#0d0887\"], [0.1111111111111111, \"#46039f\"], [0.2222222222222222, \"#7201a8\"], [0.3333333333333333, \"#9c179e\"], [0.4444444444444444, \"#bd3786\"], [0.5555555555555556, \"#d8576b\"], [0.6666666666666666, \"#ed7953\"], [0.7777777777777778, \"#fb9f3a\"], [0.8888888888888888, \"#fdca26\"], [1.0, \"#f0f921\"]], \"type\": \"histogram2dcontour\"}], \"mesh3d\": [{\"colorbar\": {\"outlinewidth\": 0, \"ticks\": \"\"}, \"type\": \"mesh3d\"}], \"parcoords\": [{\"line\": {\"colorbar\": {\"outlinewidth\": 0, \"ticks\": \"\"}}, \"type\": \"parcoords\"}], \"pie\": [{\"automargin\": true, \"type\": \"pie\"}], \"scatter\": [{\"marker\": {\"colorbar\": {\"outlinewidth\": 0, \"ticks\": \"\"}}, \"type\": \"scatter\"}], \"scatter3d\": [{\"line\": {\"colorbar\": {\"outlinewidth\": 0, \"ticks\": \"\"}}, \"marker\": {\"colorbar\": {\"outlinewidth\": 0, \"ticks\": \"\"}}, \"type\": \"scatter3d\"}], \"scattercarpet\": [{\"marker\": {\"colorbar\": {\"outlinewidth\": 0, \"ticks\": \"\"}}, \"type\": \"scattercarpet\"}], \"scattergeo\": [{\"marker\": {\"colorbar\": {\"outlinewidth\": 0, \"ticks\": \"\"}}, \"type\": \"scattergeo\"}], \"scattergl\": [{\"marker\": {\"colorbar\": {\"outlinewidth\": 0, \"ticks\": \"\"}}, \"type\": \"scattergl\"}], \"scattermapbox\": [{\"marker\": {\"colorbar\": {\"outlinewidth\": 0, \"ticks\": \"\"}}, \"type\": \"scattermapbox\"}], \"scatterpolar\": [{\"marker\": {\"colorbar\": {\"outlinewidth\": 0, \"ticks\": \"\"}}, \"type\": \"scatterpolar\"}], \"scatterpolargl\": [{\"marker\": {\"colorbar\": {\"outlinewidth\": 0, \"ticks\": \"\"}}, \"type\": \"scatterpolargl\"}], \"scatterternary\": [{\"marker\": {\"colorbar\": {\"outlinewidth\": 0, \"ticks\": \"\"}}, \"type\": \"scatterternary\"}], \"surface\": [{\"colorbar\": {\"outlinewidth\": 0, \"ticks\": \"\"}, \"colorscale\": [[0.0, \"#0d0887\"], [0.1111111111111111, \"#46039f\"], [0.2222222222222222, \"#7201a8\"], [0.3333333333333333, \"#9c179e\"], [0.4444444444444444, \"#bd3786\"], [0.5555555555555556, \"#d8576b\"], [0.6666666666666666, \"#ed7953\"], [0.7777777777777778, \"#fb9f3a\"], [0.8888888888888888, \"#fdca26\"], [1.0, \"#f0f921\"]], \"type\": \"surface\"}], \"table\": [{\"cells\": {\"fill\": {\"color\": \"#EBF0F8\"}, \"line\": {\"color\": \"white\"}}, \"header\": {\"fill\": {\"color\": \"#C8D4E3\"}, \"line\": {\"color\": \"white\"}}, \"type\": \"table\"}]}, \"layout\": {\"annotationdefaults\": {\"arrowcolor\": \"#2a3f5f\", \"arrowhead\": 0, \"arrowwidth\": 1}, \"autotypenumbers\": \"strict\", \"coloraxis\": {\"colorbar\": {\"outlinewidth\": 0, \"ticks\": \"\"}}, \"colorscale\": {\"diverging\": [[0, \"#8e0152\"], [0.1, \"#c51b7d\"], [0.2, \"#de77ae\"], [0.3, \"#f1b6da\"], [0.4, \"#fde0ef\"], [0.5, \"#f7f7f7\"], [0.6, \"#e6f5d0\"], [0.7, \"#b8e186\"], [0.8, \"#7fbc41\"], [0.9, \"#4d9221\"], [1, \"#276419\"]], \"sequential\": [[0.0, \"#0d0887\"], [0.1111111111111111, \"#46039f\"], [0.2222222222222222, \"#7201a8\"], [0.3333333333333333, \"#9c179e\"], [0.4444444444444444, \"#bd3786\"], [0.5555555555555556, \"#d8576b\"], [0.6666666666666666, \"#ed7953\"], [0.7777777777777778, \"#fb9f3a\"], [0.8888888888888888, \"#fdca26\"], [1.0, \"#f0f921\"]], \"sequentialminus\": [[0.0, \"#0d0887\"], [0.1111111111111111, \"#46039f\"], [0.2222222222222222, \"#7201a8\"], [0.3333333333333333, \"#9c179e\"], [0.4444444444444444, \"#bd3786\"], [0.5555555555555556, \"#d8576b\"], [0.6666666666666666, \"#ed7953\"], [0.7777777777777778, \"#fb9f3a\"], [0.8888888888888888, \"#fdca26\"], [1.0, \"#f0f921\"]]}, \"colorway\": [\"#636efa\", \"#EF553B\", \"#00cc96\", \"#ab63fa\", \"#FFA15A\", \"#19d3f3\", \"#FF6692\", \"#B6E880\", \"#FF97FF\", \"#FECB52\"], \"font\": {\"color\": \"#2a3f5f\"}, \"geo\": {\"bgcolor\": \"white\", \"lakecolor\": \"white\", \"landcolor\": \"#E5ECF6\", \"showlakes\": true, \"showland\": true, \"subunitcolor\": \"white\"}, \"hoverlabel\": {\"align\": \"left\"}, \"hovermode\": \"closest\", \"mapbox\": {\"style\": \"light\"}, \"paper_bgcolor\": \"white\", \"plot_bgcolor\": \"#E5ECF6\", \"polar\": {\"angularaxis\": {\"gridcolor\": \"white\", \"linecolor\": \"white\", \"ticks\": \"\"}, \"bgcolor\": \"#E5ECF6\", \"radialaxis\": {\"gridcolor\": \"white\", \"linecolor\": \"white\", \"ticks\": \"\"}}, \"scene\": {\"xaxis\": {\"backgroundcolor\": \"#E5ECF6\", \"gridcolor\": \"white\", \"gridwidth\": 2, \"linecolor\": \"white\", \"showbackground\": true, \"ticks\": \"\", \"zerolinecolor\": \"white\"}, \"yaxis\": {\"backgroundcolor\": \"#E5ECF6\", \"gridcolor\": \"white\", \"gridwidth\": 2, \"linecolor\": \"white\", \"showbackground\": true, \"ticks\": \"\", \"zerolinecolor\": \"white\"}, \"zaxis\": {\"backgroundcolor\": \"#E5ECF6\", \"gridcolor\": \"white\", \"gridwidth\": 2, \"linecolor\": \"white\", \"showbackground\": true, \"ticks\": \"\", \"zerolinecolor\": \"white\"}}, \"shapedefaults\": {\"line\": {\"color\": \"#2a3f5f\"}}, \"ternary\": {\"aaxis\": {\"gridcolor\": \"white\", \"linecolor\": \"white\", \"ticks\": \"\"}, \"baxis\": {\"gridcolor\": \"white\", \"linecolor\": \"white\", \"ticks\": \"\"}, \"bgcolor\": \"#E5ECF6\", \"caxis\": {\"gridcolor\": \"white\", \"linecolor\": \"white\", \"ticks\": \"\"}}, \"title\": {\"x\": 0.05}, \"xaxis\": {\"automargin\": true, \"gridcolor\": \"white\", \"linecolor\": \"white\", \"ticks\": \"\", \"title\": {\"standoff\": 15}, \"zerolinecolor\": \"white\", \"zerolinewidth\": 2}, \"yaxis\": {\"automargin\": true, \"gridcolor\": \"white\", \"linecolor\": \"white\", \"ticks\": \"\", \"title\": {\"standoff\": 15}, \"zerolinecolor\": \"white\", \"zerolinewidth\": 2}}}, \"title\": {\"text\": \"PCA Analysis for Tweets\"}, \"xaxis\": {\"anchor\": \"y\", \"domain\": [0.0, 1.0], \"title\": {\"text\": \"0\"}}, \"yaxis\": {\"anchor\": \"x\", \"domain\": [0.0, 1.0], \"title\": {\"text\": \"1\"}}},                        {\"responsive\": true}                    ).then(function(){\n",
       "                            \n",
       "var gd = document.getElementById('ab75fa6f-d997-4881-879a-9f69b58b67cc');\n",
       "var x = new MutationObserver(function (mutations, observer) {{\n",
       "        var display = window.getComputedStyle(gd).display;\n",
       "        if (!display || display === 'none') {{\n",
       "            console.log([gd, 'removed!']);\n",
       "            Plotly.purge(gd);\n",
       "            observer.disconnect();\n",
       "        }}\n",
       "}});\n",
       "\n",
       "// Listen for the removal of the full notebook cells\n",
       "var notebookContainer = gd.closest('#notebook-container');\n",
       "if (notebookContainer) {{\n",
       "    x.observe(notebookContainer, {childList: true});\n",
       "}}\n",
       "\n",
       "// Listen for the clearing of the current output cell\n",
       "var outputEl = gd.closest('.output');\n",
       "if (outputEl) {{\n",
       "    x.observe(outputEl, {childList: true});\n",
       "}}\n",
       "\n",
       "                        })                };                });            </script>        </div>"
      ]
     },
     "metadata": {},
     "output_type": "display_data"
    }
   ],
   "source": [
    "import plotly.express as px\n",
    "\n",
    "# features = [\"achievement\", \"benevolence\", \"conformity\", \"hedonism\", \"power\", \"security\", \"self-direction\", \"stimulation\", \"tradition\", \"universalism\"]\n",
    "\n",
    "# fig = px.scatter_matrix(\n",
    "#     tweet_freq,\n",
    "#     dimensions=features,\n",
    "#     color=\"org\"\n",
    "# )\n",
    "# fig.update_traces(diagonal_visible=False)\n",
    "# fig.show()\n",
    "\n",
    "\n",
    "X = tweet_freq\n",
    "\n",
    "pca = PCA(n_components=10)\n",
    "components = pca.fit_transform(X)\n",
    "\n",
    "fig = px.scatter(components, x=0, y=1, title = 'PCA Analysis for Tweets')\n",
    "\n",
    "fig.show()"
   ]
  },
  {
   "cell_type": "markdown",
   "metadata": {},
   "source": [
    "## MVV"
   ]
  },
  {
   "cell_type": "code",
   "execution_count": 121,
   "metadata": {},
   "outputs": [],
   "source": [
    "MVV_freq= [[0.0117, 0.0104, 0.009, 0.0055, 0.009, 0.0104, 0.0255, 0.0304, 0.0007, 0.02],\n",
    "           [0.0127, 0.019, 0.0127, 0.0063, 0.0063, 0.019, 0.0222, 0.0127, 0.0127, 0.0159],\n",
    "           [0.0105, 0.0163, 0.0096, 0.0019, 0.0091, 0.0196, 0.0148, 0.0077, 0.0091, 0.0129],\n",
    "           [0.0136, 0.0136, 0.0068, 0.0068, 0.0068, 0.0408, 0.0136, 0.034, 0.0136, 0.0544],\n",
    "           [0.0118, 0.0324, 0.0088, 0.0, 0.0206, 0.0088, 0.0118, 0.0, 0.0, 0.0],\n",
    "           [0.0078, 0.0294, 0.0039, 0.0, 0.0059, 0.0078, 0.0176, 0.0196, 0.0059, 0.0706],\n",
    "           [0.0215, 0.0108, 0.043, 0.0, 0.0538, 0.0, 0.0323, 0.0054, 0.0, 0.0376],\n",
    "           [0.014, 0.0321, 0.008, 0.0, 0.018, 0.002, 0.012, 0.014, 0.012, 0.0321],\n",
    "           [0.0127, 0.019, 0.0127, 0.0063, 0.0063, 0.019, 0.0222, 0.0127, 0.0127, 0.0159],\n",
    "           [0.0194, 0.0167, 0.0111, 0.0028, 0.0083, 0.025, 0.0139, 0.0194, 0.0056, 0.0194],\n",
    "           \n",
    "           [0.0096, 0.0208, 0.0192, 0.0016, 0.0208, 0.0112, 0.0352, 0.0384, 0.0128, 0.0208],\n",
    "           [0.0061, 0.024, 0.0074, 0.0061, 0.008, 0.0221, 0.0215, 0.0049, 0.0086, 0.0086],\n",
    "           [0.0108, 0.0431, 0.0043, 0.0022, 0.0086, 0.0065, 0.028, 0.0129, 0.0, 0.0216],\n",
    "           [0.011, 0.0198, 0.0022, 0.0044, 0.0088, 0.0, 0.022, 0.0286, 0.0066, 0.0132],\n",
    "           [0.0324, 0.037, 0.0139, 0.0, 0.0278, 0.0093, 0.0139, 0.0278, 0.0139, 0.0093],\n",
    "           [0.0184, 0.0046, 0.0092, 0.0069, 0.0138, 0.0069, 0.0345, 0.0161, 0.0069, 0.0483],\n",
    "           [0.0157, 0.0192, 0.0227, 0.0, 0.0087, 0.0192, 0.0175, 0.0157, 0.0105, 0.0279],\n",
    "           [0.0, 0.024, 0.036, 0.004, 0.008, 0.02, 0.024, 0.016, 0.004, 0.02],\n",
    "           [0.0087, 0.0192, 0.0192, 0.001, 0.0106, 0.0337, 0.0096, 0.0183, 0.0067, 0.0192],\n",
    "           [0.0108, 0.0431, 0.0043, 0.0022, 0.0086, 0.0065, 0.028, 0.0129, 0.0, 0.0216],\n",
    "           \n",
    "           [0.0037, 0.0331, 0.0074, 0.0, 0.0074, 0.0331, 0.0479, 0.011, 0.0092, 0.0221],\n",
    "           [0.0337, 0.0132, 0.0117, 0.0, 0.0146, 0.0102, 0.0381, 0.0395, 0.0, 0.0322],\n",
    "           [0.0092, 0.0202, 0.0037, 0.0, 0.0221, 0.0202, 0.0202, 0.0349, 0.0037, 0.1011],\n",
    "           [0.0174, 0.0326, 0.037, 0.0, 0.0217, 0.05, 0.0261, 0.0348, 0.0065, 0.0478],\n",
    "           [0.005, 0.0348, 0.0087, 0.0012, 0.005, 0.0087, 0.0211, 0.0087, 0.0, 0.0124],\n",
    "           [0.0179, 0.0313, 0.0112, 0.0022, 0.0134, 0.0045, 0.0515, 0.0224, 0.0022, 0.0403],\n",
    "           [0.0202, 0.0101, 0.0076, 0.0025, 0.0076, 0.0354, 0.0278, 0.0429, 0.0, 0.0303],\n",
    "           [0.0071, 0.0568, 0.0036, 0.0018, 0.0178, 0.0107, 0.0195, 0.0089, 0.0053, 0.0071],\n",
    "           [0.0235, 0.0, 0.0118, 0.0235, 0.0118, 0.0, 0.0118, 0.0235, 0.0, 0.0],\n",
    "           [0.0057, 0.0172, 0.0172, 0.0, 0.0144, 0.046, 0.0086, 0.0172, 0.0057,  0.0287]]\n",
    "           "
   ]
  },
  {
   "cell_type": "code",
   "execution_count": 139,
   "metadata": {},
   "outputs": [
    {
     "data": {
      "text/plain": [
       "array([ 20.7,  38.2,  55.1,  68.6,  77.8,  85.5,  92. ,  95.4,  98.1,\n",
       "       100.1])"
      ]
     },
     "execution_count": 139,
     "metadata": {},
     "output_type": "execute_result"
    }
   ],
   "source": [
    "x=np.array(MVV_freq)\n",
    "x=scale(x);x\n",
    "\n",
    "covar_matrix = PCA(n_components = 10) ##for 10 values\n",
    "\n",
    "covar_matrix.fit(x)\n",
    "variance = covar_matrix.explained_variance_ratio_ #calculate variance ratios\n",
    "\n",
    "var=np.cumsum(np.round(covar_matrix.explained_variance_ratio_, decimals=3)*100)\n",
    "var #cumulative sum of variance explained with [n] features"
   ]
  },
  {
   "cell_type": "code",
   "execution_count": 140,
   "metadata": {},
   "outputs": [
    {
     "data": {
      "text/plain": [
       "[<matplotlib.lines.Line2D at 0x23736721a08>]"
      ]
     },
     "execution_count": 140,
     "metadata": {},
     "output_type": "execute_result"
    },
    {
     "data": {
      "image/png": "[encoded data removed]",
      "text/plain": [
       "<Figure size 432x288 with 1 Axes>"
      ]
     },
     "metadata": {
      "needs_background": "light"
     },
     "output_type": "display_data"
    }
   ],
   "source": [
    "plt.ylabel('% Variance Explained')\n",
    "plt.xlabel('# of Values')\n",
    "plt.title('PCA Analysis for MVVs')\n",
    "plt.ylim(30,100.5)\n",
    "plt.style.context('seaborn-whitegrid')\n",
    "\n",
    "\n",
    "plt.plot(var)"
   ]
  },
  {
   "cell_type": "code",
   "execution_count": 137,
   "metadata": {},
   "outputs": [
    {
     "data": {
      "application/vnd.plotly.v1+json": {
       "config": {
        "plotlyServerURL": "https://plot.ly"
       },
       "data": [
        {
         "hovertemplate": "0=%{x}<br>1=%{y}<extra></extra>",
         "legendgroup": "",
         "marker": {
          "color": "#636efa",
          "symbol": "circle"
         },
         "mode": "markers",
         "name": "",
         "orientation": "v",
         "showlegend": false,
         "type": "scatter",
         "x": [
          -0.003242004000504488,
          -0.011846437698877957,
          -0.01595758892281196,
          0.0337639480863294,
          -0.033936161851633596,
          0.03596830201137655,
          0.00891567874217787,
          -0.0018142922601584114,
          -0.011846437698877953,
          -0.005519363628083214,
          0.0006349835921933573,
          -0.021237001807781798,
          -0.012123618777726799,
          -0.013898409858063466,
          -0.016478877255681722,
          0.020027296533186082,
          0.0005371198096680191,
          -0.006859404007055377,
          -0.004783331598237754,
          -0.012123618777726799,
          -0.003776698373749873,
          0.012555347925231379,
          0.07340666622868426,
          0.03056502938634099,
          -0.020912375968452593,
          0.011851636224995729,
          0.01523396796562071,
          -0.027915751743960937,
          -0.02557872510804628,
          0.0063901228316268184
         ],
         "xaxis": "x",
         "y": [
          0.0021084595404424283,
          0.007264421729104814,
          0.009007692574627317,
          0.022511275790356448,
          -0.006030804312745212,
          -0.017397822526215564,
          -0.02286583710717444,
          -0.015008689189234484,
          0.007264421729104809,
          0.013575683254878906,
          -0.0021528029939387044,
          0.007428284534168684,
          -0.016582334186566995,
          -0.0073202213194939365,
          -0.005652973623506746,
          -0.01150961283539516,
          0.006697059341376036,
          0.008548524881858787,
          0.022159502671167168,
          -0.016582334186566995,
          0.0035655844369996866,
          -0.006354080796808478,
          -0.013877552581898066,
          0.021827928547987974,
          -0.006933762128717166,
          -0.024131034357990272,
          0.020606432982419376,
          -0.013965317670439004,
          0.004535636534430497,
          0.029264271267768302
         ],
         "yaxis": "y"
        }
       ],
       "layout": {
        "legend": {
         "tracegroupgap": 0
        },
        "template": {
         "data": {
          "bar": [
           {
            "error_x": {
             "color": "#2a3f5f"
            },
            "error_y": {
             "color": "#2a3f5f"
            },
            "marker": {
             "line": {
              "color": "#E5ECF6",
              "width": 0.5
             }
            },
            "type": "bar"
           }
          ],
          "barpolar": [
           {
            "marker": {
             "line": {
              "color": "#E5ECF6",
              "width": 0.5
             }
            },
            "type": "barpolar"
           }
          ],
          "carpet": [
           {
            "aaxis": {
             "endlinecolor": "#2a3f5f",
             "gridcolor": "white",
             "linecolor": "white",
             "minorgridcolor": "white",
             "startlinecolor": "#2a3f5f"
            },
            "baxis": {
             "endlinecolor": "#2a3f5f",
             "gridcolor": "white",
             "linecolor": "white",
             "minorgridcolor": "white",
             "startlinecolor": "#2a3f5f"
            },
            "type": "carpet"
           }
          ],
          "choropleth": [
           {
            "colorbar": {
             "outlinewidth": 0,
             "ticks": ""
            },
            "type": "choropleth"
           }
          ],
          "contour": [
           {
            "colorbar": {
             "outlinewidth": 0,
             "ticks": ""
            },
            "colorscale": [
             [
              0,
              "#0d0887"
             ],
             [
              0.1111111111111111,
              "#46039f"
             ],
             [
              0.2222222222222222,
              "#7201a8"
             ],
             [
              0.3333333333333333,
              "#9c179e"
             ],
             [
              0.4444444444444444,
              "#bd3786"
             ],
             [
              0.5555555555555556,
              "#d8576b"
             ],
             [
              0.6666666666666666,
              "#ed7953"
             ],
             [
              0.7777777777777778,
              "#fb9f3a"
             ],
             [
              0.8888888888888888,
              "#fdca26"
             ],
             [
              1,
              "#f0f921"
             ]
            ],
            "type": "contour"
           }
          ],
          "contourcarpet": [
           {
            "colorbar": {
             "outlinewidth": 0,
             "ticks": ""
            },
            "type": "contourcarpet"
           }
          ],
          "heatmap": [
           {
            "colorbar": {
             "outlinewidth": 0,
             "ticks": ""
            },
            "colorscale": [
             [
              0,
              "#0d0887"
             ],
             [
              0.1111111111111111,
              "#46039f"
             ],
             [
              0.2222222222222222,
              "#7201a8"
             ],
             [
              0.3333333333333333,
              "#9c179e"
             ],
             [
              0.4444444444444444,
              "#bd3786"
             ],
             [
              0.5555555555555556,
              "#d8576b"
             ],
             [
              0.6666666666666666,
              "#ed7953"
             ],
             [
              0.7777777777777778,
              "#fb9f3a"
             ],
             [
              0.8888888888888888,
              "#fdca26"
             ],
             [
              1,
              "#f0f921"
             ]
            ],
            "type": "heatmap"
           }
          ],
          "heatmapgl": [
           {
            "colorbar": {
             "outlinewidth": 0,
             "ticks": ""
            },
            "colorscale": [
             [
              0,
              "#0d0887"
             ],
             [
              0.1111111111111111,
              "#46039f"
             ],
             [
              0.2222222222222222,
              "#7201a8"
             ],
             [
              0.3333333333333333,
              "#9c179e"
             ],
             [
              0.4444444444444444,
              "#bd3786"
             ],
             [
              0.5555555555555556,
              "#d8576b"
             ],
             [
              0.6666666666666666,
              "#ed7953"
             ],
             [
              0.7777777777777778,
              "#fb9f3a"
             ],
             [
              0.8888888888888888,
              "#fdca26"
             ],
             [
              1,
              "#f0f921"
             ]
            ],
            "type": "heatmapgl"
           }
          ],
          "histogram": [
           {
            "marker": {
             "colorbar": {
              "outlinewidth": 0,
              "ticks": ""
             }
            },
            "type": "histogram"
           }
          ],
          "histogram2d": [
           {
            "colorbar": {
             "outlinewidth": 0,
             "ticks": ""
            },
            "colorscale": [
             [
              0,
              "#0d0887"
             ],
             [
              0.1111111111111111,
              "#46039f"
             ],
             [
              0.2222222222222222,
              "#7201a8"
             ],
             [
              0.3333333333333333,
              "#9c179e"
             ],
             [
              0.4444444444444444,
              "#bd3786"
             ],
             [
              0.5555555555555556,
              "#d8576b"
             ],
             [
              0.6666666666666666,
              "#ed7953"
             ],
             [
              0.7777777777777778,
              "#fb9f3a"
             ],
             [
              0.8888888888888888,
              "#fdca26"
             ],
             [
              1,
              "#f0f921"
             ]
            ],
            "type": "histogram2d"
           }
          ],
          "histogram2dcontour": [
           {
            "colorbar": {
             "outlinewidth": 0,
             "ticks": ""
            },
            "colorscale": [
             [
              0,
              "#0d0887"
             ],
             [
              0.1111111111111111,
              "#46039f"
             ],
             [
              0.2222222222222222,
              "#7201a8"
             ],
             [
              0.3333333333333333,
              "#9c179e"
             ],
             [
              0.4444444444444444,
              "#bd3786"
             ],
             [
              0.5555555555555556,
              "#d8576b"
             ],
             [
              0.6666666666666666,
              "#ed7953"
             ],
             [
              0.7777777777777778,
              "#fb9f3a"
             ],
             [
              0.8888888888888888,
              "#fdca26"
             ],
             [
              1,
              "#f0f921"
             ]
            ],
            "type": "histogram2dcontour"
           }
          ],
          "mesh3d": [
           {
            "colorbar": {
             "outlinewidth": 0,
             "ticks": ""
            },
            "type": "mesh3d"
           }
          ],
          "parcoords": [
           {
            "line": {
             "colorbar": {
              "outlinewidth": 0,
              "ticks": ""
             }
            },
            "type": "parcoords"
           }
          ],
          "pie": [
           {
            "automargin": true,
            "type": "pie"
           }
          ],
          "scatter": [
           {
            "marker": {
             "colorbar": {
              "outlinewidth": 0,
              "ticks": ""
             }
            },
            "type": "scatter"
           }
          ],
          "scatter3d": [
           {
            "line": {
             "colorbar": {
              "outlinewidth": 0,
              "ticks": ""
             }
            },
            "marker": {
             "colorbar": {
              "outlinewidth": 0,
              "ticks": ""
             }
            },
            "type": "scatter3d"
           }
          ],
          "scattercarpet": [
           {
            "marker": {
             "colorbar": {
              "outlinewidth": 0,
              "ticks": ""
             }
            },
            "type": "scattercarpet"
           }
          ],
          "scattergeo": [
           {
            "marker": {
             "colorbar": {
              "outlinewidth": 0,
              "ticks": ""
             }
            },
            "type": "scattergeo"
           }
          ],
          "scattergl": [
           {
            "marker": {
             "colorbar": {
              "outlinewidth": 0,
              "ticks": ""
             }
            },
            "type": "scattergl"
           }
          ],
          "scattermapbox": [
           {
            "marker": {
             "colorbar": {
              "outlinewidth": 0,
              "ticks": ""
             }
            },
            "type": "scattermapbox"
           }
          ],
          "scatterpolar": [
           {
            "marker": {
             "colorbar": {
              "outlinewidth": 0,
              "ticks": ""
             }
            },
            "type": "scatterpolar"
           }
          ],
          "scatterpolargl": [
           {
            "marker": {
             "colorbar": {
              "outlinewidth": 0,
              "ticks": ""
             }
            },
            "type": "scatterpolargl"
           }
          ],
          "scatterternary": [
           {
            "marker": {
             "colorbar": {
              "outlinewidth": 0,
              "ticks": ""
             }
            },
            "type": "scatterternary"
           }
          ],
          "surface": [
           {
            "colorbar": {
             "outlinewidth": 0,
             "ticks": ""
            },
            "colorscale": [
             [
              0,
              "#0d0887"
             ],
             [
              0.1111111111111111,
              "#46039f"
             ],
             [
              0.2222222222222222,
              "#7201a8"
             ],
             [
              0.3333333333333333,
              "#9c179e"
             ],
             [
              0.4444444444444444,
              "#bd3786"
             ],
             [
              0.5555555555555556,
              "#d8576b"
             ],
             [
              0.6666666666666666,
              "#ed7953"
             ],
             [
              0.7777777777777778,
              "#fb9f3a"
             ],
             [
              0.8888888888888888,
              "#fdca26"
             ],
             [
              1,
              "#f0f921"
             ]
            ],
            "type": "surface"
           }
          ],
          "table": [
           {
            "cells": {
             "fill": {
              "color": "#EBF0F8"
             },
             "line": {
              "color": "white"
             }
            },
            "header": {
             "fill": {
              "color": "#C8D4E3"
             },
             "line": {
              "color": "white"
             }
            },
            "type": "table"
           }
          ]
         },
         "layout": {
          "annotationdefaults": {
           "arrowcolor": "#2a3f5f",
           "arrowhead": 0,
           "arrowwidth": 1
          },
          "autotypenumbers": "strict",
          "coloraxis": {
           "colorbar": {
            "outlinewidth": 0,
            "ticks": ""
           }
          },
          "colorscale": {
           "diverging": [
            [
             0,
             "#8e0152"
            ],
            [
             0.1,
             "#c51b7d"
            ],
            [
             0.2,
             "#de77ae"
            ],
            [
             0.3,
             "#f1b6da"
            ],
            [
             0.4,
             "#fde0ef"
            ],
            [
             0.5,
             "#f7f7f7"
            ],
            [
             0.6,
             "#e6f5d0"
            ],
            [
             0.7,
             "#b8e186"
            ],
            [
             0.8,
             "#7fbc41"
            ],
            [
             0.9,
             "#4d9221"
            ],
            [
             1,
             "#276419"
            ]
           ],
           "sequential": [
            [
             0,
             "#0d0887"
            ],
            [
             0.1111111111111111,
             "#46039f"
            ],
            [
             0.2222222222222222,
             "#7201a8"
            ],
            [
             0.3333333333333333,
             "#9c179e"
            ],
            [
             0.4444444444444444,
             "#bd3786"
            ],
            [
             0.5555555555555556,
             "#d8576b"
            ],
            [
             0.6666666666666666,
             "#ed7953"
            ],
            [
             0.7777777777777778,
             "#fb9f3a"
            ],
            [
             0.8888888888888888,
             "#fdca26"
            ],
            [
             1,
             "#f0f921"
            ]
           ],
           "sequentialminus": [
            [
             0,
             "#0d0887"
            ],
            [
             0.1111111111111111,
             "#46039f"
            ],
            [
             0.2222222222222222,
             "#7201a8"
            ],
            [
             0.3333333333333333,
             "#9c179e"
            ],
            [
             0.4444444444444444,
             "#bd3786"
            ],
            [
             0.5555555555555556,
             "#d8576b"
            ],
            [
             0.6666666666666666,
             "#ed7953"
            ],
            [
             0.7777777777777778,
             "#fb9f3a"
            ],
            [
             0.8888888888888888,
             "#fdca26"
            ],
            [
             1,
             "#f0f921"
            ]
           ]
          },
          "colorway": [
           "#636efa",
           "#EF553B",
           "#00cc96",
           "#ab63fa",
           "#FFA15A",
           "#19d3f3",
           "#FF6692",
           "#B6E880",
           "#FF97FF",
           "#FECB52"
          ],
          "font": {
           "color": "#2a3f5f"
          },
          "geo": {
           "bgcolor": "white",
           "lakecolor": "white",
           "landcolor": "#E5ECF6",
           "showlakes": true,
           "showland": true,
           "subunitcolor": "white"
          },
          "hoverlabel": {
           "align": "left"
          },
          "hovermode": "closest",
          "mapbox": {
           "style": "light"
          },
          "paper_bgcolor": "white",
          "plot_bgcolor": "#E5ECF6",
          "polar": {
           "angularaxis": {
            "gridcolor": "white",
            "linecolor": "white",
            "ticks": ""
           },
           "bgcolor": "#E5ECF6",
           "radialaxis": {
            "gridcolor": "white",
            "linecolor": "white",
            "ticks": ""
           }
          },
          "scene": {
           "xaxis": {
            "backgroundcolor": "#E5ECF6",
            "gridcolor": "white",
            "gridwidth": 2,
            "linecolor": "white",
            "showbackground": true,
            "ticks": "",
            "zerolinecolor": "white"
           },
           "yaxis": {
            "backgroundcolor": "#E5ECF6",
            "gridcolor": "white",
            "gridwidth": 2,
            "linecolor": "white",
            "showbackground": true,
            "ticks": "",
            "zerolinecolor": "white"
           },
           "zaxis": {
            "backgroundcolor": "#E5ECF6",
            "gridcolor": "white",
            "gridwidth": 2,
            "linecolor": "white",
            "showbackground": true,
            "ticks": "",
            "zerolinecolor": "white"
           }
          },
          "shapedefaults": {
           "line": {
            "color": "#2a3f5f"
           }
          },
          "ternary": {
           "aaxis": {
            "gridcolor": "white",
            "linecolor": "white",
            "ticks": ""
           },
           "baxis": {
            "gridcolor": "white",
            "linecolor": "white",
            "ticks": ""
           },
           "bgcolor": "#E5ECF6",
           "caxis": {
            "gridcolor": "white",
            "linecolor": "white",
            "ticks": ""
           }
          },
          "title": {
           "x": 0.05
          },
          "xaxis": {
           "automargin": true,
           "gridcolor": "white",
           "linecolor": "white",
           "ticks": "",
           "title": {
            "standoff": 15
           },
           "zerolinecolor": "white",
           "zerolinewidth": 2
          },
          "yaxis": {
           "automargin": true,
           "gridcolor": "white",
           "linecolor": "white",
           "ticks": "",
           "title": {
            "standoff": 15
           },
           "zerolinecolor": "white",
           "zerolinewidth": 2
          }
         }
        },
        "title": {
         "text": "PCA Analysis for MVVs"
        },
        "xaxis": {
         "anchor": "y",
         "domain": [
          0,
          1
         ],
         "title": {
          "text": "0"
         }
        },
        "yaxis": {
         "anchor": "x",
         "domain": [
          0,
          1
         ],
         "title": {
          "text": "1"
         }
        }
       }
      },
      "text/html": [
       "<div>                            <div id=\"408ff02c-1618-43b9-bb0c-6c04e6ba78b4\" class=\"plotly-graph-div\" style=\"height:525px; width:100%;\"></div>            <script type=\"text/javascript\">                require([\"plotly\"], function(Plotly) {                    window.PLOTLYENV=window.PLOTLYENV || {};                                    if (document.getElementById(\"408ff02c-1618-43b9-bb0c-6c04e6ba78b4\")) {                    Plotly.newPlot(                        \"408ff02c-1618-43b9-bb0c-6c04e6ba78b4\",                        [{\"hovertemplate\": \"0=%{x}<br>1=%{y}<extra></extra>\", \"legendgroup\": \"\", \"marker\": {\"color\": \"#636efa\", \"symbol\": \"circle\"}, \"mode\": \"markers\", \"name\": \"\", \"orientation\": \"v\", \"showlegend\": false, \"type\": \"scatter\", \"x\": [-0.003242004000504488, -0.011846437698877957, -0.01595758892281196, 0.0337639480863294, -0.033936161851633596, 0.03596830201137655, 0.00891567874217787, -0.0018142922601584114, -0.011846437698877953, -0.005519363628083214, 0.0006349835921933573, -0.021237001807781798, -0.012123618777726799, -0.013898409858063466, -0.016478877255681722, 0.020027296533186082, 0.0005371198096680191, -0.006859404007055377, -0.004783331598237754, -0.012123618777726799, -0.003776698373749873, 0.012555347925231379, 0.07340666622868426, 0.03056502938634099, -0.020912375968452593, 0.011851636224995729, 0.01523396796562071, -0.027915751743960937, -0.02557872510804628, 0.0063901228316268184], \"xaxis\": \"x\", \"y\": [0.0021084595404424283, 0.007264421729104814, 0.009007692574627317, 0.022511275790356448, -0.006030804312745212, -0.017397822526215564, -0.02286583710717444, -0.015008689189234484, 0.007264421729104809, 0.013575683254878906, -0.0021528029939387044, 0.007428284534168684, -0.016582334186566995, -0.0073202213194939365, -0.005652973623506746, -0.01150961283539516, 0.006697059341376036, 0.008548524881858787, 0.022159502671167168, -0.016582334186566995, 0.0035655844369996866, -0.006354080796808478, -0.013877552581898066, 0.021827928547987974, -0.006933762128717166, -0.024131034357990272, 0.020606432982419376, -0.013965317670439004, 0.004535636534430497, 0.029264271267768302], \"yaxis\": \"y\"}],                        {\"legend\": {\"tracegroupgap\": 0}, \"template\": {\"data\": {\"bar\": [{\"error_x\": {\"color\": \"#2a3f5f\"}, \"error_y\": {\"color\": \"#2a3f5f\"}, \"marker\": {\"line\": {\"color\": \"#E5ECF6\", \"width\": 0.5}}, \"type\": \"bar\"}], \"barpolar\": [{\"marker\": {\"line\": {\"color\": \"#E5ECF6\", \"width\": 0.5}}, \"type\": \"barpolar\"}], \"carpet\": [{\"aaxis\": {\"endlinecolor\": \"#2a3f5f\", \"gridcolor\": \"white\", \"linecolor\": \"white\", \"minorgridcolor\": \"white\", \"startlinecolor\": \"#2a3f5f\"}, \"baxis\": {\"endlinecolor\": \"#2a3f5f\", \"gridcolor\": \"white\", \"linecolor\": \"white\", \"minorgridcolor\": \"white\", \"startlinecolor\": \"#2a3f5f\"}, \"type\": \"carpet\"}], \"choropleth\": [{\"colorbar\": {\"outlinewidth\": 0, \"ticks\": \"\"}, \"type\": \"choropleth\"}], \"contour\": [{\"colorbar\": {\"outlinewidth\": 0, \"ticks\": \"\"}, \"colorscale\": [[0.0, \"#0d0887\"], [0.1111111111111111, \"#46039f\"], [0.2222222222222222, \"#7201a8\"], [0.3333333333333333, \"#9c179e\"], [0.4444444444444444, \"#bd3786\"], [0.5555555555555556, \"#d8576b\"], [0.6666666666666666, \"#ed7953\"], [0.7777777777777778, \"#fb9f3a\"], [0.8888888888888888, \"#fdca26\"], [1.0, \"#f0f921\"]], \"type\": \"contour\"}], \"contourcarpet\": [{\"colorbar\": {\"outlinewidth\": 0, \"ticks\": \"\"}, \"type\": \"contourcarpet\"}], \"heatmap\": [{\"colorbar\": {\"outlinewidth\": 0, \"ticks\": \"\"}, \"colorscale\": [[0.0, \"#0d0887\"], [0.1111111111111111, \"#46039f\"], [0.2222222222222222, \"#7201a8\"], [0.3333333333333333, \"#9c179e\"], [0.4444444444444444, \"#bd3786\"], [0.5555555555555556, \"#d8576b\"], [0.6666666666666666, \"#ed7953\"], [0.7777777777777778, \"#fb9f3a\"], [0.8888888888888888, \"#fdca26\"], [1.0, \"#f0f921\"]], \"type\": \"heatmap\"}], \"heatmapgl\": [{\"colorbar\": {\"outlinewidth\": 0, \"ticks\": \"\"}, \"colorscale\": [[0.0, \"#0d0887\"], [0.1111111111111111, \"#46039f\"], [0.2222222222222222, \"#7201a8\"], [0.3333333333333333, \"#9c179e\"], [0.4444444444444444, \"#bd3786\"], [0.5555555555555556, \"#d8576b\"], [0.6666666666666666, \"#ed7953\"], [0.7777777777777778, \"#fb9f3a\"], [0.8888888888888888, \"#fdca26\"], [1.0, \"#f0f921\"]], \"type\": \"heatmapgl\"}], \"histogram\": [{\"marker\": {\"colorbar\": {\"outlinewidth\": 0, \"ticks\": \"\"}}, \"type\": \"histogram\"}], \"histogram2d\": [{\"colorbar\": {\"outlinewidth\": 0, \"ticks\": \"\"}, \"colorscale\": [[0.0, \"#0d0887\"], [0.1111111111111111, \"#46039f\"], [0.2222222222222222, \"#7201a8\"], [0.3333333333333333, \"#9c179e\"], [0.4444444444444444, \"#bd3786\"], [0.5555555555555556, \"#d8576b\"], [0.6666666666666666, \"#ed7953\"], [0.7777777777777778, \"#fb9f3a\"], [0.8888888888888888, \"#fdca26\"], [1.0, \"#f0f921\"]], \"type\": \"histogram2d\"}], \"histogram2dcontour\": [{\"colorbar\": {\"outlinewidth\": 0, \"ticks\": \"\"}, \"colorscale\": [[0.0, \"#0d0887\"], [0.1111111111111111, \"#46039f\"], [0.2222222222222222, \"#7201a8\"], [0.3333333333333333, \"#9c179e\"], [0.4444444444444444, \"#bd3786\"], [0.5555555555555556, \"#d8576b\"], [0.6666666666666666, \"#ed7953\"], [0.7777777777777778, \"#fb9f3a\"], [0.8888888888888888, \"#fdca26\"], [1.0, \"#f0f921\"]], \"type\": \"histogram2dcontour\"}], \"mesh3d\": [{\"colorbar\": {\"outlinewidth\": 0, \"ticks\": \"\"}, \"type\": \"mesh3d\"}], \"parcoords\": [{\"line\": {\"colorbar\": {\"outlinewidth\": 0, \"ticks\": \"\"}}, \"type\": \"parcoords\"}], \"pie\": [{\"automargin\": true, \"type\": \"pie\"}], \"scatter\": [{\"marker\": {\"colorbar\": {\"outlinewidth\": 0, \"ticks\": \"\"}}, \"type\": \"scatter\"}], \"scatter3d\": [{\"line\": {\"colorbar\": {\"outlinewidth\": 0, \"ticks\": \"\"}}, \"marker\": {\"colorbar\": {\"outlinewidth\": 0, \"ticks\": \"\"}}, \"type\": \"scatter3d\"}], \"scattercarpet\": [{\"marker\": {\"colorbar\": {\"outlinewidth\": 0, \"ticks\": \"\"}}, \"type\": \"scattercarpet\"}], \"scattergeo\": [{\"marker\": {\"colorbar\": {\"outlinewidth\": 0, \"ticks\": \"\"}}, \"type\": \"scattergeo\"}], \"scattergl\": [{\"marker\": {\"colorbar\": {\"outlinewidth\": 0, \"ticks\": \"\"}}, \"type\": \"scattergl\"}], \"scattermapbox\": [{\"marker\": {\"colorbar\": {\"outlinewidth\": 0, \"ticks\": \"\"}}, \"type\": \"scattermapbox\"}], \"scatterpolar\": [{\"marker\": {\"colorbar\": {\"outlinewidth\": 0, \"ticks\": \"\"}}, \"type\": \"scatterpolar\"}], \"scatterpolargl\": [{\"marker\": {\"colorbar\": {\"outlinewidth\": 0, \"ticks\": \"\"}}, \"type\": \"scatterpolargl\"}], \"scatterternary\": [{\"marker\": {\"colorbar\": {\"outlinewidth\": 0, \"ticks\": \"\"}}, \"type\": \"scatterternary\"}], \"surface\": [{\"colorbar\": {\"outlinewidth\": 0, \"ticks\": \"\"}, \"colorscale\": [[0.0, \"#0d0887\"], [0.1111111111111111, \"#46039f\"], [0.2222222222222222, \"#7201a8\"], [0.3333333333333333, \"#9c179e\"], [0.4444444444444444, \"#bd3786\"], [0.5555555555555556, \"#d8576b\"], [0.6666666666666666, \"#ed7953\"], [0.7777777777777778, \"#fb9f3a\"], [0.8888888888888888, \"#fdca26\"], [1.0, \"#f0f921\"]], \"type\": \"surface\"}], \"table\": [{\"cells\": {\"fill\": {\"color\": \"#EBF0F8\"}, \"line\": {\"color\": \"white\"}}, \"header\": {\"fill\": {\"color\": \"#C8D4E3\"}, \"line\": {\"color\": \"white\"}}, \"type\": \"table\"}]}, \"layout\": {\"annotationdefaults\": {\"arrowcolor\": \"#2a3f5f\", \"arrowhead\": 0, \"arrowwidth\": 1}, \"autotypenumbers\": \"strict\", \"coloraxis\": {\"colorbar\": {\"outlinewidth\": 0, \"ticks\": \"\"}}, \"colorscale\": {\"diverging\": [[0, \"#8e0152\"], [0.1, \"#c51b7d\"], [0.2, \"#de77ae\"], [0.3, \"#f1b6da\"], [0.4, \"#fde0ef\"], [0.5, \"#f7f7f7\"], [0.6, \"#e6f5d0\"], [0.7, \"#b8e186\"], [0.8, \"#7fbc41\"], [0.9, \"#4d9221\"], [1, \"#276419\"]], \"sequential\": [[0.0, \"#0d0887\"], [0.1111111111111111, \"#46039f\"], [0.2222222222222222, \"#7201a8\"], [0.3333333333333333, \"#9c179e\"], [0.4444444444444444, \"#bd3786\"], [0.5555555555555556, \"#d8576b\"], [0.6666666666666666, \"#ed7953\"], [0.7777777777777778, \"#fb9f3a\"], [0.8888888888888888, \"#fdca26\"], [1.0, \"#f0f921\"]], \"sequentialminus\": [[0.0, \"#0d0887\"], [0.1111111111111111, \"#46039f\"], [0.2222222222222222, \"#7201a8\"], [0.3333333333333333, \"#9c179e\"], [0.4444444444444444, \"#bd3786\"], [0.5555555555555556, \"#d8576b\"], [0.6666666666666666, \"#ed7953\"], [0.7777777777777778, \"#fb9f3a\"], [0.8888888888888888, \"#fdca26\"], [1.0, \"#f0f921\"]]}, \"colorway\": [\"#636efa\", \"#EF553B\", \"#00cc96\", \"#ab63fa\", \"#FFA15A\", \"#19d3f3\", \"#FF6692\", \"#B6E880\", \"#FF97FF\", \"#FECB52\"], \"font\": {\"color\": \"#2a3f5f\"}, \"geo\": {\"bgcolor\": \"white\", \"lakecolor\": \"white\", \"landcolor\": \"#E5ECF6\", \"showlakes\": true, \"showland\": true, \"subunitcolor\": \"white\"}, \"hoverlabel\": {\"align\": \"left\"}, \"hovermode\": \"closest\", \"mapbox\": {\"style\": \"light\"}, \"paper_bgcolor\": \"white\", \"plot_bgcolor\": \"#E5ECF6\", \"polar\": {\"angularaxis\": {\"gridcolor\": \"white\", \"linecolor\": \"white\", \"ticks\": \"\"}, \"bgcolor\": \"#E5ECF6\", \"radialaxis\": {\"gridcolor\": \"white\", \"linecolor\": \"white\", \"ticks\": \"\"}}, \"scene\": {\"xaxis\": {\"backgroundcolor\": \"#E5ECF6\", \"gridcolor\": \"white\", \"gridwidth\": 2, \"linecolor\": \"white\", \"showbackground\": true, \"ticks\": \"\", \"zerolinecolor\": \"white\"}, \"yaxis\": {\"backgroundcolor\": \"#E5ECF6\", \"gridcolor\": \"white\", \"gridwidth\": 2, \"linecolor\": \"white\", \"showbackground\": true, \"ticks\": \"\", \"zerolinecolor\": \"white\"}, \"zaxis\": {\"backgroundcolor\": \"#E5ECF6\", \"gridcolor\": \"white\", \"gridwidth\": 2, \"linecolor\": \"white\", \"showbackground\": true, \"ticks\": \"\", \"zerolinecolor\": \"white\"}}, \"shapedefaults\": {\"line\": {\"color\": \"#2a3f5f\"}}, \"ternary\": {\"aaxis\": {\"gridcolor\": \"white\", \"linecolor\": \"white\", \"ticks\": \"\"}, \"baxis\": {\"gridcolor\": \"white\", \"linecolor\": \"white\", \"ticks\": \"\"}, \"bgcolor\": \"#E5ECF6\", \"caxis\": {\"gridcolor\": \"white\", \"linecolor\": \"white\", \"ticks\": \"\"}}, \"title\": {\"x\": 0.05}, \"xaxis\": {\"automargin\": true, \"gridcolor\": \"white\", \"linecolor\": \"white\", \"ticks\": \"\", \"title\": {\"standoff\": 15}, \"zerolinecolor\": \"white\", \"zerolinewidth\": 2}, \"yaxis\": {\"automargin\": true, \"gridcolor\": \"white\", \"linecolor\": \"white\", \"ticks\": \"\", \"title\": {\"standoff\": 15}, \"zerolinecolor\": \"white\", \"zerolinewidth\": 2}}}, \"title\": {\"text\": \"PCA Analysis for MVVs\"}, \"xaxis\": {\"anchor\": \"y\", \"domain\": [0.0, 1.0], \"title\": {\"text\": \"0\"}}, \"yaxis\": {\"anchor\": \"x\", \"domain\": [0.0, 1.0], \"title\": {\"text\": \"1\"}}},                        {\"responsive\": true}                    ).then(function(){\n",
       "                            \n",
       "var gd = document.getElementById('408ff02c-1618-43b9-bb0c-6c04e6ba78b4');\n",
       "var x = new MutationObserver(function (mutations, observer) {{\n",
       "        var display = window.getComputedStyle(gd).display;\n",
       "        if (!display || display === 'none') {{\n",
       "            console.log([gd, 'removed!']);\n",
       "            Plotly.purge(gd);\n",
       "            observer.disconnect();\n",
       "        }}\n",
       "}});\n",
       "\n",
       "// Listen for the removal of the full notebook cells\n",
       "var notebookContainer = gd.closest('#notebook-container');\n",
       "if (notebookContainer) {{\n",
       "    x.observe(notebookContainer, {childList: true});\n",
       "}}\n",
       "\n",
       "// Listen for the clearing of the current output cell\n",
       "var outputEl = gd.closest('.output');\n",
       "if (outputEl) {{\n",
       "    x.observe(outputEl, {childList: true});\n",
       "}}\n",
       "\n",
       "                        })                };                });            </script>        </div>"
      ]
     },
     "metadata": {},
     "output_type": "display_data"
    }
   ],
   "source": [
    "X = MVV_freq\n",
    "\n",
    "pca = PCA(n_components=10)\n",
    "components = pca.fit_transform(X)\n",
    "\n",
    "fig = px.scatter(components, x=0, y=1, title= \"PCA Analysis for MVVs\")\n",
    "fig.show()"
   ]
  },
  {
   "cell_type": "markdown",
   "metadata": {},
   "source": [
    "## All Values Frequencies"
   ]
  },
  {
   "cell_type": "code",
   "execution_count": 146,
   "metadata": {},
   "outputs": [],
   "source": [
    "combined_freq= [[0.0117, 0.0104, 0.009, 0.0055, 0.009, 0.0104, 0.0255, 0.0304, 0.0007, 0.02],\n",
    "           [0.0127, 0.019, 0.0127, 0.0063, 0.0063, 0.019, 0.0222, 0.0127, 0.0127, 0.0159],\n",
    "           [0.0105, 0.0163, 0.0096, 0.0019, 0.0091, 0.0196, 0.0148, 0.0077, 0.0091, 0.0129],\n",
    "           [0.0136, 0.0136, 0.0068, 0.0068, 0.0068, 0.0408, 0.0136, 0.034, 0.0136, 0.0544],\n",
    "           [0.0118, 0.0324, 0.0088, 0.0, 0.0206, 0.0088, 0.0118, 0.0, 0.0, 0.0],\n",
    "           [0.0078, 0.0294, 0.0039, 0.0, 0.0059, 0.0078, 0.0176, 0.0196, 0.0059, 0.0706],\n",
    "           [0.0215, 0.0108, 0.043, 0.0, 0.0538, 0.0, 0.0323, 0.0054, 0.0, 0.0376],\n",
    "           [0.014, 0.0321, 0.008, 0.0, 0.018, 0.002, 0.012, 0.014, 0.012, 0.0321],\n",
    "           [0.0127, 0.019, 0.0127, 0.0063, 0.0063, 0.019, 0.0222, 0.0127, 0.0127, 0.0159],\n",
    "           [0.0194, 0.0167, 0.0111, 0.0028, 0.0083, 0.025, 0.0139, 0.0194, 0.0056, 0.0194],\n",
    "           \n",
    "           [0.0096, 0.0208, 0.0192, 0.0016, 0.0208, 0.0112, 0.0352, 0.0384, 0.0128, 0.0208],\n",
    "           [0.0061, 0.024, 0.0074, 0.0061, 0.008, 0.0221, 0.0215, 0.0049, 0.0086, 0.0086],\n",
    "           [0.0108, 0.0431, 0.0043, 0.0022, 0.0086, 0.0065, 0.028, 0.0129, 0.0, 0.0216],\n",
    "           [0.011, 0.0198, 0.0022, 0.0044, 0.0088, 0.0, 0.022, 0.0286, 0.0066, 0.0132],\n",
    "           [0.0324, 0.037, 0.0139, 0.0, 0.0278, 0.0093, 0.0139, 0.0278, 0.0139, 0.0093],\n",
    "           [0.0184, 0.0046, 0.0092, 0.0069, 0.0138, 0.0069, 0.0345, 0.0161, 0.0069, 0.0483],\n",
    "           [0.0157, 0.0192, 0.0227, 0.0, 0.0087, 0.0192, 0.0175, 0.0157, 0.0105, 0.0279],\n",
    "           [0.0, 0.024, 0.036, 0.004, 0.008, 0.02, 0.024, 0.016, 0.004, 0.02],\n",
    "           [0.0087, 0.0192, 0.0192, 0.001, 0.0106, 0.0337, 0.0096, 0.0183, 0.0067, 0.0192],\n",
    "           [0.0108, 0.0431, 0.0043, 0.0022, 0.0086, 0.0065, 0.028, 0.0129, 0.0, 0.0216],\n",
    "           \n",
    "           [0.0037, 0.0331, 0.0074, 0.0, 0.0074, 0.0331, 0.0479, 0.011, 0.0092, 0.0221],\n",
    "           [0.0337, 0.0132, 0.0117, 0.0, 0.0146, 0.0102, 0.0381, 0.0395, 0.0, 0.0322],\n",
    "           [0.0092, 0.0202, 0.0037, 0.0, 0.0221, 0.0202, 0.0202, 0.0349, 0.0037, 0.1011],\n",
    "           [0.0174, 0.0326, 0.037, 0.0, 0.0217, 0.05, 0.0261, 0.0348, 0.0065, 0.0478],\n",
    "           [0.005, 0.0348, 0.0087, 0.0012, 0.005, 0.0087, 0.0211, 0.0087, 0.0, 0.0124],\n",
    "           [0.0179, 0.0313, 0.0112, 0.0022, 0.0134, 0.0045, 0.0515, 0.0224, 0.0022, 0.0403],\n",
    "           [0.0202, 0.0101, 0.0076, 0.0025, 0.0076, 0.0354, 0.0278, 0.0429, 0.0, 0.0303],\n",
    "           [0.0071, 0.0568, 0.0036, 0.0018, 0.0178, 0.0107, 0.0195, 0.0089, 0.0053, 0.0071],\n",
    "           [0.0235, 0.0, 0.0118, 0.0235, 0.0118, 0.0, 0.0118, 0.0235, 0.0, 0.0],\n",
    "           [0.0057, 0.0172, 0.0172, 0.0, 0.0144, 0.046, 0.0086, 0.0172, 0.0057,  0.0287],\n",
    "                \n",
    "                [0.0089, 0.0196, 0.0058, 0.0072, 0.0094, 0.0083, 0.0197, 0.0122, 0.0049, 0.0098],\n",
    " [0.0064, 0.0081, 0.0112, 0.0021, 0.0121, 0.0122, 0.0129, 0.0046, 0.0012, 0.0123],\n",
    " [0.0082, 0.0164, 0.0058, 0.0093, 0.0091, 0.01, 0.0173, 0.0176, 0.0007, 0.0189],\n",
    " [0.0109, 0.0191, 0.0108, 0.0047, 0.0065, 0.0101, 0.0261, 0.0093, 0.0018, 0.0147],\n",
    " [0.0081, 0.0182, 0.0062, 0.0077, 0.0094, 0.0222, 0.0214, 0.0168, 0.0023, 0.0218],\n",
    " [0.0072, 0.0234, 0.0066,  0.0085, 0.0073, 0.0165, 0.0213, 0.0059, 0.0015, 0.0088],\n",
    " [0.0086, 0.012, 0.0165, 0.0045, 0.0101, 0.017, 0.017, 0.0101, 0.0031, 0.0086],\n",
    " [0.0058, 0.0158, 0.0058, 0.0052, 0.0045, 0.0064, 0.0084, 0.0093, 0.0061, 0.0126],\n",
    " [0.0085, 0.0123, 0.0068, 0.0043, 0.0068, 0.0224, 0.0165, 0.0151, 0.0015, 0.0276],\n",
    " [0.0109, 0.0191, 0.0126, 0.0059, 0.0069, 0.0048, 0.0148, 0.0123, 0.0023, 0.0078],\n",
    " \n",
    " [0.0077, 0.0133, 0.0109, 0.002, 0.0138, 0.0247, 0.0158, 0.0137, 0.0041, 0.0123],\n",
    " [0.0113, 0.0302, 0.0052, 0.0128, 0.005, 0.0058, 0.0196, 0.0068, 0.0021, 0.0044],\n",
    " [0.0093, 0.0132, 0.0035, 0.0108, 0.0052, 0.0055, 0.0114, 0.0093, 0.002, 0.0076],\n",
    " [0.0091, 0.0254, 0.0067, 0.0081, 0.0059, 0.0092, 0.014, 0.0051, 0.0021, 0.0045],\n",
    " [0.0067, 0.0139, 0.0081, 0.0061, 0.0123, 0.0134, 0.0176, 0.0129, 0.0066, 0.0176],\n",
    " [0.0051, 0.0259, 0.0053, 0.0081, 0.0043, 0.0149, 0.0233, 0.016, 0.002, 0.02],\n",
    " [0.0071, 0.0151, 0.0027, 0.0093, 0.0044, 0.0046, 0.0138, 0.0096, 0.0186, 0.0062],\n",
    " [0.0116, 0.0147, 0.0078, 0.0067, 0.0077, 0.009, 0.0206, 0.0125, 0.0013, 0.0168],\n",
    " [0.0122, 0.0068, 0.0063, 0.0016, 0.0099, 0.0166, 0.0196, 0.0132, 0.0013, 0.0212],\n",
    " [0.0099, 0.0086, 0.0075, 0.0032, 0.012, 0.0156, 0.017, 0.0098, 0.0015, 0.0232],\n",
    " \n",
    " [0.0198, 0.0092, 0.0143, 0.0026, 0.016, 0.0155, 0.0241, 0.0287, 0.0015, 0.0354],\n",
    " [0.0104, 0.0174, 0.0066, 0.0047, 0.0117, 0.0154, 0.0167, 0.0126, 0.0054, 0.0142],\n",
    " [0.0063, 0.0224, 0.0067, 0.0097, 0.0048, 0.016, 0.0187, 0.0127, 0.0011, 0.0082],\n",
    " [0.0177, 0.0086, 0.0043, 0.001, 0.0163, 0.0115, 0.0235, 0.0297, 0.0004, 0.0198],\n",
    " [0.0081, 0.0076, 0.0115, 0.0024, 0.023, 0.0375, 0.0155, 0.015, 0.002, 0.0285],\n",
    " [0.0102, 0.0089, 0.0069, 0.0016, 0.0142, 0.0054, 0.0312, 0.0169, 0.001, 0.0186],\n",
    " [0.0062, 0.0137, 0.0096, 0.0041, 0.0118, 0.0264, 0.0199, 0.0118, 0.0016, 0.0181],\n",
    " [0.0118, 0.026, 0.0092, 0.0161, 0.0065, 0.0058, 0.012, 0.0052, 0.0048, 0.0008],\n",
    " [0.0102, 0.0247, 0.0058, 0.0082, 0.0081, 0.0087, 0.0186, 0.01, 0.0026, 0.0065],\n",
    " [0.0094, 0.0076, 0.0045, 0.0019, 0.0157, 0.0443, 0.0239, 0.0289, 0.0021, 0.0677]]\n",
    "                \n"
   ]
  },
  {
   "cell_type": "code",
   "execution_count": 147,
   "metadata": {},
   "outputs": [
    {
     "data": {
      "text/plain": [
       "array([ 27.9,  42.5,  56.2,  68.2,  78.5,  85.3,  90.8,  95.1,  97.9,\n",
       "       100.1])"
      ]
     },
     "execution_count": 147,
     "metadata": {},
     "output_type": "execute_result"
    }
   ],
   "source": [
    "x=np.array(combined_freq)\n",
    "x=scale(x);x\n",
    "\n",
    "covar_matrix = PCA(n_components = 10) ##for 10 values\n",
    "\n",
    "covar_matrix.fit(x)\n",
    "variance = covar_matrix.explained_variance_ratio_ #calculate variance ratios\n",
    "\n",
    "var=np.cumsum(np.round(covar_matrix.explained_variance_ratio_, decimals=3)*100)\n",
    "var #cumulative sum of variance explained with [n] features"
   ]
  },
  {
   "cell_type": "code",
   "execution_count": 148,
   "metadata": {},
   "outputs": [
    {
     "data": {
      "text/plain": [
       "[<matplotlib.lines.Line2D at 0x237394a2e48>]"
      ]
     },
     "execution_count": 148,
     "metadata": {},
     "output_type": "execute_result"
    },
    {
     "data": {
      "image/png": "[encoded data removed]",
      "text/plain": [
       "<Figure size 432x288 with 1 Axes>"
      ]
     },
     "metadata": {
      "needs_background": "light"
     },
     "output_type": "display_data"
    }
   ],
   "source": [
    "plt.ylabel('% Variance Explained')\n",
    "plt.xlabel('# of Values')\n",
    "plt.title('PCA Analysis for all frequencies')\n",
    "plt.ylim(30,100.5)\n",
    "plt.style.context('seaborn-whitegrid')\n",
    "\n",
    "\n",
    "plt.plot(var)"
   ]
  },
  {
   "cell_type": "code",
   "execution_count": 149,
   "metadata": {},
   "outputs": [
    {
     "data": {
      "application/vnd.plotly.v1+json": {
       "config": {
        "plotlyServerURL": "https://plot.ly"
       },
       "data": [
        {
         "hovertemplate": "0=%{x}<br>1=%{y}<extra></extra>",
         "legendgroup": "",
         "marker": {
          "color": "#636efa",
          "symbol": "circle"
         },
         "mode": "markers",
         "name": "",
         "orientation": "v",
         "showlegend": false,
         "type": "scatter",
         "x": [
          0.002453791145168915,
          -0.0055107782728641315,
          -0.00990415465637655,
          0.03999270537296496,
          -0.027041113131842612,
          0.03819588544715763,
          0.017025531377019877,
          0.0029990127731668644,
          -0.005510778272864125,
          0.0014329914338008995,
          0.009120514105631368,
          -0.014646405909855994,
          -0.0060450037326358385,
          -0.008890738902476686,
          -0.0070468409584495606,
          0.02380254341831126,
          0.007111608174536225,
          0.0005393894936716916,
          0.003124492823260579,
          -0.0060450037326358385,
          0.0053257376705475555,
          0.020258891106977213,
          0.07653773454873235,
          0.04248201845512042,
          -0.015205636612891656,
          0.018528759549423957,
          0.023767086349598676,
          -0.019980627325711244,
          -0.02141328705838075,
          0.01488503478345461,
          -0.015080664469676203,
          -0.012976768976005908,
          -0.005363007170226095,
          -0.010009680141143555,
          0.0011404304446063823,
          -0.016206507106722803,
          -0.012649328882227612,
          -0.016003952401604616,
          0.005587214769479005,
          -0.017980535340724454,
          -0.006026540257345304,
          -0.02434906337174999,
          -0.020389741196467265,
          -0.02352697735407895,
          -0.005812700872593282,
          -0.00432490473601324,
          -0.02157944219570932,
          -0.00805489059016649,
          -0.00042037454535847355,
          -0.0005819324078413823,
          0.01875813018635483,
          -0.008515901178686097,
          -0.01540777840724942,
          0.0037328339167634287,
          0.01386611681005414,
          -0.0029266620033300108,
          -0.0013637372783662576,
          -0.02834178212781297,
          -0.01937144811157378,
          0.05383623553385553
         ],
         "xaxis": "x",
         "y": [
          2.4762271256074437e-05,
          -0.0045687849914592535,
          -0.00898505735280551,
          -0.017602414099953063,
          0.005734078601591711,
          0.018681656682574058,
          0.021841211296537637,
          0.016695616712232852,
          -0.004568784991459248,
          -0.01060493481484628,
          0.009585546507512395,
          -0.006201265044866124,
          0.02105319113071707,
          0.009615255362457494,
          0.01372992843821352,
          0.01038129107422108,
          -0.0030522064626206727,
          -0.0034396063099008424,
          -0.01852559521722298,
          0.02105319113071707,
          0.0029568014296995292,
          0.012926792194924718,
          0.01551384480621563,
          -0.009032812804407098,
          0.009250966040805624,
          0.030355371771454188,
          -0.013813874161587948,
          0.01991554172882415,
          -0.006078477335527061,
          -0.026235485058285626,
          0.0016777598321800632,
          -0.008603524062568804,
          -0.00031947214942175574,
          0.003290202075234648,
          -0.005907582064445077,
          -0.0024313768641792324,
          -0.009839701256685969,
          -0.003633186866139831,
          -0.009826585103587858,
          0.0013616731371453455,
          -0.013436245680692451,
          0.007062195410634514,
          -0.0037634506043562072,
          0.00023547290160417914,
          -0.0038832565890973975,
          0.0022570803951117583,
          -0.002351590510907167,
          0.0005891521057112998,
          -0.0074548182362278075,
          -0.00644444991515456,
          0.0007414529810124744,
          -0.003973150644123168,
          -0.004328500130919722,
          0.00015459707037135634,
          -0.020504209679368317,
          0.0057187276803918234,
          -0.01226023712174733,
          0.0012683534910590088,
          0.0028665115660086553,
          -0.014867589701855753
         ],
         "yaxis": "y"
        }
       ],
       "layout": {
        "legend": {
         "tracegroupgap": 0
        },
        "template": {
         "data": {
          "bar": [
           {
            "error_x": {
             "color": "#2a3f5f"
            },
            "error_y": {
             "color": "#2a3f5f"
            },
            "marker": {
             "line": {
              "color": "#E5ECF6",
              "width": 0.5
             }
            },
            "type": "bar"
           }
          ],
          "barpolar": [
           {
            "marker": {
             "line": {
              "color": "#E5ECF6",
              "width": 0.5
             }
            },
            "type": "barpolar"
           }
          ],
          "carpet": [
           {
            "aaxis": {
             "endlinecolor": "#2a3f5f",
             "gridcolor": "white",
             "linecolor": "white",
             "minorgridcolor": "white",
             "startlinecolor": "#2a3f5f"
            },
            "baxis": {
             "endlinecolor": "#2a3f5f",
             "gridcolor": "white",
             "linecolor": "white",
             "minorgridcolor": "white",
             "startlinecolor": "#2a3f5f"
            },
            "type": "carpet"
           }
          ],
          "choropleth": [
           {
            "colorbar": {
             "outlinewidth": 0,
             "ticks": ""
            },
            "type": "choropleth"
           }
          ],
          "contour": [
           {
            "colorbar": {
             "outlinewidth": 0,
             "ticks": ""
            },
            "colorscale": [
             [
              0,
              "#0d0887"
             ],
             [
              0.1111111111111111,
              "#46039f"
             ],
             [
              0.2222222222222222,
              "#7201a8"
             ],
             [
              0.3333333333333333,
              "#9c179e"
             ],
             [
              0.4444444444444444,
              "#bd3786"
             ],
             [
              0.5555555555555556,
              "#d8576b"
             ],
             [
              0.6666666666666666,
              "#ed7953"
             ],
             [
              0.7777777777777778,
              "#fb9f3a"
             ],
             [
              0.8888888888888888,
              "#fdca26"
             ],
             [
              1,
              "#f0f921"
             ]
            ],
            "type": "contour"
           }
          ],
          "contourcarpet": [
           {
            "colorbar": {
             "outlinewidth": 0,
             "ticks": ""
            },
            "type": "contourcarpet"
           }
          ],
          "heatmap": [
           {
            "colorbar": {
             "outlinewidth": 0,
             "ticks": ""
            },
            "colorscale": [
             [
              0,
              "#0d0887"
             ],
             [
              0.1111111111111111,
              "#46039f"
             ],
             [
              0.2222222222222222,
              "#7201a8"
             ],
             [
              0.3333333333333333,
              "#9c179e"
             ],
             [
              0.4444444444444444,
              "#bd3786"
             ],
             [
              0.5555555555555556,
              "#d8576b"
             ],
             [
              0.6666666666666666,
              "#ed7953"
             ],
             [
              0.7777777777777778,
              "#fb9f3a"
             ],
             [
              0.8888888888888888,
              "#fdca26"
             ],
             [
              1,
              "#f0f921"
             ]
            ],
            "type": "heatmap"
           }
          ],
          "heatmapgl": [
           {
            "colorbar": {
             "outlinewidth": 0,
             "ticks": ""
            },
            "colorscale": [
             [
              0,
              "#0d0887"
             ],
             [
              0.1111111111111111,
              "#46039f"
             ],
             [
              0.2222222222222222,
              "#7201a8"
             ],
             [
              0.3333333333333333,
              "#9c179e"
             ],
             [
              0.4444444444444444,
              "#bd3786"
             ],
             [
              0.5555555555555556,
              "#d8576b"
             ],
             [
              0.6666666666666666,
              "#ed7953"
             ],
             [
              0.7777777777777778,
              "#fb9f3a"
             ],
             [
              0.8888888888888888,
              "#fdca26"
             ],
             [
              1,
              "#f0f921"
             ]
            ],
            "type": "heatmapgl"
           }
          ],
          "histogram": [
           {
            "marker": {
             "colorbar": {
              "outlinewidth": 0,
              "ticks": ""
             }
            },
            "type": "histogram"
           }
          ],
          "histogram2d": [
           {
            "colorbar": {
             "outlinewidth": 0,
             "ticks": ""
            },
            "colorscale": [
             [
              0,
              "#0d0887"
             ],
             [
              0.1111111111111111,
              "#46039f"
             ],
             [
              0.2222222222222222,
              "#7201a8"
             ],
             [
              0.3333333333333333,
              "#9c179e"
             ],
             [
              0.4444444444444444,
              "#bd3786"
             ],
             [
              0.5555555555555556,
              "#d8576b"
             ],
             [
              0.6666666666666666,
              "#ed7953"
             ],
             [
              0.7777777777777778,
              "#fb9f3a"
             ],
             [
              0.8888888888888888,
              "#fdca26"
             ],
             [
              1,
              "#f0f921"
             ]
            ],
            "type": "histogram2d"
           }
          ],
          "histogram2dcontour": [
           {
            "colorbar": {
             "outlinewidth": 0,
             "ticks": ""
            },
            "colorscale": [
             [
              0,
              "#0d0887"
             ],
             [
              0.1111111111111111,
              "#46039f"
             ],
             [
              0.2222222222222222,
              "#7201a8"
             ],
             [
              0.3333333333333333,
              "#9c179e"
             ],
             [
              0.4444444444444444,
              "#bd3786"
             ],
             [
              0.5555555555555556,
              "#d8576b"
             ],
             [
              0.6666666666666666,
              "#ed7953"
             ],
             [
              0.7777777777777778,
              "#fb9f3a"
             ],
             [
              0.8888888888888888,
              "#fdca26"
             ],
             [
              1,
              "#f0f921"
             ]
            ],
            "type": "histogram2dcontour"
           }
          ],
          "mesh3d": [
           {
            "colorbar": {
             "outlinewidth": 0,
             "ticks": ""
            },
            "type": "mesh3d"
           }
          ],
          "parcoords": [
           {
            "line": {
             "colorbar": {
              "outlinewidth": 0,
              "ticks": ""
             }
            },
            "type": "parcoords"
           }
          ],
          "pie": [
           {
            "automargin": true,
            "type": "pie"
           }
          ],
          "scatter": [
           {
            "marker": {
             "colorbar": {
              "outlinewidth": 0,
              "ticks": ""
             }
            },
            "type": "scatter"
           }
          ],
          "scatter3d": [
           {
            "line": {
             "colorbar": {
              "outlinewidth": 0,
              "ticks": ""
             }
            },
            "marker": {
             "colorbar": {
              "outlinewidth": 0,
              "ticks": ""
             }
            },
            "type": "scatter3d"
           }
          ],
          "scattercarpet": [
           {
            "marker": {
             "colorbar": {
              "outlinewidth": 0,
              "ticks": ""
             }
            },
            "type": "scattercarpet"
           }
          ],
          "scattergeo": [
           {
            "marker": {
             "colorbar": {
              "outlinewidth": 0,
              "ticks": ""
             }
            },
            "type": "scattergeo"
           }
          ],
          "scattergl": [
           {
            "marker": {
             "colorbar": {
              "outlinewidth": 0,
              "ticks": ""
             }
            },
            "type": "scattergl"
           }
          ],
          "scattermapbox": [
           {
            "marker": {
             "colorbar": {
              "outlinewidth": 0,
              "ticks": ""
             }
            },
            "type": "scattermapbox"
           }
          ],
          "scatterpolar": [
           {
            "marker": {
             "colorbar": {
              "outlinewidth": 0,
              "ticks": ""
             }
            },
            "type": "scatterpolar"
           }
          ],
          "scatterpolargl": [
           {
            "marker": {
             "colorbar": {
              "outlinewidth": 0,
              "ticks": ""
             }
            },
            "type": "scatterpolargl"
           }
          ],
          "scatterternary": [
           {
            "marker": {
             "colorbar": {
              "outlinewidth": 0,
              "ticks": ""
             }
            },
            "type": "scatterternary"
           }
          ],
          "surface": [
           {
            "colorbar": {
             "outlinewidth": 0,
             "ticks": ""
            },
            "colorscale": [
             [
              0,
              "#0d0887"
             ],
             [
              0.1111111111111111,
              "#46039f"
             ],
             [
              0.2222222222222222,
              "#7201a8"
             ],
             [
              0.3333333333333333,
              "#9c179e"
             ],
             [
              0.4444444444444444,
              "#bd3786"
             ],
             [
              0.5555555555555556,
              "#d8576b"
             ],
             [
              0.6666666666666666,
              "#ed7953"
             ],
             [
              0.7777777777777778,
              "#fb9f3a"
             ],
             [
              0.8888888888888888,
              "#fdca26"
             ],
             [
              1,
              "#f0f921"
             ]
            ],
            "type": "surface"
           }
          ],
          "table": [
           {
            "cells": {
             "fill": {
              "color": "#EBF0F8"
             },
             "line": {
              "color": "white"
             }
            },
            "header": {
             "fill": {
              "color": "#C8D4E3"
             },
             "line": {
              "color": "white"
             }
            },
            "type": "table"
           }
          ]
         },
         "layout": {
          "annotationdefaults": {
           "arrowcolor": "#2a3f5f",
           "arrowhead": 0,
           "arrowwidth": 1
          },
          "autotypenumbers": "strict",
          "coloraxis": {
           "colorbar": {
            "outlinewidth": 0,
            "ticks": ""
           }
          },
          "colorscale": {
           "diverging": [
            [
             0,
             "#8e0152"
            ],
            [
             0.1,
             "#c51b7d"
            ],
            [
             0.2,
             "#de77ae"
            ],
            [
             0.3,
             "#f1b6da"
            ],
            [
             0.4,
             "#fde0ef"
            ],
            [
             0.5,
             "#f7f7f7"
            ],
            [
             0.6,
             "#e6f5d0"
            ],
            [
             0.7,
             "#b8e186"
            ],
            [
             0.8,
             "#7fbc41"
            ],
            [
             0.9,
             "#4d9221"
            ],
            [
             1,
             "#276419"
            ]
           ],
           "sequential": [
            [
             0,
             "#0d0887"
            ],
            [
             0.1111111111111111,
             "#46039f"
            ],
            [
             0.2222222222222222,
             "#7201a8"
            ],
            [
             0.3333333333333333,
             "#9c179e"
            ],
            [
             0.4444444444444444,
             "#bd3786"
            ],
            [
             0.5555555555555556,
             "#d8576b"
            ],
            [
             0.6666666666666666,
             "#ed7953"
            ],
            [
             0.7777777777777778,
             "#fb9f3a"
            ],
            [
             0.8888888888888888,
             "#fdca26"
            ],
            [
             1,
             "#f0f921"
            ]
           ],
           "sequentialminus": [
            [
             0,
             "#0d0887"
            ],
            [
             0.1111111111111111,
             "#46039f"
            ],
            [
             0.2222222222222222,
             "#7201a8"
            ],
            [
             0.3333333333333333,
             "#9c179e"
            ],
            [
             0.4444444444444444,
             "#bd3786"
            ],
            [
             0.5555555555555556,
             "#d8576b"
            ],
            [
             0.6666666666666666,
             "#ed7953"
            ],
            [
             0.7777777777777778,
             "#fb9f3a"
            ],
            [
             0.8888888888888888,
             "#fdca26"
            ],
            [
             1,
             "#f0f921"
            ]
           ]
          },
          "colorway": [
           "#636efa",
           "#EF553B",
           "#00cc96",
           "#ab63fa",
           "#FFA15A",
           "#19d3f3",
           "#FF6692",
           "#B6E880",
           "#FF97FF",
           "#FECB52"
          ],
          "font": {
           "color": "#2a3f5f"
          },
          "geo": {
           "bgcolor": "white",
           "lakecolor": "white",
           "landcolor": "#E5ECF6",
           "showlakes": true,
           "showland": true,
           "subunitcolor": "white"
          },
          "hoverlabel": {
           "align": "left"
          },
          "hovermode": "closest",
          "mapbox": {
           "style": "light"
          },
          "paper_bgcolor": "white",
          "plot_bgcolor": "#E5ECF6",
          "polar": {
           "angularaxis": {
            "gridcolor": "white",
            "linecolor": "white",
            "ticks": ""
           },
           "bgcolor": "#E5ECF6",
           "radialaxis": {
            "gridcolor": "white",
            "linecolor": "white",
            "ticks": ""
           }
          },
          "scene": {
           "xaxis": {
            "backgroundcolor": "#E5ECF6",
            "gridcolor": "white",
            "gridwidth": 2,
            "linecolor": "white",
            "showbackground": true,
            "ticks": "",
            "zerolinecolor": "white"
           },
           "yaxis": {
            "backgroundcolor": "#E5ECF6",
            "gridcolor": "white",
            "gridwidth": 2,
            "linecolor": "white",
            "showbackground": true,
            "ticks": "",
            "zerolinecolor": "white"
           },
           "zaxis": {
            "backgroundcolor": "#E5ECF6",
            "gridcolor": "white",
            "gridwidth": 2,
            "linecolor": "white",
            "showbackground": true,
            "ticks": "",
            "zerolinecolor": "white"
           }
          },
          "shapedefaults": {
           "line": {
            "color": "#2a3f5f"
           }
          },
          "ternary": {
           "aaxis": {
            "gridcolor": "white",
            "linecolor": "white",
            "ticks": ""
           },
           "baxis": {
            "gridcolor": "white",
            "linecolor": "white",
            "ticks": ""
           },
           "bgcolor": "#E5ECF6",
           "caxis": {
            "gridcolor": "white",
            "linecolor": "white",
            "ticks": ""
           }
          },
          "title": {
           "x": 0.05
          },
          "xaxis": {
           "automargin": true,
           "gridcolor": "white",
           "linecolor": "white",
           "ticks": "",
           "title": {
            "standoff": 15
           },
           "zerolinecolor": "white",
           "zerolinewidth": 2
          },
          "yaxis": {
           "automargin": true,
           "gridcolor": "white",
           "linecolor": "white",
           "ticks": "",
           "title": {
            "standoff": 15
           },
           "zerolinecolor": "white",
           "zerolinewidth": 2
          }
         }
        },
        "title": {
         "text": "PCA Analysis for all frequencies"
        },
        "xaxis": {
         "anchor": "y",
         "domain": [
          0,
          1
         ],
         "title": {
          "text": "0"
         }
        },
        "yaxis": {
         "anchor": "x",
         "domain": [
          0,
          1
         ],
         "title": {
          "text": "1"
         }
        }
       }
      },
      "text/html": [
       "<div>                            <div id=\"da4e6507-285f-49e1-a046-97b3a04ebecb\" class=\"plotly-graph-div\" style=\"height:525px; width:100%;\"></div>            <script type=\"text/javascript\">                require([\"plotly\"], function(Plotly) {                    window.PLOTLYENV=window.PLOTLYENV || {};                                    if (document.getElementById(\"da4e6507-285f-49e1-a046-97b3a04ebecb\")) {                    Plotly.newPlot(                        \"da4e6507-285f-49e1-a046-97b3a04ebecb\",                        [{\"hovertemplate\": \"0=%{x}<br>1=%{y}<extra></extra>\", \"legendgroup\": \"\", \"marker\": {\"color\": \"#636efa\", \"symbol\": \"circle\"}, \"mode\": \"markers\", \"name\": \"\", \"orientation\": \"v\", \"showlegend\": false, \"type\": \"scatter\", \"x\": [0.002453791145168915, -0.0055107782728641315, -0.00990415465637655, 0.03999270537296496, -0.027041113131842612, 0.03819588544715763, 0.017025531377019877, 0.0029990127731668644, -0.005510778272864125, 0.0014329914338008995, 0.009120514105631368, -0.014646405909855994, -0.0060450037326358385, -0.008890738902476686, -0.0070468409584495606, 0.02380254341831126, 0.007111608174536225, 0.0005393894936716916, 0.003124492823260579, -0.0060450037326358385, 0.0053257376705475555, 0.020258891106977213, 0.07653773454873235, 0.04248201845512042, -0.015205636612891656, 0.018528759549423957, 0.023767086349598676, -0.019980627325711244, -0.02141328705838075, 0.01488503478345461, -0.015080664469676203, -0.012976768976005908, -0.005363007170226095, -0.010009680141143555, 0.0011404304446063823, -0.016206507106722803, -0.012649328882227612, -0.016003952401604616, 0.005587214769479005, -0.017980535340724454, -0.006026540257345304, -0.02434906337174999, -0.020389741196467265, -0.02352697735407895, -0.005812700872593282, -0.00432490473601324, -0.02157944219570932, -0.00805489059016649, -0.00042037454535847355, -0.0005819324078413823, 0.01875813018635483, -0.008515901178686097, -0.01540777840724942, 0.0037328339167634287, 0.01386611681005414, -0.0029266620033300108, -0.0013637372783662576, -0.02834178212781297, -0.01937144811157378, 0.05383623553385553], \"xaxis\": \"x\", \"y\": [2.4762271256074437e-05, -0.0045687849914592535, -0.00898505735280551, -0.017602414099953063, 0.005734078601591711, 0.018681656682574058, 0.021841211296537637, 0.016695616712232852, -0.004568784991459248, -0.01060493481484628, 0.009585546507512395, -0.006201265044866124, 0.02105319113071707, 0.009615255362457494, 0.01372992843821352, 0.01038129107422108, -0.0030522064626206727, -0.0034396063099008424, -0.01852559521722298, 0.02105319113071707, 0.0029568014296995292, 0.012926792194924718, 0.01551384480621563, -0.009032812804407098, 0.009250966040805624, 0.030355371771454188, -0.013813874161587948, 0.01991554172882415, -0.006078477335527061, -0.026235485058285626, 0.0016777598321800632, -0.008603524062568804, -0.00031947214942175574, 0.003290202075234648, -0.005907582064445077, -0.0024313768641792324, -0.009839701256685969, -0.003633186866139831, -0.009826585103587858, 0.0013616731371453455, -0.013436245680692451, 0.007062195410634514, -0.0037634506043562072, 0.00023547290160417914, -0.0038832565890973975, 0.0022570803951117583, -0.002351590510907167, 0.0005891521057112998, -0.0074548182362278075, -0.00644444991515456, 0.0007414529810124744, -0.003973150644123168, -0.004328500130919722, 0.00015459707037135634, -0.020504209679368317, 0.0057187276803918234, -0.01226023712174733, 0.0012683534910590088, 0.0028665115660086553, -0.014867589701855753], \"yaxis\": \"y\"}],                        {\"legend\": {\"tracegroupgap\": 0}, \"template\": {\"data\": {\"bar\": [{\"error_x\": {\"color\": \"#2a3f5f\"}, \"error_y\": {\"color\": \"#2a3f5f\"}, \"marker\": {\"line\": {\"color\": \"#E5ECF6\", \"width\": 0.5}}, \"type\": \"bar\"}], \"barpolar\": [{\"marker\": {\"line\": {\"color\": \"#E5ECF6\", \"width\": 0.5}}, \"type\": \"barpolar\"}], \"carpet\": [{\"aaxis\": {\"endlinecolor\": \"#2a3f5f\", \"gridcolor\": \"white\", \"linecolor\": \"white\", \"minorgridcolor\": \"white\", \"startlinecolor\": \"#2a3f5f\"}, \"baxis\": {\"endlinecolor\": \"#2a3f5f\", \"gridcolor\": \"white\", \"linecolor\": \"white\", \"minorgridcolor\": \"white\", \"startlinecolor\": \"#2a3f5f\"}, \"type\": \"carpet\"}], \"choropleth\": [{\"colorbar\": {\"outlinewidth\": 0, \"ticks\": \"\"}, \"type\": \"choropleth\"}], \"contour\": [{\"colorbar\": {\"outlinewidth\": 0, \"ticks\": \"\"}, \"colorscale\": [[0.0, \"#0d0887\"], [0.1111111111111111, \"#46039f\"], [0.2222222222222222, \"#7201a8\"], [0.3333333333333333, \"#9c179e\"], [0.4444444444444444, \"#bd3786\"], [0.5555555555555556, \"#d8576b\"], [0.6666666666666666, \"#ed7953\"], [0.7777777777777778, \"#fb9f3a\"], [0.8888888888888888, \"#fdca26\"], [1.0, \"#f0f921\"]], \"type\": \"contour\"}], \"contourcarpet\": [{\"colorbar\": {\"outlinewidth\": 0, \"ticks\": \"\"}, \"type\": \"contourcarpet\"}], \"heatmap\": [{\"colorbar\": {\"outlinewidth\": 0, \"ticks\": \"\"}, \"colorscale\": [[0.0, \"#0d0887\"], [0.1111111111111111, \"#46039f\"], [0.2222222222222222, \"#7201a8\"], [0.3333333333333333, \"#9c179e\"], [0.4444444444444444, \"#bd3786\"], [0.5555555555555556, \"#d8576b\"], [0.6666666666666666, \"#ed7953\"], [0.7777777777777778, \"#fb9f3a\"], [0.8888888888888888, \"#fdca26\"], [1.0, \"#f0f921\"]], \"type\": \"heatmap\"}], \"heatmapgl\": [{\"colorbar\": {\"outlinewidth\": 0, \"ticks\": \"\"}, \"colorscale\": [[0.0, \"#0d0887\"], [0.1111111111111111, \"#46039f\"], [0.2222222222222222, \"#7201a8\"], [0.3333333333333333, \"#9c179e\"], [0.4444444444444444, \"#bd3786\"], [0.5555555555555556, \"#d8576b\"], [0.6666666666666666, \"#ed7953\"], [0.7777777777777778, \"#fb9f3a\"], [0.8888888888888888, \"#fdca26\"], [1.0, \"#f0f921\"]], \"type\": \"heatmapgl\"}], \"histogram\": [{\"marker\": {\"colorbar\": {\"outlinewidth\": 0, \"ticks\": \"\"}}, \"type\": \"histogram\"}], \"histogram2d\": [{\"colorbar\": {\"outlinewidth\": 0, \"ticks\": \"\"}, \"colorscale\": [[0.0, \"#0d0887\"], [0.1111111111111111, \"#46039f\"], [0.2222222222222222, \"#7201a8\"], [0.3333333333333333, \"#9c179e\"], [0.4444444444444444, \"#bd3786\"], [0.5555555555555556, \"#d8576b\"], [0.6666666666666666, \"#ed7953\"], [0.7777777777777778, \"#fb9f3a\"], [0.8888888888888888, \"#fdca26\"], [1.0, \"#f0f921\"]], \"type\": \"histogram2d\"}], \"histogram2dcontour\": [{\"colorbar\": {\"outlinewidth\": 0, \"ticks\": \"\"}, \"colorscale\": [[0.0, \"#0d0887\"], [0.1111111111111111, \"#46039f\"], [0.2222222222222222, \"#7201a8\"], [0.3333333333333333, \"#9c179e\"], [0.4444444444444444, \"#bd3786\"], [0.5555555555555556, \"#d8576b\"], [0.6666666666666666, \"#ed7953\"], [0.7777777777777778, \"#fb9f3a\"], [0.8888888888888888, \"#fdca26\"], [1.0, \"#f0f921\"]], \"type\": \"histogram2dcontour\"}], \"mesh3d\": [{\"colorbar\": {\"outlinewidth\": 0, \"ticks\": \"\"}, \"type\": \"mesh3d\"}], \"parcoords\": [{\"line\": {\"colorbar\": {\"outlinewidth\": 0, \"ticks\": \"\"}}, \"type\": \"parcoords\"}], \"pie\": [{\"automargin\": true, \"type\": \"pie\"}], \"scatter\": [{\"marker\": {\"colorbar\": {\"outlinewidth\": 0, \"ticks\": \"\"}}, \"type\": \"scatter\"}], \"scatter3d\": [{\"line\": {\"colorbar\": {\"outlinewidth\": 0, \"ticks\": \"\"}}, \"marker\": {\"colorbar\": {\"outlinewidth\": 0, \"ticks\": \"\"}}, \"type\": \"scatter3d\"}], \"scattercarpet\": [{\"marker\": {\"colorbar\": {\"outlinewidth\": 0, \"ticks\": \"\"}}, \"type\": \"scattercarpet\"}], \"scattergeo\": [{\"marker\": {\"colorbar\": {\"outlinewidth\": 0, \"ticks\": \"\"}}, \"type\": \"scattergeo\"}], \"scattergl\": [{\"marker\": {\"colorbar\": {\"outlinewidth\": 0, \"ticks\": \"\"}}, \"type\": \"scattergl\"}], \"scattermapbox\": [{\"marker\": {\"colorbar\": {\"outlinewidth\": 0, \"ticks\": \"\"}}, \"type\": \"scattermapbox\"}], \"scatterpolar\": [{\"marker\": {\"colorbar\": {\"outlinewidth\": 0, \"ticks\": \"\"}}, \"type\": \"scatterpolar\"}], \"scatterpolargl\": [{\"marker\": {\"colorbar\": {\"outlinewidth\": 0, \"ticks\": \"\"}}, \"type\": \"scatterpolargl\"}], \"scatterternary\": [{\"marker\": {\"colorbar\": {\"outlinewidth\": 0, \"ticks\": \"\"}}, \"type\": \"scatterternary\"}], \"surface\": [{\"colorbar\": {\"outlinewidth\": 0, \"ticks\": \"\"}, \"colorscale\": [[0.0, \"#0d0887\"], [0.1111111111111111, \"#46039f\"], [0.2222222222222222, \"#7201a8\"], [0.3333333333333333, \"#9c179e\"], [0.4444444444444444, \"#bd3786\"], [0.5555555555555556, \"#d8576b\"], [0.6666666666666666, \"#ed7953\"], [0.7777777777777778, \"#fb9f3a\"], [0.8888888888888888, \"#fdca26\"], [1.0, \"#f0f921\"]], \"type\": \"surface\"}], \"table\": [{\"cells\": {\"fill\": {\"color\": \"#EBF0F8\"}, \"line\": {\"color\": \"white\"}}, \"header\": {\"fill\": {\"color\": \"#C8D4E3\"}, \"line\": {\"color\": \"white\"}}, \"type\": \"table\"}]}, \"layout\": {\"annotationdefaults\": {\"arrowcolor\": \"#2a3f5f\", \"arrowhead\": 0, \"arrowwidth\": 1}, \"autotypenumbers\": \"strict\", \"coloraxis\": {\"colorbar\": {\"outlinewidth\": 0, \"ticks\": \"\"}}, \"colorscale\": {\"diverging\": [[0, \"#8e0152\"], [0.1, \"#c51b7d\"], [0.2, \"#de77ae\"], [0.3, \"#f1b6da\"], [0.4, \"#fde0ef\"], [0.5, \"#f7f7f7\"], [0.6, \"#e6f5d0\"], [0.7, \"#b8e186\"], [0.8, \"#7fbc41\"], [0.9, \"#4d9221\"], [1, \"#276419\"]], \"sequential\": [[0.0, \"#0d0887\"], [0.1111111111111111, \"#46039f\"], [0.2222222222222222, \"#7201a8\"], [0.3333333333333333, \"#9c179e\"], [0.4444444444444444, \"#bd3786\"], [0.5555555555555556, \"#d8576b\"], [0.6666666666666666, \"#ed7953\"], [0.7777777777777778, \"#fb9f3a\"], [0.8888888888888888, \"#fdca26\"], [1.0, \"#f0f921\"]], \"sequentialminus\": [[0.0, \"#0d0887\"], [0.1111111111111111, \"#46039f\"], [0.2222222222222222, \"#7201a8\"], [0.3333333333333333, \"#9c179e\"], [0.4444444444444444, \"#bd3786\"], [0.5555555555555556, \"#d8576b\"], [0.6666666666666666, \"#ed7953\"], [0.7777777777777778, \"#fb9f3a\"], [0.8888888888888888, \"#fdca26\"], [1.0, \"#f0f921\"]]}, \"colorway\": [\"#636efa\", \"#EF553B\", \"#00cc96\", \"#ab63fa\", \"#FFA15A\", \"#19d3f3\", \"#FF6692\", \"#B6E880\", \"#FF97FF\", \"#FECB52\"], \"font\": {\"color\": \"#2a3f5f\"}, \"geo\": {\"bgcolor\": \"white\", \"lakecolor\": \"white\", \"landcolor\": \"#E5ECF6\", \"showlakes\": true, \"showland\": true, \"subunitcolor\": \"white\"}, \"hoverlabel\": {\"align\": \"left\"}, \"hovermode\": \"closest\", \"mapbox\": {\"style\": \"light\"}, \"paper_bgcolor\": \"white\", \"plot_bgcolor\": \"#E5ECF6\", \"polar\": {\"angularaxis\": {\"gridcolor\": \"white\", \"linecolor\": \"white\", \"ticks\": \"\"}, \"bgcolor\": \"#E5ECF6\", \"radialaxis\": {\"gridcolor\": \"white\", \"linecolor\": \"white\", \"ticks\": \"\"}}, \"scene\": {\"xaxis\": {\"backgroundcolor\": \"#E5ECF6\", \"gridcolor\": \"white\", \"gridwidth\": 2, \"linecolor\": \"white\", \"showbackground\": true, \"ticks\": \"\", \"zerolinecolor\": \"white\"}, \"yaxis\": {\"backgroundcolor\": \"#E5ECF6\", \"gridcolor\": \"white\", \"gridwidth\": 2, \"linecolor\": \"white\", \"showbackground\": true, \"ticks\": \"\", \"zerolinecolor\": \"white\"}, \"zaxis\": {\"backgroundcolor\": \"#E5ECF6\", \"gridcolor\": \"white\", \"gridwidth\": 2, \"linecolor\": \"white\", \"showbackground\": true, \"ticks\": \"\", \"zerolinecolor\": \"white\"}}, \"shapedefaults\": {\"line\": {\"color\": \"#2a3f5f\"}}, \"ternary\": {\"aaxis\": {\"gridcolor\": \"white\", \"linecolor\": \"white\", \"ticks\": \"\"}, \"baxis\": {\"gridcolor\": \"white\", \"linecolor\": \"white\", \"ticks\": \"\"}, \"bgcolor\": \"#E5ECF6\", \"caxis\": {\"gridcolor\": \"white\", \"linecolor\": \"white\", \"ticks\": \"\"}}, \"title\": {\"x\": 0.05}, \"xaxis\": {\"automargin\": true, \"gridcolor\": \"white\", \"linecolor\": \"white\", \"ticks\": \"\", \"title\": {\"standoff\": 15}, \"zerolinecolor\": \"white\", \"zerolinewidth\": 2}, \"yaxis\": {\"automargin\": true, \"gridcolor\": \"white\", \"linecolor\": \"white\", \"ticks\": \"\", \"title\": {\"standoff\": 15}, \"zerolinecolor\": \"white\", \"zerolinewidth\": 2}}}, \"title\": {\"text\": \"PCA Analysis for all frequencies\"}, \"xaxis\": {\"anchor\": \"y\", \"domain\": [0.0, 1.0], \"title\": {\"text\": \"0\"}}, \"yaxis\": {\"anchor\": \"x\", \"domain\": [0.0, 1.0], \"title\": {\"text\": \"1\"}}},                        {\"responsive\": true}                    ).then(function(){\n",
       "                            \n",
       "var gd = document.getElementById('da4e6507-285f-49e1-a046-97b3a04ebecb');\n",
       "var x = new MutationObserver(function (mutations, observer) {{\n",
       "        var display = window.getComputedStyle(gd).display;\n",
       "        if (!display || display === 'none') {{\n",
       "            console.log([gd, 'removed!']);\n",
       "            Plotly.purge(gd);\n",
       "            observer.disconnect();\n",
       "        }}\n",
       "}});\n",
       "\n",
       "// Listen for the removal of the full notebook cells\n",
       "var notebookContainer = gd.closest('#notebook-container');\n",
       "if (notebookContainer) {{\n",
       "    x.observe(notebookContainer, {childList: true});\n",
       "}}\n",
       "\n",
       "// Listen for the clearing of the current output cell\n",
       "var outputEl = gd.closest('.output');\n",
       "if (outputEl) {{\n",
       "    x.observe(outputEl, {childList: true});\n",
       "}}\n",
       "\n",
       "                        })                };                });            </script>        </div>"
      ]
     },
     "metadata": {},
     "output_type": "display_data"
    }
   ],
   "source": [
    "X = combined_freq\n",
    "\n",
    "pca = PCA(n_components=10)\n",
    "components = pca.fit_transform(X)\n",
    "\n",
    "fig = px.scatter(components, x=0, y=1, title= \"PCA Analysis for all frequencies\")\n",
    "fig.show()"
   ]
  }
 ],
 "metadata": {
  "kernelspec": {
   "display_name": "Python 3",
   "language": "python",
   "name": "python3"
  },
  "language_info": {
   "codemirror_mode": {
    "name": "ipython",
    "version": 3
   },
   "file_extension": ".py",
   "mimetype": "text/x-python",
   "name": "python",
   "nbconvert_exporter": "python",
   "pygments_lexer": "ipython3",
   "version": "3.7.6"
  }
 },
 "nbformat": 4,
 "nbformat_minor": 4
}
