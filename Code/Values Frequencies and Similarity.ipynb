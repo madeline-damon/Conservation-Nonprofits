{
 "cells": [
  {
   "cell_type": "code",
   "execution_count": 8,
   "metadata": {},
   "outputs": [],
   "source": [
    "import nltk\n",
    "from collections import Counter\n",
    "from nltk.corpus import stopwords\n",
    "from nltk import FreqDist\n",
    "\n",
    "import textwrap\n",
    "\n",
    "import matplotlib.pyplot as plt\n",
    "\n",
    "import numpy as np\n",
    "import scipy\n",
    "\n",
    "sw = stopwords.words(\"english\")"
   ]
  },
  {
   "cell_type": "code",
   "execution_count": 3,
   "metadata": {},
   "outputs": [],
   "source": [
    "small_tweets= [\"sonoraninst_tweets.txt\",\n",
    "              \"TheICCFGroup_tweets.txt\",\n",
    "              \"CECSB_tweets.txt\",\n",
    "              \"1000oregon_tweets.txt\",\n",
    "              \"EarthShare_tweets.txt\",\n",
    "              \"CRKeeper_tweets.txt\",\n",
    "              \"ConservationNW_tweets.txt\",\n",
    "              \"QLFNews_tweets.txt\",\n",
    "              \"globalgreen_tweets.txt\",\n",
    "              \"SustainableNW_tweets.txt\" ]\n",
    "\n",
    "medium_tweets = [\"wildearthguard_tweets.txt\",\n",
    "                \"WTA_hikers_tweets.txt\",\n",
    "                \"ncascadeswa_tweets.txt\",\n",
    "                \"PCTAssociation_tweets.txt\",\n",
    "                \"PachamamaOrg_tweets.txt\",\n",
    "                \"TreePeople_org_tweets.txt\",\n",
    "                \"mohonkpreserve_tweets.txt\",\n",
    "                \"PECPA_tweets.txt\",\n",
    "                \"standearth_tweets.txt\",\n",
    "                 \"earthisland_tweets.txt\"\n",
    "                ]\n",
    "\n",
    "large_tweets = [\"CeresNews_tweets.txt\",\n",
    "               \"chesapeakebay_tweets.txt\",\n",
    "               \"GrowNYC_tweets.txt\",\n",
    "               \"RockyMtnInst_tweets.txt\",\n",
    "               \"Earthjustice_tweets.txt\",\n",
    "               \"rff_tweets.txt\",\n",
    "               \"Waterkeeper_tweets.txt\",\n",
    "               \"TPWFoundation_tweets.txt\",\n",
    "               \"the_sca_tweets.txt\",\n",
    "               \"ClimateReality_tweets.txt\"]\n",
    "\n",
    "small_MVVs = [\n",
    "             \"www_cecsb_org_about_our-mission.txt\",\n",
    "             \"www_chattahoochee_org_about.txt\",\n",
    "             \"www_conservationnw_org_about-us.txt\",\n",
    "             \"Earthshare MVV.txt\",\n",
    "             \"www_friends_org_about-usour-story.txt\",\n",
    "             \"www_globalgreen_org.txt\",\n",
    "             \"International Conservation MVV.txt\",\n",
    "             \"www_qlf_org_about-qlf_mission-vision.txt\",\n",
    "             \"www_sonoraninstitute_org_our-story_mission-vision.txt\",\n",
    "             \"www_sustainablenorthwest_orgfocus.txt\"]\n",
    "\n",
    "medium_MVVs = [\"www_earthisland_org_index_php_aboutUsabout-earth-island.txt\",\n",
    "                    \"www_mohonkpreserve_org_what-we-do.txt\",\n",
    "                    \"www_ncascades_org_discovernorth-cascades-institute.txt\",\n",
    "                    \"www_pachamama_org_aboutmission.txt\",\n",
    "                    \"Pacific Crest MVV.txt\",\n",
    "                    \"www_pecpa_org_about.txt\",\n",
    "                    \"www_stand_earth_aboutmission-and-principles.txt\",\n",
    "                    \"www_treepeople_org_our-work.txt\",\n",
    "                    \"www_wildearthguardians_org_about-us_mission-vision-history.txt\",\n",
    "                    \"www_wta_org_our-workabout.txt\"]\n",
    "\n",
    "large_MVVs = [\"www_cbf_org_about-cbf_our-mission.txt\",\n",
    "                    \"www_ceres_orgabout-us.txt\",\n",
    "                    \"www_climaterealityproject_orgour-mission.txt\",\n",
    "                    \"www_earthjustice_orgabout.txt\",\n",
    "                    \"www_grownyc_orgabout.txt\",\n",
    "                    \"www_rff_org_about.txt\",\n",
    "                    \"RMI MVV.txt\",\n",
    "                    \"www_thesca_orgabout.txt\",\n",
    "                    \"Texas Parks MVV.txt\",\n",
    "                    \"www_waterkeeper_org_who-we-are.txt\"]"
   ]
  },
  {
   "cell_type": "code",
   "execution_count": 4,
   "metadata": {},
   "outputs": [],
   "source": [
    "##First I will read in the text files that contain all the values and their synonyms\n",
    "\n",
    "values_files = [\"achievement.txt\",\n",
    "                \"benevolence.txt\",\n",
    "                \"conformity.txt\",\n",
    "                \"hedonism.txt\",\n",
    "                \"power.txt\",\n",
    "                \"security.txt\",\n",
    "                \"self_direction.txt\",\n",
    "                \"stimulation.txt\",\n",
    "                \"tradition.txt\",\n",
    "                \"universalism.txt\"]\n",
    "\n",
    "values_dict=dict()\n",
    "\n",
    "for file in values_files: #For each text file\n",
    "    with open(file, \"r\", encoding = \"Latin-1\") as infile: #Read in and tokenize the file\n",
    "        key=file.replace(\"_synonyms.txt\", \"\")\n",
    "        words=infile.read()\n",
    "        tokens=nltk.word_tokenize(words)\n",
    "        \n",
    "        values_dict[key] = set(t for t in tokens if t.isalpha()) #Add the list of synonyms into the dictionary using the overarching value as the key"
   ]
  },
  {
   "cell_type": "code",
   "execution_count": 5,
   "metadata": {},
   "outputs": [],
   "source": [
    "def identify_values(file,v):  #Function will open a file, tokenize it, and store clean tokens in a list\n",
    "    \n",
    "    results=dict() #results will be stored in a dictionary\n",
    "    \n",
    "    open_file = open(file, \"r\", encoding = \"Latin-1\")\n",
    "    \n",
    "    read_file = open_file.read()\n",
    "    \n",
    "    tokenize_file = nltk.word_tokenize(read_file)\n",
    "    \n",
    "    clean_tokens = []\n",
    "    \n",
    "    for tokens in tokenize_file:\n",
    "        if tokens not in sw and tokens.isalpha():\n",
    "            clean_tokens.append(tokens.lower())\n",
    "            \n",
    "    for value,words in v.items():  #for each key and synonym pair in the value dictionary\n",
    "        \n",
    "        matching_words = [w for w in clean_tokens if w in words  ] #identify and store words that appear in synonyms and clean tokens\n",
    "    \n",
    "        values_freq=len(matching_words)/len(clean_tokens)  #Divide the amount of matching words by all words in text file\n",
    "        \n",
    "        results[value] = round(values_freq, 4) \n",
    "    \n",
    "    \n",
    "    return(results) ##Return the frequencies of each value, which are in a dictionary\n",
    "            \n",
    "    \n"
   ]
  },
  {
   "cell_type": "code",
   "execution_count": 6,
   "metadata": {},
   "outputs": [],
   "source": [
    "def identify_synonyms(file, value):\n",
    "    open_file = open(file, \"r\", encoding = \"Latin-1\")\n",
    "    \n",
    "    read_file = open_file.read()\n",
    "    \n",
    "    tokenize_file = nltk.word_tokenize(read_file)\n",
    "    \n",
    "    clean_tokens = []\n",
    "    \n",
    "    for tokens in tokenize_file:\n",
    "        if tokens not in sw and tokens.isalpha():\n",
    "            clean_tokens.append(tokens.lower())\n",
    "            \n",
    "    for values in values_dict.keys():\n",
    "    \n",
    "        key=value\n",
    "        \n",
    "        matching_words = []\n",
    "    \n",
    "        for word in values_dict[value]:\n",
    "            if word in clean_tokens:\n",
    "                matching_words.append(word)\n",
    "        \n",
    "    return(matching_words)\n",
    "        "
   ]
  },
  {
   "cell_type": "markdown",
   "metadata": {},
   "source": [
    "## Values Frequencies in tweets"
   ]
  },
  {
   "cell_type": "code",
   "execution_count": 9,
   "metadata": {},
   "outputs": [
    {
     "name": "stdout",
     "output_type": "stream",
     "text": [
      "sonoraninst_tweets.txt\n",
      "\n",
      "{'achievement.txt': 0.0089, 'benevolence.txt': 0.0196, 'conformity.txt': 0.0058, 'hedonism.txt': 0.0072, 'power.txt': 0.0094, 'security.txt': 0.0083, 'self_direction.txt': 0.0197, 'stimulation.txt': 0.0122, 'tradition.txt': 0.0049, 'universalism.txt': 0.0098}\n",
      "\n",
      "\n",
      "TheICCFGroup_tweets.txt\n",
      "\n",
      "{'achievement.txt': 0.0064, 'benevolence.txt': 0.0081, 'conformity.txt': 0.0112, 'hedonism.txt': 0.0021, 'power.txt': 0.0121, 'security.txt': 0.0122, 'self_direction.txt': 0.0129, 'stimulation.txt': 0.0046, 'tradition.txt': 0.0012, 'universalism.txt': 0.0123}\n",
      "\n",
      "\n",
      "CECSB_tweets.txt\n",
      "\n",
      "{'achievement.txt': 0.0082, 'benevolence.txt': 0.0164, 'conformity.txt': 0.0058, 'hedonism.txt': 0.0093, 'power.txt': 0.0091, 'security.txt': 0.01, 'self_direction.txt': 0.0173, 'stimulation.txt': 0.0176, 'tradition.txt': 0.0007, 'universalism.txt': 0.0189}\n",
      "\n",
      "\n",
      "1000oregon_tweets.txt\n",
      "\n",
      "{'achievement.txt': 0.0109, 'benevolence.txt': 0.0191, 'conformity.txt': 0.0108, 'hedonism.txt': 0.0047, 'power.txt': 0.0065, 'security.txt': 0.0101, 'self_direction.txt': 0.0261, 'stimulation.txt': 0.0093, 'tradition.txt': 0.0018, 'universalism.txt': 0.0147}\n",
      "\n",
      "\n",
      "EarthShare_tweets.txt\n",
      "\n",
      "{'achievement.txt': 0.0081, 'benevolence.txt': 0.0182, 'conformity.txt': 0.0062, 'hedonism.txt': 0.0077, 'power.txt': 0.0094, 'security.txt': 0.0222, 'self_direction.txt': 0.0214, 'stimulation.txt': 0.0168, 'tradition.txt': 0.0023, 'universalism.txt': 0.0218}\n",
      "\n",
      "\n",
      "CRKeeper_tweets.txt\n",
      "\n",
      "{'achievement.txt': 0.0072, 'benevolence.txt': 0.0234, 'conformity.txt': 0.0066, 'hedonism.txt': 0.0085, 'power.txt': 0.0073, 'security.txt': 0.0165, 'self_direction.txt': 0.0213, 'stimulation.txt': 0.0059, 'tradition.txt': 0.0015, 'universalism.txt': 0.0088}\n",
      "\n",
      "\n",
      "ConservationNW_tweets.txt\n",
      "\n",
      "{'achievement.txt': 0.0086, 'benevolence.txt': 0.012, 'conformity.txt': 0.0165, 'hedonism.txt': 0.0045, 'power.txt': 0.0101, 'security.txt': 0.017, 'self_direction.txt': 0.017, 'stimulation.txt': 0.0101, 'tradition.txt': 0.0031, 'universalism.txt': 0.0086}\n",
      "\n",
      "\n",
      "QLFNews_tweets.txt\n",
      "\n",
      "{'achievement.txt': 0.0058, 'benevolence.txt': 0.0158, 'conformity.txt': 0.0058, 'hedonism.txt': 0.0052, 'power.txt': 0.0045, 'security.txt': 0.0064, 'self_direction.txt': 0.0084, 'stimulation.txt': 0.0093, 'tradition.txt': 0.0061, 'universalism.txt': 0.0126}\n",
      "\n",
      "\n",
      "globalgreen_tweets.txt\n",
      "\n",
      "{'achievement.txt': 0.0085, 'benevolence.txt': 0.0123, 'conformity.txt': 0.0068, 'hedonism.txt': 0.0043, 'power.txt': 0.0068, 'security.txt': 0.0224, 'self_direction.txt': 0.0165, 'stimulation.txt': 0.0151, 'tradition.txt': 0.0015, 'universalism.txt': 0.0276}\n",
      "\n",
      "\n",
      "SustainableNW_tweets.txt\n",
      "\n",
      "{'achievement.txt': 0.0109, 'benevolence.txt': 0.0191, 'conformity.txt': 0.0126, 'hedonism.txt': 0.0059, 'power.txt': 0.0069, 'security.txt': 0.0048, 'self_direction.txt': 0.0148, 'stimulation.txt': 0.0123, 'tradition.txt': 0.0023, 'universalism.txt': 0.0078}\n",
      "\n",
      "\n"
     ]
    }
   ],
   "source": [
    "### Small Organizations ###\n",
    "\n",
    "#Printing the values in the tweet files\n",
    "for file in small_tweets:\n",
    "    print(file + \"\\n\\n\" + str(identify_values(file, values_dict)) + \"\\n\\n\" )"
   ]
  },
  {
   "cell_type": "code",
   "execution_count": 10,
   "metadata": {},
   "outputs": [
    {
     "name": "stdout",
     "output_type": "stream",
     "text": [
      "wildearthguard_tweets.txt\n",
      "\n",
      "{'achievement.txt': 0.0077, 'benevolence.txt': 0.0133, 'conformity.txt': 0.0109, 'hedonism.txt': 0.002, 'power.txt': 0.0138, 'security.txt': 0.0247, 'self_direction.txt': 0.0158, 'stimulation.txt': 0.0137, 'tradition.txt': 0.0041, 'universalism.txt': 0.0123}\n",
      "\n",
      "\n",
      "WTA_hikers_tweets.txt\n",
      "\n",
      "{'achievement.txt': 0.0113, 'benevolence.txt': 0.0302, 'conformity.txt': 0.0052, 'hedonism.txt': 0.0128, 'power.txt': 0.005, 'security.txt': 0.0058, 'self_direction.txt': 0.0196, 'stimulation.txt': 0.0068, 'tradition.txt': 0.0021, 'universalism.txt': 0.0044}\n",
      "\n",
      "\n",
      "ncascadeswa_tweets.txt\n",
      "\n",
      "{'achievement.txt': 0.0093, 'benevolence.txt': 0.0132, 'conformity.txt': 0.0035, 'hedonism.txt': 0.0108, 'power.txt': 0.0052, 'security.txt': 0.0055, 'self_direction.txt': 0.0114, 'stimulation.txt': 0.0093, 'tradition.txt': 0.002, 'universalism.txt': 0.0076}\n",
      "\n",
      "\n",
      "PCTAssociation_tweets.txt\n",
      "\n",
      "{'achievement.txt': 0.0091, 'benevolence.txt': 0.0254, 'conformity.txt': 0.0067, 'hedonism.txt': 0.0081, 'power.txt': 0.0059, 'security.txt': 0.0092, 'self_direction.txt': 0.014, 'stimulation.txt': 0.0051, 'tradition.txt': 0.0021, 'universalism.txt': 0.0045}\n",
      "\n",
      "\n",
      "PachamamaOrg_tweets.txt\n",
      "\n",
      "{'achievement.txt': 0.0067, 'benevolence.txt': 0.0139, 'conformity.txt': 0.0081, 'hedonism.txt': 0.0061, 'power.txt': 0.0123, 'security.txt': 0.0134, 'self_direction.txt': 0.0176, 'stimulation.txt': 0.0129, 'tradition.txt': 0.0066, 'universalism.txt': 0.0176}\n",
      "\n",
      "\n",
      "TreePeople_org_tweets.txt\n",
      "\n",
      "{'achievement.txt': 0.0051, 'benevolence.txt': 0.0259, 'conformity.txt': 0.0053, 'hedonism.txt': 0.0081, 'power.txt': 0.0043, 'security.txt': 0.0149, 'self_direction.txt': 0.0233, 'stimulation.txt': 0.016, 'tradition.txt': 0.002, 'universalism.txt': 0.02}\n",
      "\n",
      "\n",
      "mohonkpreserve_tweets.txt\n",
      "\n",
      "{'achievement.txt': 0.0071, 'benevolence.txt': 0.0151, 'conformity.txt': 0.0027, 'hedonism.txt': 0.0093, 'power.txt': 0.0044, 'security.txt': 0.0046, 'self_direction.txt': 0.0138, 'stimulation.txt': 0.0096, 'tradition.txt': 0.0186, 'universalism.txt': 0.0062}\n",
      "\n",
      "\n",
      "PECPA_tweets.txt\n",
      "\n",
      "{'achievement.txt': 0.0116, 'benevolence.txt': 0.0147, 'conformity.txt': 0.0078, 'hedonism.txt': 0.0067, 'power.txt': 0.0077, 'security.txt': 0.009, 'self_direction.txt': 0.0206, 'stimulation.txt': 0.0125, 'tradition.txt': 0.0013, 'universalism.txt': 0.0168}\n",
      "\n",
      "\n",
      "standearth_tweets.txt\n",
      "\n",
      "{'achievement.txt': 0.0122, 'benevolence.txt': 0.0068, 'conformity.txt': 0.0063, 'hedonism.txt': 0.0016, 'power.txt': 0.0099, 'security.txt': 0.0166, 'self_direction.txt': 0.0196, 'stimulation.txt': 0.0132, 'tradition.txt': 0.0013, 'universalism.txt': 0.0212}\n",
      "\n",
      "\n",
      "earthisland_tweets.txt\n",
      "\n",
      "{'achievement.txt': 0.0099, 'benevolence.txt': 0.0086, 'conformity.txt': 0.0075, 'hedonism.txt': 0.0032, 'power.txt': 0.012, 'security.txt': 0.0156, 'self_direction.txt': 0.017, 'stimulation.txt': 0.0098, 'tradition.txt': 0.0015, 'universalism.txt': 0.0232}\n",
      "\n",
      "\n"
     ]
    }
   ],
   "source": [
    "### Medium Organizations ###\n",
    "\n",
    "#Printing the values in the tweet files\n",
    "for file in medium_tweets:\n",
    "    print(file + \"\\n\\n\" + str(identify_values(file, values_dict)) + \"\\n\\n\" )"
   ]
  },
  {
   "cell_type": "code",
   "execution_count": 11,
   "metadata": {},
   "outputs": [
    {
     "name": "stdout",
     "output_type": "stream",
     "text": [
      "CeresNews_tweets.txt\n",
      "\n",
      "{'achievement.txt': 0.0198, 'benevolence.txt': 0.0092, 'conformity.txt': 0.0143, 'hedonism.txt': 0.0026, 'power.txt': 0.016, 'security.txt': 0.0155, 'self_direction.txt': 0.0241, 'stimulation.txt': 0.0287, 'tradition.txt': 0.0015, 'universalism.txt': 0.0354}\n",
      "\n",
      "\n",
      "chesapeakebay_tweets.txt\n",
      "\n",
      "{'achievement.txt': 0.0104, 'benevolence.txt': 0.0174, 'conformity.txt': 0.0066, 'hedonism.txt': 0.0047, 'power.txt': 0.0117, 'security.txt': 0.0154, 'self_direction.txt': 0.0167, 'stimulation.txt': 0.0126, 'tradition.txt': 0.0054, 'universalism.txt': 0.0142}\n",
      "\n",
      "\n",
      "GrowNYC_tweets.txt\n",
      "\n",
      "{'achievement.txt': 0.0063, 'benevolence.txt': 0.0224, 'conformity.txt': 0.0067, 'hedonism.txt': 0.0097, 'power.txt': 0.0048, 'security.txt': 0.016, 'self_direction.txt': 0.0187, 'stimulation.txt': 0.0127, 'tradition.txt': 0.0011, 'universalism.txt': 0.0082}\n",
      "\n",
      "\n",
      "RockyMtnInst_tweets.txt\n",
      "\n",
      "{'achievement.txt': 0.0177, 'benevolence.txt': 0.0086, 'conformity.txt': 0.0043, 'hedonism.txt': 0.001, 'power.txt': 0.0163, 'security.txt': 0.0115, 'self_direction.txt': 0.0235, 'stimulation.txt': 0.0297, 'tradition.txt': 0.0004, 'universalism.txt': 0.0198}\n",
      "\n",
      "\n",
      "Earthjustice_tweets.txt\n",
      "\n",
      "{'achievement.txt': 0.0081, 'benevolence.txt': 0.0076, 'conformity.txt': 0.0115, 'hedonism.txt': 0.0024, 'power.txt': 0.023, 'security.txt': 0.0375, 'self_direction.txt': 0.0155, 'stimulation.txt': 0.015, 'tradition.txt': 0.002, 'universalism.txt': 0.0285}\n",
      "\n",
      "\n",
      "rff_tweets.txt\n",
      "\n",
      "{'achievement.txt': 0.0102, 'benevolence.txt': 0.0089, 'conformity.txt': 0.0069, 'hedonism.txt': 0.0016, 'power.txt': 0.0142, 'security.txt': 0.0054, 'self_direction.txt': 0.0312, 'stimulation.txt': 0.0169, 'tradition.txt': 0.001, 'universalism.txt': 0.0186}\n",
      "\n",
      "\n",
      "Waterkeeper_tweets.txt\n",
      "\n",
      "{'achievement.txt': 0.0062, 'benevolence.txt': 0.0137, 'conformity.txt': 0.0096, 'hedonism.txt': 0.0041, 'power.txt': 0.0118, 'security.txt': 0.0264, 'self_direction.txt': 0.0199, 'stimulation.txt': 0.0118, 'tradition.txt': 0.0016, 'universalism.txt': 0.0181}\n",
      "\n",
      "\n",
      "TPWFoundation_tweets.txt\n",
      "\n",
      "{'achievement.txt': 0.0118, 'benevolence.txt': 0.026, 'conformity.txt': 0.0092, 'hedonism.txt': 0.0161, 'power.txt': 0.0065, 'security.txt': 0.0058, 'self_direction.txt': 0.012, 'stimulation.txt': 0.0052, 'tradition.txt': 0.0048, 'universalism.txt': 0.0008}\n",
      "\n",
      "\n",
      "the_sca_tweets.txt\n",
      "\n",
      "{'achievement.txt': 0.0102, 'benevolence.txt': 0.0247, 'conformity.txt': 0.0058, 'hedonism.txt': 0.0082, 'power.txt': 0.0081, 'security.txt': 0.0087, 'self_direction.txt': 0.0186, 'stimulation.txt': 0.01, 'tradition.txt': 0.0026, 'universalism.txt': 0.0065}\n",
      "\n",
      "\n",
      "ClimateReality_tweets.txt\n",
      "\n",
      "{'achievement.txt': 0.0094, 'benevolence.txt': 0.0076, 'conformity.txt': 0.0045, 'hedonism.txt': 0.0019, 'power.txt': 0.0157, 'security.txt': 0.0443, 'self_direction.txt': 0.0239, 'stimulation.txt': 0.0289, 'tradition.txt': 0.0021, 'universalism.txt': 0.0677}\n",
      "\n",
      "\n"
     ]
    }
   ],
   "source": [
    "### Large Tweets ###\n",
    "\n",
    "#Printing the values in the tweet files\n",
    "for file in large_tweets:\n",
    "    print(file + \"\\n\\n\" + str(identify_values(file, values_dict)) + \"\\n\\n\" )"
   ]
  },
  {
   "cell_type": "markdown",
   "metadata": {},
   "source": [
    "## Values Frequencies in MVVs"
   ]
  },
  {
   "cell_type": "code",
   "execution_count": 12,
   "metadata": {},
   "outputs": [
    {
     "name": "stdout",
     "output_type": "stream",
     "text": [
      "www_cecsb_org_about_our-mission.txt\n",
      "\n",
      "{'achievement.txt': 0.0117, 'benevolence.txt': 0.0104, 'conformity.txt': 0.009, 'hedonism.txt': 0.0055, 'power.txt': 0.009, 'security.txt': 0.0104, 'self_direction.txt': 0.0255, 'stimulation.txt': 0.0304, 'tradition.txt': 0.0007, 'universalism.txt': 0.02}\n",
      "\n",
      "\n",
      "www_chattahoochee_org_about.txt\n",
      "\n",
      "{'achievement.txt': 0.0127, 'benevolence.txt': 0.019, 'conformity.txt': 0.0127, 'hedonism.txt': 0.0063, 'power.txt': 0.0063, 'security.txt': 0.019, 'self_direction.txt': 0.0222, 'stimulation.txt': 0.0127, 'tradition.txt': 0.0127, 'universalism.txt': 0.0159}\n",
      "\n",
      "\n",
      "www_conservationnw_org_about-us.txt\n",
      "\n",
      "{'achievement.txt': 0.0105, 'benevolence.txt': 0.0163, 'conformity.txt': 0.0096, 'hedonism.txt': 0.0019, 'power.txt': 0.0091, 'security.txt': 0.0196, 'self_direction.txt': 0.0148, 'stimulation.txt': 0.0077, 'tradition.txt': 0.0091, 'universalism.txt': 0.0129}\n",
      "\n",
      "\n",
      "Earthshare MVV.txt\n",
      "\n",
      "{'achievement.txt': 0.0136, 'benevolence.txt': 0.0136, 'conformity.txt': 0.0068, 'hedonism.txt': 0.0068, 'power.txt': 0.0068, 'security.txt': 0.0408, 'self_direction.txt': 0.0136, 'stimulation.txt': 0.034, 'tradition.txt': 0.0136, 'universalism.txt': 0.0544}\n",
      "\n",
      "\n",
      "www_friends_org_about-usour-story.txt\n",
      "\n",
      "{'achievement.txt': 0.0118, 'benevolence.txt': 0.0324, 'conformity.txt': 0.0088, 'hedonism.txt': 0.0, 'power.txt': 0.0206, 'security.txt': 0.0088, 'self_direction.txt': 0.0118, 'stimulation.txt': 0.0, 'tradition.txt': 0.0, 'universalism.txt': 0.0}\n",
      "\n",
      "\n",
      "www_globalgreen_org.txt\n",
      "\n",
      "{'achievement.txt': 0.0078, 'benevolence.txt': 0.0294, 'conformity.txt': 0.0039, 'hedonism.txt': 0.0, 'power.txt': 0.0059, 'security.txt': 0.0078, 'self_direction.txt': 0.0176, 'stimulation.txt': 0.0196, 'tradition.txt': 0.0059, 'universalism.txt': 0.0706}\n",
      "\n",
      "\n",
      "International Conservation MVV.txt\n",
      "\n",
      "{'achievement.txt': 0.0215, 'benevolence.txt': 0.0108, 'conformity.txt': 0.043, 'hedonism.txt': 0.0, 'power.txt': 0.0538, 'security.txt': 0.0, 'self_direction.txt': 0.0323, 'stimulation.txt': 0.0054, 'tradition.txt': 0.0, 'universalism.txt': 0.0376}\n",
      "\n",
      "\n",
      "www_qlf_org_about-qlf_mission-vision.txt\n",
      "\n",
      "{'achievement.txt': 0.014, 'benevolence.txt': 0.0321, 'conformity.txt': 0.008, 'hedonism.txt': 0.0, 'power.txt': 0.018, 'security.txt': 0.002, 'self_direction.txt': 0.012, 'stimulation.txt': 0.014, 'tradition.txt': 0.012, 'universalism.txt': 0.0321}\n",
      "\n",
      "\n",
      "www_sonoraninstitute_org_our-story_mission-vision.txt\n",
      "\n",
      "{'achievement.txt': 0.0127, 'benevolence.txt': 0.019, 'conformity.txt': 0.0127, 'hedonism.txt': 0.0063, 'power.txt': 0.0063, 'security.txt': 0.019, 'self_direction.txt': 0.0222, 'stimulation.txt': 0.0127, 'tradition.txt': 0.0127, 'universalism.txt': 0.0159}\n",
      "\n",
      "\n",
      "www_sustainablenorthwest_orgfocus.txt\n",
      "\n",
      "{'achievement.txt': 0.0194, 'benevolence.txt': 0.0167, 'conformity.txt': 0.0111, 'hedonism.txt': 0.0028, 'power.txt': 0.0083, 'security.txt': 0.025, 'self_direction.txt': 0.0139, 'stimulation.txt': 0.0194, 'tradition.txt': 0.0056, 'universalism.txt': 0.0194}\n",
      "\n",
      "\n"
     ]
    }
   ],
   "source": [
    "### Small Organizations ###\n",
    "\n",
    "#Printing the values in mission/vision/values file\n",
    "for file in small_MVVs:\n",
    "    print(file + \"\\n\\n\" + str(identify_values(file, values_dict)) + \"\\n\\n\" )"
   ]
  },
  {
   "cell_type": "code",
   "execution_count": 13,
   "metadata": {},
   "outputs": [
    {
     "name": "stdout",
     "output_type": "stream",
     "text": [
      "www_earthisland_org_index_php_aboutUsabout-earth-island.txt\n",
      "\n",
      "{'achievement.txt': 0.0096, 'benevolence.txt': 0.0208, 'conformity.txt': 0.0192, 'hedonism.txt': 0.0016, 'power.txt': 0.0208, 'security.txt': 0.0112, 'self_direction.txt': 0.0352, 'stimulation.txt': 0.0384, 'tradition.txt': 0.0128, 'universalism.txt': 0.0208}\n",
      "\n",
      "\n",
      "www_mohonkpreserve_org_what-we-do.txt\n",
      "\n",
      "{'achievement.txt': 0.0061, 'benevolence.txt': 0.024, 'conformity.txt': 0.0074, 'hedonism.txt': 0.0061, 'power.txt': 0.008, 'security.txt': 0.0221, 'self_direction.txt': 0.0215, 'stimulation.txt': 0.0049, 'tradition.txt': 0.0086, 'universalism.txt': 0.0086}\n",
      "\n",
      "\n",
      "www_ncascades_org_discovernorth-cascades-institute.txt\n",
      "\n",
      "{'achievement.txt': 0.0108, 'benevolence.txt': 0.0431, 'conformity.txt': 0.0043, 'hedonism.txt': 0.0022, 'power.txt': 0.0086, 'security.txt': 0.0065, 'self_direction.txt': 0.028, 'stimulation.txt': 0.0129, 'tradition.txt': 0.0, 'universalism.txt': 0.0216}\n",
      "\n",
      "\n",
      "www_pachamama_org_aboutmission.txt\n",
      "\n",
      "{'achievement.txt': 0.011, 'benevolence.txt': 0.0198, 'conformity.txt': 0.0022, 'hedonism.txt': 0.0044, 'power.txt': 0.0088, 'security.txt': 0.0, 'self_direction.txt': 0.022, 'stimulation.txt': 0.0286, 'tradition.txt': 0.0066, 'universalism.txt': 0.0132}\n",
      "\n",
      "\n",
      "Pacific Crest MVV.txt\n",
      "\n",
      "{'achievement.txt': 0.0324, 'benevolence.txt': 0.037, 'conformity.txt': 0.0139, 'hedonism.txt': 0.0, 'power.txt': 0.0278, 'security.txt': 0.0093, 'self_direction.txt': 0.0139, 'stimulation.txt': 0.0278, 'tradition.txt': 0.0139, 'universalism.txt': 0.0093}\n",
      "\n",
      "\n",
      "www_pecpa_org_about.txt\n",
      "\n",
      "{'achievement.txt': 0.0184, 'benevolence.txt': 0.0046, 'conformity.txt': 0.0092, 'hedonism.txt': 0.0069, 'power.txt': 0.0138, 'security.txt': 0.0069, 'self_direction.txt': 0.0345, 'stimulation.txt': 0.0161, 'tradition.txt': 0.0069, 'universalism.txt': 0.0483}\n",
      "\n",
      "\n",
      "www_stand_earth_aboutmission-and-principles.txt\n",
      "\n",
      "{'achievement.txt': 0.0157, 'benevolence.txt': 0.0192, 'conformity.txt': 0.0227, 'hedonism.txt': 0.0, 'power.txt': 0.0087, 'security.txt': 0.0192, 'self_direction.txt': 0.0175, 'stimulation.txt': 0.0157, 'tradition.txt': 0.0105, 'universalism.txt': 0.0279}\n",
      "\n",
      "\n",
      "www_treepeople_org_our-work.txt\n",
      "\n",
      "{'achievement.txt': 0.0, 'benevolence.txt': 0.024, 'conformity.txt': 0.036, 'hedonism.txt': 0.004, 'power.txt': 0.008, 'security.txt': 0.02, 'self_direction.txt': 0.024, 'stimulation.txt': 0.016, 'tradition.txt': 0.004, 'universalism.txt': 0.02}\n",
      "\n",
      "\n",
      "www_wildearthguardians_org_about-us_mission-vision-history.txt\n",
      "\n",
      "{'achievement.txt': 0.0087, 'benevolence.txt': 0.0192, 'conformity.txt': 0.0192, 'hedonism.txt': 0.001, 'power.txt': 0.0106, 'security.txt': 0.0337, 'self_direction.txt': 0.0096, 'stimulation.txt': 0.0183, 'tradition.txt': 0.0067, 'universalism.txt': 0.0192}\n",
      "\n",
      "\n",
      "www_wta_org_our-workabout.txt\n",
      "\n",
      "{'achievement.txt': 0.0108, 'benevolence.txt': 0.0431, 'conformity.txt': 0.0043, 'hedonism.txt': 0.0022, 'power.txt': 0.0086, 'security.txt': 0.0065, 'self_direction.txt': 0.028, 'stimulation.txt': 0.0129, 'tradition.txt': 0.0, 'universalism.txt': 0.0216}\n",
      "\n",
      "\n"
     ]
    }
   ],
   "source": [
    "### Medium Organizations ###\n",
    "\n",
    "#Printing the values in mission/vision/values file\n",
    "for file in medium_MVVs:\n",
    "    print(file + \"\\n\\n\" + str(identify_values(file, values_dict)) + \"\\n\\n\" )"
   ]
  },
  {
   "cell_type": "code",
   "execution_count": 14,
   "metadata": {},
   "outputs": [
    {
     "name": "stdout",
     "output_type": "stream",
     "text": [
      "www_cbf_org_about-cbf_our-mission.txt\n",
      "\n",
      "{'achievement.txt': 0.0037, 'benevolence.txt': 0.0331, 'conformity.txt': 0.0074, 'hedonism.txt': 0.0, 'power.txt': 0.0074, 'security.txt': 0.0331, 'self_direction.txt': 0.0479, 'stimulation.txt': 0.011, 'tradition.txt': 0.0092, 'universalism.txt': 0.0221}\n",
      "\n",
      "\n",
      "www_ceres_orgabout-us.txt\n",
      "\n",
      "{'achievement.txt': 0.0337, 'benevolence.txt': 0.0132, 'conformity.txt': 0.0117, 'hedonism.txt': 0.0, 'power.txt': 0.0146, 'security.txt': 0.0102, 'self_direction.txt': 0.0381, 'stimulation.txt': 0.0395, 'tradition.txt': 0.0, 'universalism.txt': 0.0322}\n",
      "\n",
      "\n",
      "www_climaterealityproject_orgour-mission.txt\n",
      "\n",
      "{'achievement.txt': 0.0092, 'benevolence.txt': 0.0202, 'conformity.txt': 0.0037, 'hedonism.txt': 0.0, 'power.txt': 0.0221, 'security.txt': 0.0202, 'self_direction.txt': 0.0202, 'stimulation.txt': 0.0349, 'tradition.txt': 0.0037, 'universalism.txt': 0.1011}\n",
      "\n",
      "\n",
      "www_earthjustice_orgabout.txt\n",
      "\n",
      "{'achievement.txt': 0.0174, 'benevolence.txt': 0.0326, 'conformity.txt': 0.037, 'hedonism.txt': 0.0, 'power.txt': 0.0217, 'security.txt': 0.05, 'self_direction.txt': 0.0261, 'stimulation.txt': 0.0348, 'tradition.txt': 0.0065, 'universalism.txt': 0.0478}\n",
      "\n",
      "\n",
      "www_grownyc_orgabout.txt\n",
      "\n",
      "{'achievement.txt': 0.005, 'benevolence.txt': 0.0348, 'conformity.txt': 0.0087, 'hedonism.txt': 0.0012, 'power.txt': 0.005, 'security.txt': 0.0087, 'self_direction.txt': 0.0211, 'stimulation.txt': 0.0087, 'tradition.txt': 0.0, 'universalism.txt': 0.0124}\n",
      "\n",
      "\n",
      "www_rff_org_about.txt\n",
      "\n",
      "{'achievement.txt': 0.0179, 'benevolence.txt': 0.0313, 'conformity.txt': 0.0112, 'hedonism.txt': 0.0022, 'power.txt': 0.0134, 'security.txt': 0.0045, 'self_direction.txt': 0.0515, 'stimulation.txt': 0.0224, 'tradition.txt': 0.0022, 'universalism.txt': 0.0403}\n",
      "\n",
      "\n",
      "RMI MVV.txt\n",
      "\n",
      "{'achievement.txt': 0.0202, 'benevolence.txt': 0.0101, 'conformity.txt': 0.0076, 'hedonism.txt': 0.0025, 'power.txt': 0.0076, 'security.txt': 0.0354, 'self_direction.txt': 0.0278, 'stimulation.txt': 0.0429, 'tradition.txt': 0.0, 'universalism.txt': 0.0303}\n",
      "\n",
      "\n",
      "www_thesca_orgabout.txt\n",
      "\n",
      "{'achievement.txt': 0.0071, 'benevolence.txt': 0.0568, 'conformity.txt': 0.0036, 'hedonism.txt': 0.0018, 'power.txt': 0.0178, 'security.txt': 0.0107, 'self_direction.txt': 0.0195, 'stimulation.txt': 0.0089, 'tradition.txt': 0.0053, 'universalism.txt': 0.0071}\n",
      "\n",
      "\n",
      "Texas Parks MVV.txt\n",
      "\n",
      "{'achievement.txt': 0.0235, 'benevolence.txt': 0.0, 'conformity.txt': 0.0118, 'hedonism.txt': 0.0235, 'power.txt': 0.0118, 'security.txt': 0.0, 'self_direction.txt': 0.0118, 'stimulation.txt': 0.0235, 'tradition.txt': 0.0, 'universalism.txt': 0.0}\n",
      "\n",
      "\n",
      "www_waterkeeper_org_who-we-are.txt\n",
      "\n",
      "{'achievement.txt': 0.0057, 'benevolence.txt': 0.0172, 'conformity.txt': 0.0172, 'hedonism.txt': 0.0, 'power.txt': 0.0144, 'security.txt': 0.046, 'self_direction.txt': 0.0086, 'stimulation.txt': 0.0172, 'tradition.txt': 0.0057, 'universalism.txt': 0.0287}\n",
      "\n",
      "\n"
     ]
    }
   ],
   "source": [
    "### Large Organizations ###\n",
    "\n",
    "#Printing the values in mission/vision/values file\n",
    "for file in large_MVVs:\n",
    "    print(file + \"\\n\\n\" + str(identify_values(file, values_dict)) + \"\\n\\n\" )"
   ]
  },
  {
   "cell_type": "markdown",
   "metadata": {},
   "source": [
    "## Cosine Similarity"
   ]
  },
  {
   "cell_type": "code",
   "execution_count": 15,
   "metadata": {},
   "outputs": [],
   "source": [
    "def cosine_dist(a,b) :\n",
    "    dist = np.dot(a,b)/(np.linalg.norm(a)*np.linalg.norm(b))\n",
    "    return(dist)"
   ]
  },
  {
   "cell_type": "code",
   "execution_count": 16,
   "metadata": {},
   "outputs": [],
   "source": [
    "def values_similarity(file1,file2, v):\n",
    "    \n",
    "    org_name = file1.rstrip(\"tweets.txt\")\n",
    "    \n",
    "    ###To calculate frequencies in tweets and store as vector###\n",
    "    \n",
    "    \n",
    "    open_file1 = open(file1, \"r\", encoding = \"Latin-1\")\n",
    "    \n",
    "    read_file1 = open_file1.read()\n",
    "    \n",
    "    tokenize_file1 = nltk.word_tokenize(read_file1)\n",
    "    \n",
    "    clean_tokens = []\n",
    "    \n",
    "    for tokens in tokenize_file1:\n",
    "        if tokens not in sw and tokens.isalpha():\n",
    "            clean_tokens.append(tokens.lower())\n",
    "    \n",
    "    a = [] #Store values freqs\n",
    "    \n",
    "    for value,words in v.items():  #for each key and synonym pair in the value dictionary\n",
    "        \n",
    "        matching_words = [w for w in clean_tokens if w in words  ] #identify and store words that appear in synonyms and clean tokens\n",
    "    \n",
    "        values_freq=len(matching_words)/len(clean_tokens)  #Divide the amount of matching words by all words in text file\n",
    "        \n",
    "        file1_values_freq = round(values_freq, 4)\n",
    "        \n",
    "        a.append(file1_values_freq)\n",
    "        \n",
    "    \n",
    "    \n",
    "        \n",
    "    ###To calculate frequences in MVVs as vector###\n",
    "    \n",
    "    \n",
    "    open_file2 = open(file2, \"r\", encoding = \"Latin-1\")\n",
    "    \n",
    "    read_file2 = open_file2.read()\n",
    "    \n",
    "    tokenize_file2 = nltk.word_tokenize(read_file2)\n",
    "    \n",
    "    clean_tokens = []\n",
    "    \n",
    "    for tokens in tokenize_file2:\n",
    "        if tokens not in sw and tokens.isalpha():\n",
    "            clean_tokens.append(tokens.lower())\n",
    "    b= []\n",
    "    \n",
    "    for value,words in v.items():  #for each key and synonym pair in the value dictionary\n",
    "        \n",
    "        matching_words = [w for w in clean_tokens if w in words  ] #identify and store words that appear in synonyms and clean tokens\n",
    "    \n",
    "        values_freq=len(matching_words)/len(clean_tokens)  #Divide the amount of matching words by all words in text file\n",
    "        \n",
    "        file2_values_freq = round(values_freq, 4) \n",
    "        \n",
    "        b.append(file2_values_freq)\n",
    "    \n",
    "    \n",
    "    \n",
    "    return(\"The cosine distance between tweets and MVVs for\" + \" \" + org_name + \" \" + \"is\" + \" \" + str(cosine_dist(a,b))) ##Return the frequencies of each value, which are in a dictionary"
   ]
  },
  {
   "cell_type": "markdown",
   "metadata": {},
   "source": [
    "## Small Orgs"
   ]
  },
  {
   "cell_type": "code",
   "execution_count": 20,
   "metadata": {},
   "outputs": [],
   "source": [
    "small_values_distances = [] \n",
    "\n",
    "for tweets, MVV in zip(small_tweets, small_MVVs):\n",
    "    small_values_distances.append(values_similarity(tweets, MVV, values_dict))"
   ]
  },
  {
   "cell_type": "code",
   "execution_count": 21,
   "metadata": {},
   "outputs": [
    {
     "data": {
      "text/plain": [
       "['The cosine distance between tweets and MVVs for sonoraninst_ is 0.8866211910908003',\n",
       " 'The cosine distance between tweets and MVVs for TheICCFGroup_ is 0.9072105499242719',\n",
       " 'The cosine distance between tweets and MVVs for CECSB_ is 0.878034961935552',\n",
       " 'The cosine distance between tweets and MVVs for 1000oregon_ is 0.7213674523660601',\n",
       " 'The cosine distance between tweets and MVVs for EarthShare_ is 0.6599885803060995',\n",
       " 'The cosine distance between tweets and MVVs for CRKeeper_ is 0.6258253708012392',\n",
       " 'The cosine distance between tweets and MVVs for ConservationNW_ is 0.7609578274173477',\n",
       " 'The cosine distance between tweets and MVVs for QLFNews_ is 0.9325509057153367',\n",
       " 'The cosine distance between tweets and MVVs for globalgreen_ is 0.903826789532095',\n",
       " 'The cosine distance between tweets and MVVs for SustainableNW_ is 0.863206762006737']"
      ]
     },
     "execution_count": 21,
     "metadata": {},
     "output_type": "execute_result"
    }
   ],
   "source": [
    "small_values_distances"
   ]
  },
  {
   "cell_type": "code",
   "execution_count": 22,
   "metadata": {},
   "outputs": [],
   "source": [
    "#Creating a histogram to show distribution of distances between tweets and MVVs\n",
    "#Removing rest of string and just grabbing values of distances\n",
    "\n",
    "just_distances=[]\n",
    "for item in small_values_distances:\n",
    "    distance=item.split('is ')[1]\n",
    "    \n",
    "    just_distances.append(distance)\n",
    "    \n",
    "small_rounded_distances=[]\n",
    "for item in just_distances:\n",
    "    rounded=round(float(item),2)\n",
    "    small_rounded_distances.append(rounded)\n"
   ]
  },
  {
   "cell_type": "code",
   "execution_count": 23,
   "metadata": {},
   "outputs": [
    {
     "data": {
      "text/plain": [
       "(array([1., 0., 0., 0., 0., 0., 0., 0., 0., 0., 1., 0., 0., 0., 0., 0., 0.,\n",
       "        0., 0., 0., 0., 0., 0., 0., 0., 0., 0., 0., 0., 0., 1., 0., 0., 0.,\n",
       "        0., 0., 0., 0., 0., 0., 0., 0., 0., 1., 0., 0., 0., 0., 0., 0., 0.,\n",
       "        0., 0., 0., 0., 0., 0., 0., 0., 0., 0., 0., 0., 0., 0., 0., 0., 0.,\n",
       "        0., 0., 0., 0., 0., 0., 0., 0., 1., 0., 0., 0., 0., 0., 0., 1., 0.,\n",
       "        0., 1., 0., 0., 0., 1., 0., 0., 1., 0., 0., 0., 0., 0., 1.]),\n",
       " array([0.63 , 0.633, 0.636, 0.639, 0.642, 0.645, 0.648, 0.651, 0.654,\n",
       "        0.657, 0.66 , 0.663, 0.666, 0.669, 0.672, 0.675, 0.678, 0.681,\n",
       "        0.684, 0.687, 0.69 , 0.693, 0.696, 0.699, 0.702, 0.705, 0.708,\n",
       "        0.711, 0.714, 0.717, 0.72 , 0.723, 0.726, 0.729, 0.732, 0.735,\n",
       "        0.738, 0.741, 0.744, 0.747, 0.75 , 0.753, 0.756, 0.759, 0.762,\n",
       "        0.765, 0.768, 0.771, 0.774, 0.777, 0.78 , 0.783, 0.786, 0.789,\n",
       "        0.792, 0.795, 0.798, 0.801, 0.804, 0.807, 0.81 , 0.813, 0.816,\n",
       "        0.819, 0.822, 0.825, 0.828, 0.831, 0.834, 0.837, 0.84 , 0.843,\n",
       "        0.846, 0.849, 0.852, 0.855, 0.858, 0.861, 0.864, 0.867, 0.87 ,\n",
       "        0.873, 0.876, 0.879, 0.882, 0.885, 0.888, 0.891, 0.894, 0.897,\n",
       "        0.9  , 0.903, 0.906, 0.909, 0.912, 0.915, 0.918, 0.921, 0.924,\n",
       "        0.927, 0.93 ]),\n",
       " <a list of 100 Patch objects>)"
      ]
     },
     "execution_count": 23,
     "metadata": {},
     "output_type": "execute_result"
    },
    {
     "data": {
      "image/png": "[encoded data removed]",
      "text/plain": [
       "<Figure size 432x288 with 1 Axes>"
      ]
     },
     "metadata": {
      "needs_background": "light"
     },
     "output_type": "display_data"
    }
   ],
   "source": [
    "# matplotlib histogram of rounded distances\n",
    "plt.hist(small_rounded_distances, \n",
    "         color = 'blue', \n",
    "         edgecolor = 'black',\n",
    "         bins = 100)"
   ]
  },
  {
   "cell_type": "code",
   "execution_count": 24,
   "metadata": {},
   "outputs": [
    {
     "name": "stdout",
     "output_type": "stream",
     "text": [
      "0.8140000000000001\n",
      "0.10565983153497835\n"
     ]
    }
   ],
   "source": [
    "#Basic stats of distances\n",
    "print(np.mean(small_rounded_distances))\n",
    "print(np.std(small_rounded_distances))"
   ]
  },
  {
   "cell_type": "code",
   "execution_count": 25,
   "metadata": {},
   "outputs": [
    {
     "name": "stdout",
     "output_type": "stream",
     "text": [
      "-0.7001325098447607\n"
     ]
    }
   ],
   "source": [
    "y = np.array(small_rounded_distances)\n",
    "skewness = scipy.stats.skew(y, bias=False)\n",
    "print (skewness)"
   ]
  },
  {
   "cell_type": "markdown",
   "metadata": {},
   "source": [
    "## Medium Orgs"
   ]
  },
  {
   "cell_type": "code",
   "execution_count": 26,
   "metadata": {},
   "outputs": [],
   "source": [
    "medium_values_distances = [] \n",
    "\n",
    "for tweets, MVV in zip(medium_tweets, medium_MVVs):\n",
    "    medium_values_distances.append(values_similarity(tweets, MVV, values_dict))"
   ]
  },
  {
   "cell_type": "code",
   "execution_count": 27,
   "metadata": {},
   "outputs": [
    {
     "data": {
      "text/plain": [
       "['The cosine distance between tweets and MVVs for wildearthguard_ is 0.8681047904776686',\n",
       " 'The cosine distance between tweets and MVVs for WTA_hikers_ is 0.8750106032344972',\n",
       " 'The cosine distance between tweets and MVVs for ncascadeswa_ is 0.8699430733858964',\n",
       " 'The cosine distance between tweets and MVVs for PCTAssociation_ is 0.7686067302152884',\n",
       " 'The cosine distance between tweets and MVVs for PachamamaOrg_ is 0.8151516300656501',\n",
       " 'The cosine distance between tweets and MVVs for TreePeople_org_ is 0.7898847128448261',\n",
       " 'The cosine distance between tweets and MVVs for mohonkpreserve_ is 0.7479644343842562',\n",
       " 'The cosine distance between tweets and MVVs for PECPA_ is 0.8448051594737386',\n",
       " 'The cosine distance between tweets and MVVs for standearth_ is 0.861829748659632',\n",
       " 'The cosine distance between tweets and MVVs for earthisland_ is 0.7797874737782536']"
      ]
     },
     "execution_count": 27,
     "metadata": {},
     "output_type": "execute_result"
    }
   ],
   "source": [
    "medium_values_distances"
   ]
  },
  {
   "cell_type": "code",
   "execution_count": 28,
   "metadata": {},
   "outputs": [],
   "source": [
    "#Creating a histogram to show distribution of distances between tweets and MVVs\n",
    "#Removing rest of string and just grabbing values of distances\n",
    "\n",
    "just_distances=[]\n",
    "for item in medium_values_distances:\n",
    "    distance=item.split('is ')[1]\n",
    "    \n",
    "    just_distances.append(distance)\n",
    "    \n",
    "medium_rounded_distances=[]\n",
    "for item in just_distances:\n",
    "    rounded=round(float(item),2)\n",
    "    medium_rounded_distances.append(rounded)\n"
   ]
  },
  {
   "cell_type": "code",
   "execution_count": 32,
   "metadata": {},
   "outputs": [
    {
     "data": {
      "text/plain": [
       "(array([1., 0., 0., 0., 0., 0., 0., 0., 0., 0., 0., 0., 0., 0., 0., 1., 0.,\n",
       "        0., 0., 0., 0., 0., 0., 1., 0., 0., 0., 0., 0., 0., 1., 0., 0., 0.,\n",
       "        0., 0., 0., 0., 0., 0., 0., 0., 0., 0., 0., 0., 0., 0., 0., 0., 0.,\n",
       "        0., 0., 1., 0., 0., 0., 0., 0., 0., 0., 0., 0., 0., 0., 0., 0., 0.,\n",
       "        0., 1., 0., 0., 0., 0., 0., 0., 0., 0., 0., 0., 0., 0., 0., 0., 1.,\n",
       "        0., 0., 0., 0., 0., 0., 0., 2., 0., 0., 0., 0., 0., 0., 1.]),\n",
       " array([0.75  , 0.7513, 0.7526, 0.7539, 0.7552, 0.7565, 0.7578, 0.7591,\n",
       "        0.7604, 0.7617, 0.763 , 0.7643, 0.7656, 0.7669, 0.7682, 0.7695,\n",
       "        0.7708, 0.7721, 0.7734, 0.7747, 0.776 , 0.7773, 0.7786, 0.7799,\n",
       "        0.7812, 0.7825, 0.7838, 0.7851, 0.7864, 0.7877, 0.789 , 0.7903,\n",
       "        0.7916, 0.7929, 0.7942, 0.7955, 0.7968, 0.7981, 0.7994, 0.8007,\n",
       "        0.802 , 0.8033, 0.8046, 0.8059, 0.8072, 0.8085, 0.8098, 0.8111,\n",
       "        0.8124, 0.8137, 0.815 , 0.8163, 0.8176, 0.8189, 0.8202, 0.8215,\n",
       "        0.8228, 0.8241, 0.8254, 0.8267, 0.828 , 0.8293, 0.8306, 0.8319,\n",
       "        0.8332, 0.8345, 0.8358, 0.8371, 0.8384, 0.8397, 0.841 , 0.8423,\n",
       "        0.8436, 0.8449, 0.8462, 0.8475, 0.8488, 0.8501, 0.8514, 0.8527,\n",
       "        0.854 , 0.8553, 0.8566, 0.8579, 0.8592, 0.8605, 0.8618, 0.8631,\n",
       "        0.8644, 0.8657, 0.867 , 0.8683, 0.8696, 0.8709, 0.8722, 0.8735,\n",
       "        0.8748, 0.8761, 0.8774, 0.8787, 0.88  ]),\n",
       " <a list of 100 Patch objects>)"
      ]
     },
     "execution_count": 32,
     "metadata": {},
     "output_type": "execute_result"
    },
    {
     "data": {
      "image/png": "[encoded data removed]",
      "text/plain": [
       "<Figure size 432x288 with 1 Axes>"
      ]
     },
     "metadata": {
      "needs_background": "light"
     },
     "output_type": "display_data"
    }
   ],
   "source": [
    "# matplotlib histogram of rounded distances\n",
    "plt.hist(medium_rounded_distances, \n",
    "         color = 'blue', \n",
    "         edgecolor = 'black',\n",
    "         bins = 100)"
   ]
  },
  {
   "cell_type": "code",
   "execution_count": 29,
   "metadata": {},
   "outputs": [
    {
     "name": "stdout",
     "output_type": "stream",
     "text": [
      "0.8230000000000001\n",
      "0.045177427992306056\n"
     ]
    }
   ],
   "source": [
    "#Basic stats of distances\n",
    "print(np.mean(medium_rounded_distances))\n",
    "print(np.std(medium_rounded_distances))"
   ]
  },
  {
   "cell_type": "code",
   "execution_count": 30,
   "metadata": {},
   "outputs": [
    {
     "name": "stdout",
     "output_type": "stream",
     "text": [
      "-0.2635942139804621\n"
     ]
    }
   ],
   "source": [
    "y = np.array(medium_rounded_distances)\n",
    "skewness = scipy.stats.skew(y, bias=False)\n",
    "print (skewness)"
   ]
  },
  {
   "cell_type": "markdown",
   "metadata": {},
   "source": [
    "## Large Organizations"
   ]
  },
  {
   "cell_type": "code",
   "execution_count": 33,
   "metadata": {},
   "outputs": [],
   "source": [
    "large_values_distances = [] \n",
    "\n",
    "for tweets, MVV in zip(large_tweets, large_MVVs):\n",
    "    large_values_distances.append(values_similarity(tweets, MVV, values_dict))"
   ]
  },
  {
   "cell_type": "code",
   "execution_count": 34,
   "metadata": {},
   "outputs": [
    {
     "data": {
      "text/plain": [
       "['The cosine distance between tweets and MVVs for CeresNews_ is 0.7489072810686933',\n",
       " 'The cosine distance between tweets and MVVs for chesapeakebay_ is 0.8670614266685107',\n",
       " 'The cosine distance between tweets and MVVs for GrowNYC_ is 0.5795961566835953',\n",
       " 'The cosine distance between tweets and MVVs for RockyMtnInst_ is 0.8359937704624576',\n",
       " 'The cosine distance between tweets and MVVs for Earthjustice_ is 0.6159488393719895',\n",
       " 'The cosine distance between tweets and MVVs for rff_ is 0.958821050012224',\n",
       " 'The cosine distance between tweets and MVVs for Waterkeeper_ is 0.896896804431227',\n",
       " 'The cosine distance between tweets and MVVs for TPWFoundation_ is 0.8555092259666036',\n",
       " 'The cosine distance between tweets and MVVs for the_sca_ is 0.6056646235341085',\n",
       " 'The cosine distance between tweets and MVVs for ClimateReality_ is 0.876801463060584']"
      ]
     },
     "execution_count": 34,
     "metadata": {},
     "output_type": "execute_result"
    }
   ],
   "source": [
    "large_values_distances"
   ]
  },
  {
   "cell_type": "code",
   "execution_count": 35,
   "metadata": {},
   "outputs": [],
   "source": [
    "#Creating a histogram to show distribution of distances between tweets and MVVs\n",
    "#Removing rest of string and just grabbing values of distances\n",
    "\n",
    "just_distances=[]\n",
    "for item in large_values_distances:\n",
    "    distance=item.split('is ')[1]\n",
    "    \n",
    "    just_distances.append(distance)\n",
    "    \n",
    "large_rounded_distances=[]\n",
    "for item in just_distances:\n",
    "    rounded=round(float(item),2)\n",
    "    large_rounded_distances.append(rounded)\n"
   ]
  },
  {
   "cell_type": "code",
   "execution_count": 36,
   "metadata": {},
   "outputs": [
    {
     "data": {
      "text/plain": [
       "(array([1., 0., 0., 0., 0., 0., 0., 1., 0., 0., 1., 0., 0., 0., 0., 0., 0.,\n",
       "        0., 0., 0., 0., 0., 0., 0., 0., 0., 0., 0., 0., 0., 0., 0., 0., 0.,\n",
       "        0., 0., 0., 0., 0., 0., 0., 0., 0., 0., 1., 0., 0., 0., 0., 0., 0.,\n",
       "        0., 0., 0., 0., 0., 0., 0., 0., 0., 0., 0., 0., 0., 0., 0., 0., 0.,\n",
       "        1., 0., 0., 0., 0., 1., 0., 0., 1., 0., 1., 0., 0., 0., 0., 0., 1.,\n",
       "        0., 0., 0., 0., 0., 0., 0., 0., 0., 0., 0., 0., 0., 0., 1.]),\n",
       " array([0.58  , 0.5838, 0.5876, 0.5914, 0.5952, 0.599 , 0.6028, 0.6066,\n",
       "        0.6104, 0.6142, 0.618 , 0.6218, 0.6256, 0.6294, 0.6332, 0.637 ,\n",
       "        0.6408, 0.6446, 0.6484, 0.6522, 0.656 , 0.6598, 0.6636, 0.6674,\n",
       "        0.6712, 0.675 , 0.6788, 0.6826, 0.6864, 0.6902, 0.694 , 0.6978,\n",
       "        0.7016, 0.7054, 0.7092, 0.713 , 0.7168, 0.7206, 0.7244, 0.7282,\n",
       "        0.732 , 0.7358, 0.7396, 0.7434, 0.7472, 0.751 , 0.7548, 0.7586,\n",
       "        0.7624, 0.7662, 0.77  , 0.7738, 0.7776, 0.7814, 0.7852, 0.789 ,\n",
       "        0.7928, 0.7966, 0.8004, 0.8042, 0.808 , 0.8118, 0.8156, 0.8194,\n",
       "        0.8232, 0.827 , 0.8308, 0.8346, 0.8384, 0.8422, 0.846 , 0.8498,\n",
       "        0.8536, 0.8574, 0.8612, 0.865 , 0.8688, 0.8726, 0.8764, 0.8802,\n",
       "        0.884 , 0.8878, 0.8916, 0.8954, 0.8992, 0.903 , 0.9068, 0.9106,\n",
       "        0.9144, 0.9182, 0.922 , 0.9258, 0.9296, 0.9334, 0.9372, 0.941 ,\n",
       "        0.9448, 0.9486, 0.9524, 0.9562, 0.96  ]),\n",
       " <a list of 100 Patch objects>)"
      ]
     },
     "execution_count": 36,
     "metadata": {},
     "output_type": "execute_result"
    },
    {
     "data": {
      "image/png": "[encoded data removed]",
      "text/plain": [
       "<Figure size 432x288 with 1 Axes>"
      ]
     },
     "metadata": {
      "needs_background": "light"
     },
     "output_type": "display_data"
    }
   ],
   "source": [
    "# matplotlib histogram of rounded distances\n",
    "plt.hist(large_rounded_distances, \n",
    "         color = 'blue', \n",
    "         edgecolor = 'black',\n",
    "         bins = 100)"
   ]
  },
  {
   "cell_type": "code",
   "execution_count": 37,
   "metadata": {},
   "outputs": [
    {
     "name": "stdout",
     "output_type": "stream",
     "text": [
      "0.787\n",
      "0.13031116606031887\n"
     ]
    }
   ],
   "source": [
    "#Basic stats of distances\n",
    "print(np.mean(large_rounded_distances))\n",
    "print(np.std(large_rounded_distances))"
   ]
  },
  {
   "cell_type": "code",
   "execution_count": 38,
   "metadata": {},
   "outputs": [
    {
     "name": "stdout",
     "output_type": "stream",
     "text": [
      "-0.5674379198282534\n"
     ]
    }
   ],
   "source": [
    "y = np.array(large_rounded_distances)\n",
    "skewness = scipy.stats.skew(y, bias=False)\n",
    "print (skewness)"
   ]
  },
  {
   "cell_type": "markdown",
   "metadata": {},
   "source": [
    "## All organizations"
   ]
  },
  {
   "cell_type": "code",
   "execution_count": 39,
   "metadata": {},
   "outputs": [],
   "source": [
    "combined_tweets = small_tweets + medium_tweets + large_tweets\n",
    "combined_MVVs = small_MVVs + medium_MVVs + large_MVVs"
   ]
  },
  {
   "cell_type": "code",
   "execution_count": 40,
   "metadata": {},
   "outputs": [],
   "source": [
    "combined_values_distances = [] \n",
    "\n",
    "for tweets, MVV in zip(combined_tweets, combined_MVVs):\n",
    "    combined_values_distances.append(values_similarity(tweets, MVV, values_dict))"
   ]
  },
  {
   "cell_type": "code",
   "execution_count": 41,
   "metadata": {},
   "outputs": [],
   "source": [
    "#Creating a histogram to show distribution of distances between tweets and MVVs\n",
    "#Removing rest of string and just grabbing values of distances\n",
    "\n",
    "just_distances=[]\n",
    "for item in combined_values_distances:\n",
    "    distance=item.split('is ')[1]\n",
    "    \n",
    "    just_distances.append(distance)\n",
    "    \n",
    "combined_rounded_distances=[]\n",
    "for item in just_distances:\n",
    "    rounded=round(float(item),2)\n",
    "    combined_rounded_distances.append(rounded)\n"
   ]
  },
  {
   "cell_type": "code",
   "execution_count": 42,
   "metadata": {},
   "outputs": [
    {
     "data": {
      "text/plain": [
       "(array([1., 0., 0., 0., 0., 0., 0., 1., 0., 0., 1., 0., 0., 1., 0., 0., 0.,\n",
       "        0., 0., 0., 0., 1., 0., 0., 0., 0., 0., 0., 0., 0., 0., 0., 0., 0.,\n",
       "        0., 0., 1., 0., 0., 0., 0., 0., 0., 0., 2., 0., 0., 1., 0., 0., 1.,\n",
       "        0., 1., 0., 0., 1., 0., 0., 0., 0., 0., 0., 0., 1., 0., 0., 0., 0.,\n",
       "        2., 0., 0., 0., 0., 3., 0., 0., 3., 0., 3., 0., 0., 1., 0., 0., 2.,\n",
       "        0., 1., 0., 0., 0., 0., 0., 1., 0., 0., 0., 0., 0., 0., 1.]),\n",
       " array([0.58  , 0.5838, 0.5876, 0.5914, 0.5952, 0.599 , 0.6028, 0.6066,\n",
       "        0.6104, 0.6142, 0.618 , 0.6218, 0.6256, 0.6294, 0.6332, 0.637 ,\n",
       "        0.6408, 0.6446, 0.6484, 0.6522, 0.656 , 0.6598, 0.6636, 0.6674,\n",
       "        0.6712, 0.675 , 0.6788, 0.6826, 0.6864, 0.6902, 0.694 , 0.6978,\n",
       "        0.7016, 0.7054, 0.7092, 0.713 , 0.7168, 0.7206, 0.7244, 0.7282,\n",
       "        0.732 , 0.7358, 0.7396, 0.7434, 0.7472, 0.751 , 0.7548, 0.7586,\n",
       "        0.7624, 0.7662, 0.77  , 0.7738, 0.7776, 0.7814, 0.7852, 0.789 ,\n",
       "        0.7928, 0.7966, 0.8004, 0.8042, 0.808 , 0.8118, 0.8156, 0.8194,\n",
       "        0.8232, 0.827 , 0.8308, 0.8346, 0.8384, 0.8422, 0.846 , 0.8498,\n",
       "        0.8536, 0.8574, 0.8612, 0.865 , 0.8688, 0.8726, 0.8764, 0.8802,\n",
       "        0.884 , 0.8878, 0.8916, 0.8954, 0.8992, 0.903 , 0.9068, 0.9106,\n",
       "        0.9144, 0.9182, 0.922 , 0.9258, 0.9296, 0.9334, 0.9372, 0.941 ,\n",
       "        0.9448, 0.9486, 0.9524, 0.9562, 0.96  ]),\n",
       " <a list of 100 Patch objects>)"
      ]
     },
     "execution_count": 42,
     "metadata": {},
     "output_type": "execute_result"
    },
    {
     "data": {
      "image/png": "[encoded data removed]",
      "text/plain": [
       "<Figure size 432x288 with 1 Axes>"
      ]
     },
     "metadata": {
      "needs_background": "light"
     },
     "output_type": "display_data"
    }
   ],
   "source": [
    "# matplotlib histogram of rounded distances\n",
    "plt.hist(combined_rounded_distances, \n",
    "         color = 'blue', \n",
    "         edgecolor = 'black',\n",
    "         bins = 100)"
   ]
  },
  {
   "cell_type": "code",
   "execution_count": 43,
   "metadata": {},
   "outputs": [
    {
     "name": "stdout",
     "output_type": "stream",
     "text": [
      "0.808\n",
      "0.10146920715172657\n"
     ]
    }
   ],
   "source": [
    "#Basic stats of distances\n",
    "print(np.mean(combined_rounded_distances))\n",
    "print(np.std(combined_rounded_distances))"
   ]
  },
  {
   "cell_type": "code",
   "execution_count": 44,
   "metadata": {},
   "outputs": [
    {
     "name": "stdout",
     "output_type": "stream",
     "text": [
      "-0.8599122461331324\n"
     ]
    }
   ],
   "source": [
    "y = np.array(combined_rounded_distances)\n",
    "skewness = scipy.stats.skew(y, bias=False)\n",
    "print (skewness)"
   ]
  },
  {
   "cell_type": "markdown",
   "metadata": {},
   "source": [
    "## Identifying Outliers with IQR\n"
   ]
  },
  {
   "cell_type": "code",
   "execution_count": 45,
   "metadata": {},
   "outputs": [],
   "source": [
    "import seaborn as sns"
   ]
  },
  {
   "cell_type": "code",
   "execution_count": 46,
   "metadata": {},
   "outputs": [],
   "source": [
    "##Sort Data\n",
    "sort = np.sort(combined_rounded_distances)"
   ]
  },
  {
   "cell_type": "code",
   "execution_count": 48,
   "metadata": {},
   "outputs": [],
   "source": [
    "##Calculating quartiles\n",
    "\n",
    "Q1 = np.percentile(sort, 25, interpolation = 'midpoint')\n",
    "Q2 = np.percentile(sort, 50, interpolation = 'midpoint')\n",
    "Q3 = np.percentile(sort, 75, interpolation = 'midpoint')"
   ]
  },
  {
   "cell_type": "code",
   "execution_count": 52,
   "metadata": {},
   "outputs": [
    {
     "name": "stdout",
     "output_type": "stream",
     "text": [
      "0.125\n"
     ]
    }
   ],
   "source": [
    "##Calculate IQR\n",
    "\n",
    "IQR = Q3 - Q1\n",
    "print(IQR)"
   ]
  },
  {
   "cell_type": "code",
   "execution_count": 53,
   "metadata": {},
   "outputs": [
    {
     "name": "stdout",
     "output_type": "stream",
     "text": [
      "The lower limit for outliers is 0.5675\n",
      "The upper limit for outliers is 1.0675\n"
     ]
    }
   ],
   "source": [
    "##Lower limit and upper limit\n",
    "\n",
    "low_lim = Q1 - 1.5 * IQR\n",
    "up_lim = Q3 + 1.5 * IQR\n",
    "\n",
    "print(\"The lower limit for outliers is\" + \" \" + str(low_lim))\n",
    "print(\"The upper limit for outliers is\" + \" \" + str(up_lim))"
   ]
  },
  {
   "cell_type": "code",
   "execution_count": 57,
   "metadata": {},
   "outputs": [
    {
     "data": {
      "text/plain": [
       "0.88"
      ]
     },
     "execution_count": 57,
     "metadata": {},
     "output_type": "execute_result"
    }
   ],
   "source": [
    "Q3"
   ]
  },
  {
   "cell_type": "markdown",
   "metadata": {},
   "source": [
    "Using these limits, there are no outliers. However, the lowest 25% of data would be anything .755 and under. The highest 25% would be .88 and above. This can be used to discuss the lowest similarities"
   ]
  }
 ],
 "metadata": {
  "kernelspec": {
   "display_name": "Python 3",
   "language": "python",
   "name": "python3"
  },
  "language_info": {
   "codemirror_mode": {
    "name": "ipython",
    "version": 3
   },
   "file_extension": ".py",
   "mimetype": "text/x-python",
   "name": "python",
   "nbconvert_exporter": "python",
   "pygments_lexer": "ipython3",
   "version": "3.7.6"
  }
 },
 "nbformat": 4,
 "nbformat_minor": 4
}
