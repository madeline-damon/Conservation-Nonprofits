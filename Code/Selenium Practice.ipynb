{
 "cells": [
  {
   "cell_type": "code",
   "execution_count": 1,
   "metadata": {},
   "outputs": [],
   "source": [
    "from selenium import webdriver\n",
    "import webdriver_manager\n",
    "from webdriver_manager.microsoft import EdgeChromiumDriverManager\n",
    "\n",
    "from selenium.webdriver.support.ui import Select\n",
    "from selenium.webdriver.common.keys import Keys\n",
    "from selenium.webdriver.support import expected_conditions as EC\n",
    "from selenium.webdriver.support.ui import WebDriverWait\n",
    "from selenium.webdriver.common.by import By\n"
   ]
  },
  {
   "cell_type": "code",
   "execution_count": 15,
   "metadata": {},
   "outputs": [
    {
     "name": "stderr",
     "output_type": "stream",
     "text": [
      "[WDM] - ====== WebDriver manager ======\n",
      "[WDM] - Driver [C:\\Users\\maddo\\.wdm\\drivers\\edgedriver\\win64\\88.0.705.81\\msedgedriver.exe] found in cache\n"
     ]
    }
   ],
   "source": [
    "##Tutorial work\n",
    "\n",
    "##Opens a new Edge browser and types in website for python\n",
    "browser = webdriver.Edge(EdgeChromiumDriverManager().install())\n",
    "browser.get(\"http://www.python.org\") #navigates to URL\n",
    "assert \"Python\" in browser.title #confirms that title has word 'Python' in it\n",
    "\n",
    "##Searches for the word 'pycon' in search bar\n",
    "elem = browser.find_element_by_name(\"q\")\n",
    "elem.clear()\n",
    "\n",
    "#Sending keys is like keys on your keyboard\n",
    "elem.send_keys(\"pycon\")\n",
    "elem.send_keys(Keys.RETURN) #press the 'return' key\n",
    "\n",
    "#Assertion makes sure that some results are found\n",
    "assert \"No results found.\" not in browser.page_source\n",
    "\n",
    "#To close browser window:\n",
    "\n",
    "browser.close()"
   ]
  },
  {
   "cell_type": "code",
   "execution_count": null,
   "metadata": {},
   "outputs": [],
   "source": [
    "# Goes to Google, types in conservation, presses return to show results\n",
    "\n",
    "browser.get(\"http://www.google.com\")\n",
    "elem = browser.find_element_by_name(\"q\")\n",
    "elem.send_keys(\"conservation\")\n",
    "elem.send_keys(Keys.RETURN)"
   ]
  },
  {
   "cell_type": "code",
   "execution_count": 6,
   "metadata": {},
   "outputs": [
    {
     "name": "stderr",
     "output_type": "stream",
     "text": [
      "[WDM] - ====== WebDriver manager ======\n",
      "[WDM] - Driver [C:\\Users\\maddo\\.wdm\\drivers\\edgedriver\\win64\\88.0.705.81\\msedgedriver.exe] found in cache\n"
     ]
    }
   ],
   "source": [
    "##Signing in to guidestar\n",
    "browser = webdriver.Edge(EdgeChromiumDriverManager().install())\n",
    "browser.get(\"http://www.guidestar.org/search\")\n",
    "\n",
    "signin= browser.find_element_by_id(\"btnNavSign\")\n",
    "\n",
    "#gets to signin page\n",
    "signin.send_keys(Keys.RETURN)\n",
    "\n",
    "#Have to sign in using separate step below because \n",
    "#Guidestar is using an extra verification step before entrance is allowed\n",
    "\n"
   ]
  },
  {
   "cell_type": "code",
   "execution_count": 7,
   "metadata": {},
   "outputs": [],
   "source": [
    "##Signing in with John's info\n",
    "\n",
    "user = browser.find_element_by_name(\"EmailAddress\")\n",
    "user.send_keys(\"john.chandler@business.umt.edu\")\n",
    "paswd = browser.find_element_by_name(\"Password\")\n",
    "paswd.send_keys(\"2541Guidestar!2541\")\n",
    "\n",
    "button= browser.find_element_by_id(\"signIn\")\n",
    "button.send_keys(Keys.RETURN)"
   ]
  },
  {
   "cell_type": "code",
   "execution_count": 28,
   "metadata": {},
   "outputs": [],
   "source": [
    "##Typing in 'Conservation' into search bar\n",
    "elem = browser.find_element_by_name(\"Keywords\")\n",
    "elem.send_keys(\"conservation\")\n",
    "\n",
    "browser.find_element_by_id(\"searchBarBtn\").click()"
   ]
  },
  {
   "cell_type": "markdown",
   "metadata": {},
   "source": [
    "## Struggling to interact with filter buttons/lists"
   ]
  },
  {
   "cell_type": "code",
   "execution_count": 30,
   "metadata": {},
   "outputs": [],
   "source": [
    "##Adding in filters\n",
    "\n",
    "#Go to organization tab\n",
    "browser.find_element_by_id(\"#aOrgStruct1\").click()\n",
    "##This successfully tabs to organization filters\n",
    "\n",
    "#Go to subject area bar\n",
    "#subject=find_element_by_id(\"pcsSubjectSection\")\n",
    "\n",
    "#Select environment\n",
    "#subject.find_element_by_id(\"token-SC000000\")\n",
    "\n",
    "# select = Select(driver.find_element_by_name('PCSSubjectOrg'))\n",
    "# select.select_by_index(index)\n",
    "# select.select_by_visible_text(\"Environment\")\n",
    "#select.select_by_value(value)\n",
    "\n",
    "# for option in browser.find_elements_by_id(\"pcsSubjectSection\"):\n",
    "#     print(option.text)\n",
    "#     if option.text == \"Environment\":\n",
    "#         option.click()\n",
    "#         print('fount it!!!')\n",
    "#         break\n",
    "        \n",
    "        \n",
    "#subject area\n",
    "# select=Select(browser.find_element_by_id(\"PCSSubjectOrg\"))\n",
    "# options=select.options"
   ]
  },
  {
   "cell_type": "markdown",
   "metadata": {},
   "source": [
    "## Background Info\n",
    "\n",
    "#How to enter text into fields\n",
    "elem = browser.find_element_by_name(\"q\")\n",
    "elem.send_keys(\"conservation\")\n"
   ]
  },
  {
   "cell_type": "markdown",
   "metadata": {},
   "source": [
    "## Relevant HTML code\n",
    "\n",
    "search bar\n",
    "\n",
    "<input type=\"text\" class=\"form-control searchButton\" accesskey=\"k\" name=\"Keywords\" id=\"Keywords\" data-mixpanel=\"Keyword- Org\" placeholder=\"Enter organization name or keyword\">\n",
    "\n",
    "for search button\n",
    "\n",
    "<button type=\"button\" id=\"searchBarBtn\" class=\"input-group-text btn searchButton\" aria-label=\"Search\"><span class=\"search-text searchButton\" aria-hidden=\"true\">Search</span></button>\n",
    "\n",
    "sign in button\n",
    "\n",
    "<a class=\"btn btn-white acct-nav-btn\" href=\"/Account/Login?returnUrl=https%3A%2F%2Fwww.guidestar.org%2Fsearch\" id=\"btnNavSign\">Sign in</a>\n",
    "\n",
    "email bar\n",
    "\n",
    "<input autocomplete=\"off\" class=\"form-control login-register-input\" data-val=\"true\" data-val-email=\"Invalid email format\" data-val-required=\"Email address is required\" id=\"emailAddress\" name=\"EmailAddress\" tabindex=\"1\" type=\"email\" value=\"\">\n",
    "\n",
    "password bar\n",
    "\n",
    "<input autocomplete=\"off\" class=\"form-control login-register-input\" data-val=\"true\" data-val-required=\"Password is required\" id=\"password\" name=\"Password\" tabindex=\"2\" type=\"password\">\n",
    "\n",
    "submit sign in\n",
    "\n",
    "\n",
    "<button id=\"signIn\" type=\"submit\" class=\"btn mt-5 btn-login-register\">Sign in</button>\n",
    "\n",
    "Organization button\n",
    "\n",
    "<a class=\"nav-link active\" id=\"#aOrgStruct1\" href=\"#orgStructure\" data-toggle=\"tab\" aria-controls=\"orgStructure\" role=\"tab\" aria-selected=\"true\">Organization</a>\n",
    "\n",
    "Subject area list\n",
    "\n",
    "<div id=\"pcsSubjectSection\" class=\"collapse\" aria-labell\n",
    "            \n",
    "<input type=\"text\" placeholder=\"Enter subject area\" id=\"PCSSubjectOrg\" name=\"PCSSubjectOrg\" data-treeid=\"#pcs-subject\" data-facet=\"subject\" class=\"pcs-text upsell-disable \">\n",
    "\n",
    "Environment option\n",
    "\n",
    "<li class=\"search-choice pcs-choice\" id=\"token-SC000000\"><span><p class=\"pcs-dropdown-entry\"><span>Environment</span></p></span><a class=\"search-choice-close\" data-option-array-index=\"1\"></a></li>\n",
    "\n",
    "exclusions header\n",
    "<div class=\"card-header px-2 py-3\" id=\"specificExclusionSectionHeader\">\n",
    "        <p class=\"mb-0 accordion-header unlocked\">\n",
    "          <span class=\"uppercase\">Specific exclusion</span>\n",
    "            <i class=\"material-icons float-right collapse-icon\" data-toggle=\"collapse\" data-target=\"#specificExclusionSection\" aria-expanded=\"true\" aria-controls=\"specificExclusionSection\">remove</i>\n",
    "        </p>\n",
    "      </div>\n",
    "\n",
    "Exclude defunct orgs\n",
    "<input id=\"defunctMerged\" type=\"checkbox\" name=\"BlackListExclusion\" value=\"defunctMergedFilter\" data-mixpanel=\"Org- Exclusion\" class=\"upsell-disable  \" aria-label=\"Exclude defunct or merged organizations\">\n",
    "\n",
    "Exclude revoked orgs\n",
    "\n",
    "<input id=\"revoked\" type=\"checkbox\" name=\"RevocationFTFExclusion\" value=\"revokedFilter\" data-mixpanel=\"Org- Exclusion\" class=\"upsell-disable  \" aria-label=\"Exclude revoked organizations\">\n",
    "\n"
   ]
  }
 ],
 "metadata": {
  "kernelspec": {
   "display_name": "Python 3",
   "language": "python",
   "name": "python3"
  },
  "language_info": {
   "codemirror_mode": {
    "name": "ipython",
    "version": 3
   },
   "file_extension": ".py",
   "mimetype": "text/x-python",
   "name": "python",
   "nbconvert_exporter": "python",
   "pygments_lexer": "ipython3",
   "version": "3.7.6"
  }
 },
 "nbformat": 4,
 "nbformat_minor": 4
}
