{
 "cells": [
  {
   "cell_type": "markdown",
   "metadata": {},
   "source": [
    "# Schwartz basic human values and synonyms"
   ]
  },
  {
   "cell_type": "markdown",
   "metadata": {},
   "source": [
    "I want to compare conservation nonprofit mission, vision, and values as well as social media content (via Tweets) to the Schwartz values theory, which suggests there are ten basic values in society: self-direction, stimulation, hedonism, achievement, power, security, tradition, conformity, benevolence, and universalism.\n",
    "\n",
    "Jones et al. (2018) use these values in their paper, \"Liberal and Conservative Values: What We Can Learn from Congressional Tweets.\" In order to analyze the values embedded in the tweets of Congress members, they created a list of synonyms for each of the ten values and removed any that could belong in multiple value categories. To account for language on social media, they also sorted the most common words Congress members used in tweets and validated which category they belonged in by asking independent raters to sort language into each of the ten values.\n",
    "\n",
    "Below, my goal is to read in these synonyms, clean them, and create a dictionary that I can base analyses of mission/vision/values and tweets off of. I will also use wordnet in Python to generate additional synonyms to build up the value synonym dictionary."
   ]
  },
  {
   "cell_type": "code",
   "execution_count": 1,
   "metadata": {},
   "outputs": [],
   "source": [
    "import nltk\n",
    "\n",
    "from nltk.corpus import stopwords,wordnet\n"
   ]
  },
  {
   "cell_type": "markdown",
   "metadata": {},
   "source": [
    "By looking at the Jones et al. (2018) paper, I already copied and pasted their original list of synonyms and saved them in text files labelled with the values they represent. You can see that the text file has all the synonyms in it. Below, I will use the text files to create a dictionary of synonyms for each value"
   ]
  },
  {
   "cell_type": "code",
   "execution_count": 2,
   "metadata": {},
   "outputs": [],
   "source": [
    "##Storing all text files in a list\n",
    "values_files = [\"achievement.txt\",\n",
    "                \"benevolence.txt\",\n",
    "                \"conformity.txt\",\n",
    "                \"hedonism.txt\",\n",
    "                \"power.txt\",\n",
    "                \"security.txt\",\n",
    "                \"self_direction.txt\",\n",
    "                \"stimulation.txt\",\n",
    "                \"tradition.txt\",\n",
    "                \"universalism.txt\"]"
   ]
  },
  {
   "cell_type": "code",
   "execution_count": 3,
   "metadata": {},
   "outputs": [],
   "source": [
    "##Creating a dictionary to store words from text files\n",
    "values_dict = dict()"
   ]
  },
  {
   "cell_type": "code",
   "execution_count": 4,
   "metadata": {},
   "outputs": [],
   "source": [
    "for file in values_files: #For each text file\n",
    "    with open(file, \"r\", encoding = \"Latin-1\") as infile: #Read in and tokenize the file\n",
    "        key=file.replace(\".txt\", \"\")\n",
    "        words=infile.read()\n",
    "\n",
    "        tokens=nltk.word_tokenize(words)\n",
    "\n",
    "\n",
    "        values_dict[key] = set(t for t in tokens if t.isalpha()) #Add the list of synonyms into the dictionary using the overarching value as the key"
   ]
  },
  {
   "cell_type": "code",
   "execution_count": 5,
   "metadata": {},
   "outputs": [
    {
     "data": {
      "text/plain": [
       "{'accomplish',\n",
       " 'accomplished',\n",
       " 'accomplishes',\n",
       " 'accomplishing',\n",
       " 'accomplishment',\n",
       " 'achieve',\n",
       " 'achieved',\n",
       " 'achievement',\n",
       " 'achieves',\n",
       " 'achieving',\n",
       " 'advance',\n",
       " 'advanced',\n",
       " 'advances',\n",
       " 'advancing',\n",
       " 'ambition',\n",
       " 'ambitions',\n",
       " 'ambitious',\n",
       " 'attain',\n",
       " 'attained',\n",
       " 'attaining',\n",
       " 'attainment',\n",
       " 'attains',\n",
       " 'beat',\n",
       " 'beating',\n",
       " 'beats',\n",
       " 'benefit',\n",
       " 'best',\n",
       " 'brainy',\n",
       " 'bright',\n",
       " 'brilliant',\n",
       " 'capabilities',\n",
       " 'capability',\n",
       " 'capable',\n",
       " 'champion',\n",
       " 'championed',\n",
       " 'champions',\n",
       " 'championship',\n",
       " 'competence',\n",
       " 'competent',\n",
       " 'complete',\n",
       " 'completed',\n",
       " 'completes',\n",
       " 'completing',\n",
       " 'completion',\n",
       " 'congrats',\n",
       " 'congratulations',\n",
       " 'develop',\n",
       " 'developed',\n",
       " 'developing',\n",
       " 'development',\n",
       " 'develops',\n",
       " 'diploma',\n",
       " 'efficient',\n",
       " 'excel',\n",
       " 'excelled',\n",
       " 'excellent',\n",
       " 'excelling',\n",
       " 'excels',\n",
       " 'finish',\n",
       " 'finished',\n",
       " 'finishes',\n",
       " 'finishing',\n",
       " 'fruition',\n",
       " 'fulfillment',\n",
       " 'gain',\n",
       " 'gained',\n",
       " 'gaining',\n",
       " 'gains',\n",
       " 'goal',\n",
       " 'goals',\n",
       " 'graduate',\n",
       " 'graduated',\n",
       " 'graduates',\n",
       " 'graduating',\n",
       " 'graduation',\n",
       " 'greatest',\n",
       " 'growth',\n",
       " 'impress',\n",
       " 'impressed',\n",
       " 'impresses',\n",
       " 'impressing',\n",
       " 'impressive',\n",
       " 'improve',\n",
       " 'improved',\n",
       " 'improvement',\n",
       " 'improvements',\n",
       " 'improves',\n",
       " 'improving',\n",
       " 'influence',\n",
       " 'influenced',\n",
       " 'influencing',\n",
       " 'influential',\n",
       " 'intelligent',\n",
       " 'medal',\n",
       " 'medals',\n",
       " 'objective',\n",
       " 'objectives',\n",
       " 'outstanding',\n",
       " 'overcame',\n",
       " 'overcome',\n",
       " 'overcomes',\n",
       " 'overcoming',\n",
       " 'perfect',\n",
       " 'perfection',\n",
       " 'prevail',\n",
       " 'prevailed',\n",
       " 'prevailing',\n",
       " 'prevails',\n",
       " 'productive',\n",
       " 'proficient',\n",
       " 'progress',\n",
       " 'progressed',\n",
       " 'progresses',\n",
       " 'progressing',\n",
       " 'progressive',\n",
       " 'prosperity',\n",
       " 'prosperous',\n",
       " 'qualification',\n",
       " 'qualifications',\n",
       " 'qualified',\n",
       " 'qualifies',\n",
       " 'qualify',\n",
       " 'qualifying',\n",
       " 'raise',\n",
       " 'recognition',\n",
       " 'reward',\n",
       " 'rise',\n",
       " 'rises',\n",
       " 'rose',\n",
       " 'solution',\n",
       " 'succeed',\n",
       " 'succeeded',\n",
       " 'succeeding',\n",
       " 'succeeds',\n",
       " 'success',\n",
       " 'successes',\n",
       " 'successful',\n",
       " 'successfully',\n",
       " 'triumph',\n",
       " 'triumphant',\n",
       " 'triumphed',\n",
       " 'triumphs',\n",
       " 'victories',\n",
       " 'victorious',\n",
       " 'victory',\n",
       " 'well',\n",
       " 'win',\n",
       " 'winner',\n",
       " 'winners',\n",
       " 'winning',\n",
       " 'wins',\n",
       " 'won'}"
      ]
     },
     "execution_count": 5,
     "metadata": {},
     "output_type": "execute_result"
    }
   ],
   "source": [
    "##Looking at one of the values, 'achievement'\n",
    "values_dict['achievement']"
   ]
  },
  {
   "cell_type": "markdown",
   "metadata": {},
   "source": [
    "I have created a dictionary of values and their synonyms that reflects the research of Jones et al. (2018). To expand on their list of values synonyms, I can use wordnet to search for additional synonyms and create an extended list. "
   ]
  },
  {
   "cell_type": "code",
   "execution_count": 6,
   "metadata": {},
   "outputs": [],
   "source": [
    "##How to make a list of synonyms for one word\n",
    "syn = list()\n",
    "\n",
    "for synset in wordnet.synsets(\"accomplish\"):\n",
    "    for lemma in synset.lemmas():\n",
    "        syn.append(lemma.name())    #add the synonyms\n",
    "        \n",
    "\n"
   ]
  },
  {
   "cell_type": "code",
   "execution_count": 7,
   "metadata": {},
   "outputs": [
    {
     "data": {
      "text/plain": [
       "['carry_through',\n",
       " 'accomplish',\n",
       " 'execute',\n",
       " 'carry_out',\n",
       " 'action',\n",
       " 'fulfill',\n",
       " 'fulfil',\n",
       " 'achieve',\n",
       " 'accomplish',\n",
       " 'attain',\n",
       " 'reach']"
      ]
     },
     "execution_count": 7,
     "metadata": {},
     "output_type": "execute_result"
    }
   ],
   "source": [
    "syn"
   ]
  },
  {
   "cell_type": "code",
   "execution_count": 8,
   "metadata": {},
   "outputs": [],
   "source": [
    "#Creating a new dictionary for the extended synonym list\n",
    "values_extended_dict = dict()"
   ]
  },
  {
   "cell_type": "markdown",
   "metadata": {},
   "source": [
    "Below I created a for loop that takes each word under each value in the dictionary and finds synonyms for the word. The set of synonyms are added to a new extended dictionary that used the same keys as the original dictionary."
   ]
  },
  {
   "cell_type": "code",
   "execution_count": 9,
   "metadata": {},
   "outputs": [],
   "source": [
    "for value in values_dict.keys():\n",
    "    syn=list() #Create an empty list for synonyms\n",
    "    key=value\n",
    "    for word in values_dict[value]:\n",
    "        \n",
    "        for synset in wordnet.synsets(word): #Find the synonums of each word in the dictionary\n",
    "            \n",
    "            for lemma in synset.lemmas():\n",
    "                syn.append(lemma.name())    #add the synonyms to a list\n",
    "\n",
    "\n",
    "            values_extended_dict[key] = syn #Add the list of synonyms to the extended dictionary using the key from the original dictionary\n",
    "    \n",
    "    \n",
    "    "
   ]
  },
  {
   "cell_type": "code",
   "execution_count": 10,
   "metadata": {},
   "outputs": [
    {
     "data": {
      "text/plain": [
       "False"
      ]
     },
     "execution_count": 10,
     "metadata": {},
     "output_type": "execute_result"
    }
   ],
   "source": [
    "##The below code proves that the dictionary values under key 'conformity' are in fact different between the two dictionaries\n",
    "values_extended_dict['conformity']== values_dict['conformity']"
   ]
  },
  {
   "cell_type": "code",
   "execution_count": 11,
   "metadata": {},
   "outputs": [],
   "source": [
    "#Looking at what the for loop created by inspecting the value 'conformity'\n",
    "#values_extended_dict['conformity']"
   ]
  },
  {
   "cell_type": "code",
   "execution_count": 12,
   "metadata": {},
   "outputs": [
    {
     "name": "stdout",
     "output_type": "stream",
     "text": [
      "2398\n",
      "474\n"
     ]
    }
   ],
   "source": [
    "#Are there any repeats?\n",
    "print(len(values_extended_dict['conformity']))\n",
    "      \n",
    "print(len(set(values_extended_dict['conformity'])))"
   ]
  },
  {
   "cell_type": "markdown",
   "metadata": {},
   "source": [
    "When I print the values under 'conformity' to the screen, you can see that there is a large list of synonyms. Now, I need to clean up these synonyms by making a set of each value. While there are a ton of synonyms, a lot of them are repeats. Then, I will write each value to a new text file. "
   ]
  },
  {
   "cell_type": "code",
   "execution_count": 13,
   "metadata": {},
   "outputs": [],
   "source": [
    "\n",
    "for value in values_extended_dict.keys(): #For each value in the dictionary\n",
    "    \n",
    "    syn_unique = list(set(values_extended_dict[value])) #Create a unique set of values synonyms\n",
    "        \n",
    "    with open(f'{value}_synonyms.txt','w', encoding='utf-8') as out_file:  #Write them to a text file\n",
    "\n",
    "        out_file.write(\"\\t\".join(syn_unique))\n"
   ]
  },
  {
   "cell_type": "markdown",
   "metadata": {},
   "source": [
    "I have written 10 new text files named after each value they represent."
   ]
  },
  {
   "cell_type": "code",
   "execution_count": 14,
   "metadata": {},
   "outputs": [
    {
     "name": "stdout",
     "output_type": "stream",
     "text": [
      "The length of {'achievement'} synonyms is 747\n",
      "The length of {'benevolence'} synonyms is 367\n",
      "The length of {'conformity'} synonyms is 474\n",
      "The length of {'hedonism'} synonyms is 383\n",
      "The length of {'power'} synonyms is 650\n",
      "The length of {'security'} synonyms is 697\n",
      "The length of {'self_direction'} synonyms is 593\n",
      "The length of {'stimulation'} synonyms is 539\n",
      "The length of {'tradition'} synonyms is 321\n",
      "The length of {'universalism'} synonyms is 340\n"
     ]
    }
   ],
   "source": [
    "##How long is each set of synonyms?\n",
    "for value in values_extended_dict.keys():\n",
    "    print(\"The length of\" + \" \" + str({value}) + \" \" + \"synonyms is\" + \" \" + str(len(set(values_extended_dict[value]))))"
   ]
  },
  {
   "cell_type": "markdown",
   "metadata": {},
   "source": [
    "There is a fairly big difference between the sizes of synonym lists. \"Achievement\" has the most unique words at 747 words, and \"tradition\" only has 321 words. "
   ]
  },
  {
   "cell_type": "markdown",
   "metadata": {},
   "source": [
    "Paper that I based my values dictionary and methods on:\n",
    "\n",
    "Jones, K. L., Noorbaloochi, S., Jost, J. T., Bonneau, R., Nagler, J., & Tucker, J. A. (2018). Liberal and conservative values: What we can learn from congressional tweets. Political Psychology, 39(2), 423-443."
   ]
  }
 ],
 "metadata": {
  "kernelspec": {
   "display_name": "Python 3",
   "language": "python",
   "name": "python3"
  },
  "language_info": {
   "codemirror_mode": {
    "name": "ipython",
    "version": 3
   },
   "file_extension": ".py",
   "mimetype": "text/x-python",
   "name": "python",
   "nbconvert_exporter": "python",
   "pygments_lexer": "ipython3",
   "version": "3.7.6"
  }
 },
 "nbformat": 4,
 "nbformat_minor": 4
}
